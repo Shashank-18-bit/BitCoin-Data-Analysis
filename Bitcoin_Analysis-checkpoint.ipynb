{
 "cells": [
  {
   "cell_type": "markdown",
   "id": "80390b41",
   "metadata": {},
   "source": [
    "Reading Data and Performing basic Analysis"
   ]
  },
  {
   "cell_type": "code",
   "execution_count": 1,
   "id": "0a7a42a3",
   "metadata": {},
   "outputs": [],
   "source": [
    "import pandas as pd # data pre-processing, CSV file I/O (e.g. pd.read_csv)\n",
    "import numpy as np # import it for numerical computation on data \n",
    "import matplotlib.pyplot as plt ## data viz libraries \n",
    "import seaborn as sns"
   ]
  },
  {
   "cell_type": "code",
   "execution_count": 2,
   "id": "78b7803a",
   "metadata": {},
   "outputs": [],
   "source": [
    "df = pd.read_csv('bitcoin_price_Training - Training.csv')"
   ]
  },
  {
   "cell_type": "code",
   "execution_count": 3,
   "id": "bacce8f8",
   "metadata": {},
   "outputs": [
    {
     "data": {
      "text/html": [
       "<div>\n",
       "<style scoped>\n",
       "    .dataframe tbody tr th:only-of-type {\n",
       "        vertical-align: middle;\n",
       "    }\n",
       "\n",
       "    .dataframe tbody tr th {\n",
       "        vertical-align: top;\n",
       "    }\n",
       "\n",
       "    .dataframe thead th {\n",
       "        text-align: right;\n",
       "    }\n",
       "</style>\n",
       "<table border=\"1\" class=\"dataframe\">\n",
       "  <thead>\n",
       "    <tr style=\"text-align: right;\">\n",
       "      <th></th>\n",
       "      <th>Date</th>\n",
       "      <th>Open</th>\n",
       "      <th>High</th>\n",
       "      <th>Low</th>\n",
       "      <th>Close</th>\n",
       "      <th>Volume</th>\n",
       "      <th>Market Cap</th>\n",
       "    </tr>\n",
       "  </thead>\n",
       "  <tbody>\n",
       "    <tr>\n",
       "      <th>0</th>\n",
       "      <td>Jul 31, 2017</td>\n",
       "      <td>2763.24</td>\n",
       "      <td>2889.62</td>\n",
       "      <td>2720.61</td>\n",
       "      <td>2875.34</td>\n",
       "      <td>860,575,000</td>\n",
       "      <td>45,535,800,000</td>\n",
       "    </tr>\n",
       "    <tr>\n",
       "      <th>1</th>\n",
       "      <td>Jul 30, 2017</td>\n",
       "      <td>2724.39</td>\n",
       "      <td>2758.53</td>\n",
       "      <td>2644.85</td>\n",
       "      <td>2757.18</td>\n",
       "      <td>705,943,000</td>\n",
       "      <td>44,890,700,000</td>\n",
       "    </tr>\n",
       "    <tr>\n",
       "      <th>2</th>\n",
       "      <td>Jul 29, 2017</td>\n",
       "      <td>2807.02</td>\n",
       "      <td>2808.76</td>\n",
       "      <td>2692.80</td>\n",
       "      <td>2726.45</td>\n",
       "      <td>803,746,000</td>\n",
       "      <td>46,246,700,000</td>\n",
       "    </tr>\n",
       "    <tr>\n",
       "      <th>3</th>\n",
       "      <td>Jul 28, 2017</td>\n",
       "      <td>2679.73</td>\n",
       "      <td>2897.45</td>\n",
       "      <td>2679.73</td>\n",
       "      <td>2809.01</td>\n",
       "      <td>1,380,100,000</td>\n",
       "      <td>44,144,400,000</td>\n",
       "    </tr>\n",
       "    <tr>\n",
       "      <th>4</th>\n",
       "      <td>Jul 27, 2017</td>\n",
       "      <td>2538.71</td>\n",
       "      <td>2693.32</td>\n",
       "      <td>2529.34</td>\n",
       "      <td>2671.78</td>\n",
       "      <td>789,104,000</td>\n",
       "      <td>41,816,500,000</td>\n",
       "    </tr>\n",
       "  </tbody>\n",
       "</table>\n",
       "</div>"
      ],
      "text/plain": [
       "           Date     Open     High      Low    Close         Volume  \\\n",
       "0  Jul 31, 2017  2763.24  2889.62  2720.61  2875.34    860,575,000   \n",
       "1  Jul 30, 2017  2724.39  2758.53  2644.85  2757.18    705,943,000   \n",
       "2  Jul 29, 2017  2807.02  2808.76  2692.80  2726.45    803,746,000   \n",
       "3  Jul 28, 2017  2679.73  2897.45  2679.73  2809.01  1,380,100,000   \n",
       "4  Jul 27, 2017  2538.71  2693.32  2529.34  2671.78    789,104,000   \n",
       "\n",
       "       Market Cap  \n",
       "0  45,535,800,000  \n",
       "1  44,890,700,000  \n",
       "2  46,246,700,000  \n",
       "3  44,144,400,000  \n",
       "4  41,816,500,000  "
      ]
     },
     "execution_count": 3,
     "metadata": {},
     "output_type": "execute_result"
    }
   ],
   "source": [
    "df.head(5)"
   ]
  },
  {
   "cell_type": "code",
   "execution_count": 4,
   "id": "722bcb57",
   "metadata": {},
   "outputs": [
    {
     "data": {
      "text/plain": [
       "Index(['Date', 'Open', 'High', 'Low', 'Close', 'Volume', 'Market Cap'], dtype='object')"
      ]
     },
     "execution_count": 4,
     "metadata": {},
     "output_type": "execute_result"
    }
   ],
   "source": [
    "df.columns"
   ]
  },
  {
   "cell_type": "code",
   "execution_count": 5,
   "id": "3f29186f",
   "metadata": {},
   "outputs": [
    {
     "data": {
      "text/plain": [
       "(1556, 7)"
      ]
     },
     "execution_count": 5,
     "metadata": {},
     "output_type": "execute_result"
    }
   ],
   "source": [
    "df.shape"
   ]
  },
  {
   "cell_type": "code",
   "execution_count": 6,
   "id": "3741426f",
   "metadata": {},
   "outputs": [
    {
     "name": "stdout",
     "output_type": "stream",
     "text": [
      "<class 'pandas.core.frame.DataFrame'>\n",
      "RangeIndex: 1556 entries, 0 to 1555\n",
      "Data columns (total 7 columns):\n",
      " #   Column      Non-Null Count  Dtype  \n",
      "---  ------      --------------  -----  \n",
      " 0   Date        1556 non-null   object \n",
      " 1   Open        1556 non-null   float64\n",
      " 2   High        1556 non-null   float64\n",
      " 3   Low         1556 non-null   float64\n",
      " 4   Close       1556 non-null   float64\n",
      " 5   Volume      1556 non-null   object \n",
      " 6   Market Cap  1556 non-null   object \n",
      "dtypes: float64(4), object(3)\n",
      "memory usage: 85.2+ KB\n"
     ]
    }
   ],
   "source": [
    "df.info()"
   ]
  },
  {
   "cell_type": "code",
   "execution_count": 7,
   "id": "1f75f4e0",
   "metadata": {},
   "outputs": [
    {
     "data": {
      "text/html": [
       "<div>\n",
       "<style scoped>\n",
       "    .dataframe tbody tr th:only-of-type {\n",
       "        vertical-align: middle;\n",
       "    }\n",
       "\n",
       "    .dataframe tbody tr th {\n",
       "        vertical-align: top;\n",
       "    }\n",
       "\n",
       "    .dataframe thead th {\n",
       "        text-align: right;\n",
       "    }\n",
       "</style>\n",
       "<table border=\"1\" class=\"dataframe\">\n",
       "  <thead>\n",
       "    <tr style=\"text-align: right;\">\n",
       "      <th></th>\n",
       "      <th>count</th>\n",
       "      <th>mean</th>\n",
       "      <th>std</th>\n",
       "      <th>min</th>\n",
       "      <th>25%</th>\n",
       "      <th>50%</th>\n",
       "      <th>75%</th>\n",
       "      <th>max</th>\n",
       "    </tr>\n",
       "  </thead>\n",
       "  <tbody>\n",
       "    <tr>\n",
       "      <th>Open</th>\n",
       "      <td>1556.0</td>\n",
       "      <td>582.625328</td>\n",
       "      <td>523.137312</td>\n",
       "      <td>68.50</td>\n",
       "      <td>254.2875</td>\n",
       "      <td>438.600</td>\n",
       "      <td>662.4375</td>\n",
       "      <td>2953.22</td>\n",
       "    </tr>\n",
       "    <tr>\n",
       "      <th>High</th>\n",
       "      <td>1556.0</td>\n",
       "      <td>597.992847</td>\n",
       "      <td>542.992855</td>\n",
       "      <td>74.56</td>\n",
       "      <td>260.3275</td>\n",
       "      <td>447.560</td>\n",
       "      <td>674.5250</td>\n",
       "      <td>2999.91</td>\n",
       "    </tr>\n",
       "    <tr>\n",
       "      <th>Low</th>\n",
       "      <td>1556.0</td>\n",
       "      <td>567.851446</td>\n",
       "      <td>505.877401</td>\n",
       "      <td>65.53</td>\n",
       "      <td>248.8350</td>\n",
       "      <td>430.570</td>\n",
       "      <td>646.7350</td>\n",
       "      <td>2840.53</td>\n",
       "    </tr>\n",
       "    <tr>\n",
       "      <th>Close</th>\n",
       "      <td>1556.0</td>\n",
       "      <td>584.239396</td>\n",
       "      <td>525.904442</td>\n",
       "      <td>68.43</td>\n",
       "      <td>254.3200</td>\n",
       "      <td>438.855</td>\n",
       "      <td>663.4025</td>\n",
       "      <td>2958.11</td>\n",
       "    </tr>\n",
       "  </tbody>\n",
       "</table>\n",
       "</div>"
      ],
      "text/plain": [
       "        count        mean         std    min       25%      50%       75%  \\\n",
       "Open   1556.0  582.625328  523.137312  68.50  254.2875  438.600  662.4375   \n",
       "High   1556.0  597.992847  542.992855  74.56  260.3275  447.560  674.5250   \n",
       "Low    1556.0  567.851446  505.877401  65.53  248.8350  430.570  646.7350   \n",
       "Close  1556.0  584.239396  525.904442  68.43  254.3200  438.855  663.4025   \n",
       "\n",
       "           max  \n",
       "Open   2953.22  \n",
       "High   2999.91  \n",
       "Low    2840.53  \n",
       "Close  2958.11  "
      ]
     },
     "execution_count": 7,
     "metadata": {},
     "output_type": "execute_result"
    }
   ],
   "source": [
    "df.describe().T"
   ]
  },
  {
   "cell_type": "code",
   "execution_count": null,
   "id": "cb9abd1e",
   "metadata": {},
   "outputs": [],
   "source": []
  },
  {
   "cell_type": "markdown",
   "id": "8af13943",
   "metadata": {},
   "source": [
    "Doing Data Pre-processing !\n",
    "       \n",
    "        "
   ]
  },
  {
   "cell_type": "code",
   "execution_count": 8,
   "id": "d07f71f6",
   "metadata": {},
   "outputs": [
    {
     "data": {
      "text/plain": [
       "Date           object\n",
       "Open          float64\n",
       "High          float64\n",
       "Low           float64\n",
       "Close         float64\n",
       "Volume         object\n",
       "Market Cap     object\n",
       "dtype: object"
      ]
     },
     "execution_count": 8,
     "metadata": {},
     "output_type": "execute_result"
    }
   ],
   "source": [
    "df.dtypes"
   ]
  },
  {
   "cell_type": "code",
   "execution_count": null,
   "id": "1092a177",
   "metadata": {},
   "outputs": [],
   "source": []
  },
  {
   "cell_type": "code",
   "execution_count": 9,
   "id": "5d723662",
   "metadata": {},
   "outputs": [],
   "source": [
    "### convert feature into date-time\n",
    "\n",
    "df['Date'] = df['Date'].astype('datetime64[ns]')\n",
    "\n"
   ]
  },
  {
   "cell_type": "code",
   "execution_count": 10,
   "id": "4c1bf7bf",
   "metadata": {},
   "outputs": [
    {
     "data": {
      "text/plain": [
       "Timestamp('2013-04-28 00:00:00')"
      ]
     },
     "execution_count": 10,
     "metadata": {},
     "output_type": "execute_result"
    }
   ],
   "source": [
    "df['Date'].min()"
   ]
  },
  {
   "cell_type": "code",
   "execution_count": 11,
   "id": "5b6c04de",
   "metadata": {},
   "outputs": [
    {
     "data": {
      "text/plain": [
       "Timestamp('2017-07-31 00:00:00')"
      ]
     },
     "execution_count": 11,
     "metadata": {},
     "output_type": "execute_result"
    }
   ],
   "source": [
    "df['Date'].max()"
   ]
  },
  {
   "cell_type": "code",
   "execution_count": null,
   "id": "ba1b209f",
   "metadata": {},
   "outputs": [],
   "source": []
  },
  {
   "cell_type": "code",
   "execution_count": 12,
   "id": "b148b109",
   "metadata": {},
   "outputs": [
    {
     "data": {
      "text/plain": [
       "0      2017-07-31\n",
       "1      2017-07-30\n",
       "2      2017-07-29\n",
       "3      2017-07-28\n",
       "4      2017-07-27\n",
       "          ...    \n",
       "1551   2013-05-02\n",
       "1552   2013-05-01\n",
       "1553   2013-04-30\n",
       "1554   2013-04-29\n",
       "1555   2013-04-28\n",
       "Name: Date, Length: 1556, dtype: datetime64[ns]"
      ]
     },
     "execution_count": 12,
     "metadata": {},
     "output_type": "execute_result"
    }
   ],
   "source": [
    "df['Date']\n",
    "\n"
   ]
  },
  {
   "cell_type": "code",
   "execution_count": 13,
   "id": "2229c599",
   "metadata": {},
   "outputs": [
    {
     "data": {
      "text/plain": [
       "pandas._libs.tslibs.timestamps.Timestamp"
      ]
     },
     "execution_count": 13,
     "metadata": {},
     "output_type": "execute_result"
    }
   ],
   "source": [
    "type(df['Date'][0])\n",
    "\n",
    "### ie Timestamp is a Scaler Class .."
   ]
  },
  {
   "cell_type": "code",
   "execution_count": 14,
   "id": "e11cb654",
   "metadata": {},
   "outputs": [
    {
     "data": {
      "text/plain": [
       "Date          0\n",
       "Open          0\n",
       "High          0\n",
       "Low           0\n",
       "Close         0\n",
       "Volume        0\n",
       "Market Cap    0\n",
       "dtype: int64"
      ]
     },
     "execution_count": 14,
     "metadata": {},
     "output_type": "execute_result"
    }
   ],
   "source": [
    "df.isnull().sum() ## check whether we have missing value or not !"
   ]
  },
  {
   "cell_type": "code",
   "execution_count": null,
   "id": "0e33d473",
   "metadata": {},
   "outputs": [],
   "source": []
  },
  {
   "cell_type": "code",
   "execution_count": 15,
   "id": "c7cec482",
   "metadata": {},
   "outputs": [
    {
     "data": {
      "text/plain": [
       "0"
      ]
     },
     "execution_count": 15,
     "metadata": {},
     "output_type": "execute_result"
    }
   ],
   "source": [
    "df.duplicated().sum() "
   ]
  },
  {
   "cell_type": "markdown",
   "id": "18366752",
   "metadata": {},
   "source": [
    "#### Sorting the dataset from oldest to recent"
   ]
  },
  {
   "cell_type": "code",
   "execution_count": 16,
   "id": "34345d1b",
   "metadata": {},
   "outputs": [
    {
     "data": {
      "text/html": [
       "<div>\n",
       "<style scoped>\n",
       "    .dataframe tbody tr th:only-of-type {\n",
       "        vertical-align: middle;\n",
       "    }\n",
       "\n",
       "    .dataframe tbody tr th {\n",
       "        vertical-align: top;\n",
       "    }\n",
       "\n",
       "    .dataframe thead th {\n",
       "        text-align: right;\n",
       "    }\n",
       "</style>\n",
       "<table border=\"1\" class=\"dataframe\">\n",
       "  <thead>\n",
       "    <tr style=\"text-align: right;\">\n",
       "      <th></th>\n",
       "      <th>Date</th>\n",
       "      <th>Open</th>\n",
       "      <th>High</th>\n",
       "      <th>Low</th>\n",
       "      <th>Close</th>\n",
       "      <th>Volume</th>\n",
       "      <th>Market Cap</th>\n",
       "    </tr>\n",
       "  </thead>\n",
       "  <tbody>\n",
       "    <tr>\n",
       "      <th>0</th>\n",
       "      <td>2017-07-31</td>\n",
       "      <td>2763.24</td>\n",
       "      <td>2889.62</td>\n",
       "      <td>2720.61</td>\n",
       "      <td>2875.34</td>\n",
       "      <td>860,575,000</td>\n",
       "      <td>45,535,800,000</td>\n",
       "    </tr>\n",
       "    <tr>\n",
       "      <th>1</th>\n",
       "      <td>2017-07-30</td>\n",
       "      <td>2724.39</td>\n",
       "      <td>2758.53</td>\n",
       "      <td>2644.85</td>\n",
       "      <td>2757.18</td>\n",
       "      <td>705,943,000</td>\n",
       "      <td>44,890,700,000</td>\n",
       "    </tr>\n",
       "    <tr>\n",
       "      <th>2</th>\n",
       "      <td>2017-07-29</td>\n",
       "      <td>2807.02</td>\n",
       "      <td>2808.76</td>\n",
       "      <td>2692.80</td>\n",
       "      <td>2726.45</td>\n",
       "      <td>803,746,000</td>\n",
       "      <td>46,246,700,000</td>\n",
       "    </tr>\n",
       "    <tr>\n",
       "      <th>3</th>\n",
       "      <td>2017-07-28</td>\n",
       "      <td>2679.73</td>\n",
       "      <td>2897.45</td>\n",
       "      <td>2679.73</td>\n",
       "      <td>2809.01</td>\n",
       "      <td>1,380,100,000</td>\n",
       "      <td>44,144,400,000</td>\n",
       "    </tr>\n",
       "  </tbody>\n",
       "</table>\n",
       "</div>"
      ],
      "text/plain": [
       "        Date     Open     High      Low    Close         Volume  \\\n",
       "0 2017-07-31  2763.24  2889.62  2720.61  2875.34    860,575,000   \n",
       "1 2017-07-30  2724.39  2758.53  2644.85  2757.18    705,943,000   \n",
       "2 2017-07-29  2807.02  2808.76  2692.80  2726.45    803,746,000   \n",
       "3 2017-07-28  2679.73  2897.45  2679.73  2809.01  1,380,100,000   \n",
       "\n",
       "       Market Cap  \n",
       "0  45,535,800,000  \n",
       "1  44,890,700,000  \n",
       "2  46,246,700,000  \n",
       "3  44,144,400,000  "
      ]
     },
     "execution_count": 16,
     "metadata": {},
     "output_type": "execute_result"
    }
   ],
   "source": [
    "df.head(4)"
   ]
  },
  {
   "cell_type": "code",
   "execution_count": 17,
   "id": "2e61bca8",
   "metadata": {},
   "outputs": [
    {
     "data": {
      "text/html": [
       "<div>\n",
       "<style scoped>\n",
       "    .dataframe tbody tr th:only-of-type {\n",
       "        vertical-align: middle;\n",
       "    }\n",
       "\n",
       "    .dataframe tbody tr th {\n",
       "        vertical-align: top;\n",
       "    }\n",
       "\n",
       "    .dataframe thead th {\n",
       "        text-align: right;\n",
       "    }\n",
       "</style>\n",
       "<table border=\"1\" class=\"dataframe\">\n",
       "  <thead>\n",
       "    <tr style=\"text-align: right;\">\n",
       "      <th></th>\n",
       "      <th>Date</th>\n",
       "      <th>Open</th>\n",
       "      <th>High</th>\n",
       "      <th>Low</th>\n",
       "      <th>Close</th>\n",
       "      <th>Volume</th>\n",
       "      <th>Market Cap</th>\n",
       "    </tr>\n",
       "  </thead>\n",
       "  <tbody>\n",
       "    <tr>\n",
       "      <th>1549</th>\n",
       "      <td>2013-05-04</td>\n",
       "      <td>98.10</td>\n",
       "      <td>115.00</td>\n",
       "      <td>92.50</td>\n",
       "      <td>112.50</td>\n",
       "      <td>-</td>\n",
       "      <td>1,089,890,000</td>\n",
       "    </tr>\n",
       "    <tr>\n",
       "      <th>1550</th>\n",
       "      <td>2013-05-03</td>\n",
       "      <td>106.25</td>\n",
       "      <td>108.13</td>\n",
       "      <td>79.10</td>\n",
       "      <td>97.75</td>\n",
       "      <td>-</td>\n",
       "      <td>1,180,070,000</td>\n",
       "    </tr>\n",
       "    <tr>\n",
       "      <th>1551</th>\n",
       "      <td>2013-05-02</td>\n",
       "      <td>116.38</td>\n",
       "      <td>125.60</td>\n",
       "      <td>92.28</td>\n",
       "      <td>105.21</td>\n",
       "      <td>-</td>\n",
       "      <td>1,292,190,000</td>\n",
       "    </tr>\n",
       "    <tr>\n",
       "      <th>1552</th>\n",
       "      <td>2013-05-01</td>\n",
       "      <td>139.00</td>\n",
       "      <td>139.89</td>\n",
       "      <td>107.72</td>\n",
       "      <td>116.99</td>\n",
       "      <td>-</td>\n",
       "      <td>1,542,820,000</td>\n",
       "    </tr>\n",
       "    <tr>\n",
       "      <th>1553</th>\n",
       "      <td>2013-04-30</td>\n",
       "      <td>144.00</td>\n",
       "      <td>146.93</td>\n",
       "      <td>134.05</td>\n",
       "      <td>139.00</td>\n",
       "      <td>-</td>\n",
       "      <td>1,597,780,000</td>\n",
       "    </tr>\n",
       "    <tr>\n",
       "      <th>1554</th>\n",
       "      <td>2013-04-29</td>\n",
       "      <td>134.44</td>\n",
       "      <td>147.49</td>\n",
       "      <td>134.00</td>\n",
       "      <td>144.54</td>\n",
       "      <td>-</td>\n",
       "      <td>1,491,160,000</td>\n",
       "    </tr>\n",
       "    <tr>\n",
       "      <th>1555</th>\n",
       "      <td>2013-04-28</td>\n",
       "      <td>135.30</td>\n",
       "      <td>135.98</td>\n",
       "      <td>132.10</td>\n",
       "      <td>134.21</td>\n",
       "      <td>-</td>\n",
       "      <td>1,500,520,000</td>\n",
       "    </tr>\n",
       "  </tbody>\n",
       "</table>\n",
       "</div>"
      ],
      "text/plain": [
       "           Date    Open    High     Low   Close Volume     Market Cap\n",
       "1549 2013-05-04   98.10  115.00   92.50  112.50      -  1,089,890,000\n",
       "1550 2013-05-03  106.25  108.13   79.10   97.75      -  1,180,070,000\n",
       "1551 2013-05-02  116.38  125.60   92.28  105.21      -  1,292,190,000\n",
       "1552 2013-05-01  139.00  139.89  107.72  116.99      -  1,542,820,000\n",
       "1553 2013-04-30  144.00  146.93  134.05  139.00      -  1,597,780,000\n",
       "1554 2013-04-29  134.44  147.49  134.00  144.54      -  1,491,160,000\n",
       "1555 2013-04-28  135.30  135.98  132.10  134.21      -  1,500,520,000"
      ]
     },
     "execution_count": 17,
     "metadata": {},
     "output_type": "execute_result"
    }
   ],
   "source": [
    "df.tail(7)"
   ]
  },
  {
   "cell_type": "code",
   "execution_count": 18,
   "id": "614ed732",
   "metadata": {},
   "outputs": [],
   "source": [
    "data = df.sort_index(ascending=False).reset_index()"
   ]
  },
  {
   "cell_type": "code",
   "execution_count": null,
   "id": "8caafc35",
   "metadata": {},
   "outputs": [],
   "source": []
  },
  {
   "cell_type": "code",
   "execution_count": null,
   "id": "a8158b67",
   "metadata": {},
   "outputs": [],
   "source": []
  },
  {
   "cell_type": "markdown",
   "id": "62a589af",
   "metadata": {},
   "source": [
    " # Analysing change in price of the stock overtime?"
   ]
  },
  {
   "cell_type": "code",
   "execution_count": 19,
   "id": "8cfa8673",
   "metadata": {},
   "outputs": [],
   "source": [
    "data.drop('index' , axis=1 , inplace=True)"
   ]
  },
  {
   "cell_type": "code",
   "execution_count": 20,
   "id": "34069285",
   "metadata": {},
   "outputs": [
    {
     "data": {
      "text/html": [
       "<div>\n",
       "<style scoped>\n",
       "    .dataframe tbody tr th:only-of-type {\n",
       "        vertical-align: middle;\n",
       "    }\n",
       "\n",
       "    .dataframe tbody tr th {\n",
       "        vertical-align: top;\n",
       "    }\n",
       "\n",
       "    .dataframe thead th {\n",
       "        text-align: right;\n",
       "    }\n",
       "</style>\n",
       "<table border=\"1\" class=\"dataframe\">\n",
       "  <thead>\n",
       "    <tr style=\"text-align: right;\">\n",
       "      <th></th>\n",
       "      <th>Date</th>\n",
       "      <th>Open</th>\n",
       "      <th>High</th>\n",
       "      <th>Low</th>\n",
       "      <th>Close</th>\n",
       "      <th>Volume</th>\n",
       "      <th>Market Cap</th>\n",
       "    </tr>\n",
       "  </thead>\n",
       "  <tbody>\n",
       "    <tr>\n",
       "      <th>0</th>\n",
       "      <td>2013-04-28</td>\n",
       "      <td>135.30</td>\n",
       "      <td>135.98</td>\n",
       "      <td>132.10</td>\n",
       "      <td>134.21</td>\n",
       "      <td>-</td>\n",
       "      <td>1,500,520,000</td>\n",
       "    </tr>\n",
       "    <tr>\n",
       "      <th>1</th>\n",
       "      <td>2013-04-29</td>\n",
       "      <td>134.44</td>\n",
       "      <td>147.49</td>\n",
       "      <td>134.00</td>\n",
       "      <td>144.54</td>\n",
       "      <td>-</td>\n",
       "      <td>1,491,160,000</td>\n",
       "    </tr>\n",
       "    <tr>\n",
       "      <th>2</th>\n",
       "      <td>2013-04-30</td>\n",
       "      <td>144.00</td>\n",
       "      <td>146.93</td>\n",
       "      <td>134.05</td>\n",
       "      <td>139.00</td>\n",
       "      <td>-</td>\n",
       "      <td>1,597,780,000</td>\n",
       "    </tr>\n",
       "    <tr>\n",
       "      <th>3</th>\n",
       "      <td>2013-05-01</td>\n",
       "      <td>139.00</td>\n",
       "      <td>139.89</td>\n",
       "      <td>107.72</td>\n",
       "      <td>116.99</td>\n",
       "      <td>-</td>\n",
       "      <td>1,542,820,000</td>\n",
       "    </tr>\n",
       "    <tr>\n",
       "      <th>4</th>\n",
       "      <td>2013-05-02</td>\n",
       "      <td>116.38</td>\n",
       "      <td>125.60</td>\n",
       "      <td>92.28</td>\n",
       "      <td>105.21</td>\n",
       "      <td>-</td>\n",
       "      <td>1,292,190,000</td>\n",
       "    </tr>\n",
       "    <tr>\n",
       "      <th>...</th>\n",
       "      <td>...</td>\n",
       "      <td>...</td>\n",
       "      <td>...</td>\n",
       "      <td>...</td>\n",
       "      <td>...</td>\n",
       "      <td>...</td>\n",
       "      <td>...</td>\n",
       "    </tr>\n",
       "    <tr>\n",
       "      <th>1551</th>\n",
       "      <td>2017-07-27</td>\n",
       "      <td>2538.71</td>\n",
       "      <td>2693.32</td>\n",
       "      <td>2529.34</td>\n",
       "      <td>2671.78</td>\n",
       "      <td>789,104,000</td>\n",
       "      <td>41,816,500,000</td>\n",
       "    </tr>\n",
       "    <tr>\n",
       "      <th>1552</th>\n",
       "      <td>2017-07-28</td>\n",
       "      <td>2679.73</td>\n",
       "      <td>2897.45</td>\n",
       "      <td>2679.73</td>\n",
       "      <td>2809.01</td>\n",
       "      <td>1,380,100,000</td>\n",
       "      <td>44,144,400,000</td>\n",
       "    </tr>\n",
       "    <tr>\n",
       "      <th>1553</th>\n",
       "      <td>2017-07-29</td>\n",
       "      <td>2807.02</td>\n",
       "      <td>2808.76</td>\n",
       "      <td>2692.80</td>\n",
       "      <td>2726.45</td>\n",
       "      <td>803,746,000</td>\n",
       "      <td>46,246,700,000</td>\n",
       "    </tr>\n",
       "    <tr>\n",
       "      <th>1554</th>\n",
       "      <td>2017-07-30</td>\n",
       "      <td>2724.39</td>\n",
       "      <td>2758.53</td>\n",
       "      <td>2644.85</td>\n",
       "      <td>2757.18</td>\n",
       "      <td>705,943,000</td>\n",
       "      <td>44,890,700,000</td>\n",
       "    </tr>\n",
       "    <tr>\n",
       "      <th>1555</th>\n",
       "      <td>2017-07-31</td>\n",
       "      <td>2763.24</td>\n",
       "      <td>2889.62</td>\n",
       "      <td>2720.61</td>\n",
       "      <td>2875.34</td>\n",
       "      <td>860,575,000</td>\n",
       "      <td>45,535,800,000</td>\n",
       "    </tr>\n",
       "  </tbody>\n",
       "</table>\n",
       "<p>1556 rows × 7 columns</p>\n",
       "</div>"
      ],
      "text/plain": [
       "           Date     Open     High      Low    Close         Volume  \\\n",
       "0    2013-04-28   135.30   135.98   132.10   134.21              -   \n",
       "1    2013-04-29   134.44   147.49   134.00   144.54              -   \n",
       "2    2013-04-30   144.00   146.93   134.05   139.00              -   \n",
       "3    2013-05-01   139.00   139.89   107.72   116.99              -   \n",
       "4    2013-05-02   116.38   125.60    92.28   105.21              -   \n",
       "...         ...      ...      ...      ...      ...            ...   \n",
       "1551 2017-07-27  2538.71  2693.32  2529.34  2671.78    789,104,000   \n",
       "1552 2017-07-28  2679.73  2897.45  2679.73  2809.01  1,380,100,000   \n",
       "1553 2017-07-29  2807.02  2808.76  2692.80  2726.45    803,746,000   \n",
       "1554 2017-07-30  2724.39  2758.53  2644.85  2757.18    705,943,000   \n",
       "1555 2017-07-31  2763.24  2889.62  2720.61  2875.34    860,575,000   \n",
       "\n",
       "          Market Cap  \n",
       "0      1,500,520,000  \n",
       "1      1,491,160,000  \n",
       "2      1,597,780,000  \n",
       "3      1,542,820,000  \n",
       "4      1,292,190,000  \n",
       "...              ...  \n",
       "1551  41,816,500,000  \n",
       "1552  44,144,400,000  \n",
       "1553  46,246,700,000  \n",
       "1554  44,890,700,000  \n",
       "1555  45,535,800,000  \n",
       "\n",
       "[1556 rows x 7 columns]"
      ]
     },
     "execution_count": 20,
     "metadata": {},
     "output_type": "execute_result"
    }
   ],
   "source": [
    "data"
   ]
  },
  {
   "cell_type": "code",
   "execution_count": null,
   "id": "542dcb0c",
   "metadata": {},
   "outputs": [],
   "source": []
  },
  {
   "cell_type": "code",
   "execution_count": 21,
   "id": "1b5bd06a",
   "metadata": {},
   "outputs": [
    {
     "data": {
      "text/plain": [
       "Index(['Date', 'Open', 'High', 'Low', 'Close', 'Volume', 'Market Cap'], dtype='object')"
      ]
     },
     "execution_count": 21,
     "metadata": {},
     "output_type": "execute_result"
    }
   ],
   "source": [
    "data.columns"
   ]
  },
  {
   "cell_type": "code",
   "execution_count": null,
   "id": "40442ba1",
   "metadata": {},
   "outputs": [],
   "source": []
  },
  {
   "cell_type": "code",
   "execution_count": 22,
   "id": "4b95b782",
   "metadata": {},
   "outputs": [
    {
     "data": {
      "image/png": "[encoded data removed]",
      "text/plain": [
       "<Figure size 1440x864 with 4 Axes>"
      ]
     },
     "metadata": {
      "needs_background": "light"
     },
     "output_type": "display_data"
    }
   ],
   "source": [
    "plt.figure(figsize=(20, 12))\n",
    "\n",
    "colors = ['blue', 'red', 'green', 'purple']  # Choose colors for each plot\n",
    "\n",
    "for index, col in enumerate(['Open', 'High', 'Low', 'Close'], 1):\n",
    "    plt.subplot(2, 2, index)\n",
    "    plt.plot(df['Date'], df[col], color=colors[index-1])  # Set the color for each plot\n",
    "    plt.title(col)\n",
    "\n",
    "plt.show()"
   ]
  },
  {
   "cell_type": "markdown",
   "id": "d009a69a",
   "metadata": {},
   "source": [
    "## Above plot is used to visualize the relationship and fluctuations of the price components (Open, High, Low, and Close) over time."
   ]
  },
  {
   "cell_type": "code",
   "execution_count": null,
   "id": "dedc2326",
   "metadata": {},
   "outputs": [],
   "source": []
  },
  {
   "cell_type": "markdown",
   "id": "7299586d",
   "metadata": {},
   "source": [
    " Analysing open , high , low , close value of Bitcoin !\n",
    "  "
   ]
  },
  {
   "cell_type": "code",
   "execution_count": 23,
   "id": "c9a1cbd9",
   "metadata": {},
   "outputs": [
    {
     "data": {
      "text/plain": [
       "(1556, 7)"
      ]
     },
     "execution_count": 23,
     "metadata": {},
     "output_type": "execute_result"
    }
   ],
   "source": [
    "data.shape"
   ]
  },
  {
   "cell_type": "code",
   "execution_count": 24,
   "id": "04b9a85c",
   "metadata": {},
   "outputs": [],
   "source": [
    "bitcoin_sample = data[0:50]\n",
    "\n"
   ]
  },
  {
   "cell_type": "code",
   "execution_count": null,
   "id": "6f529620",
   "metadata": {},
   "outputs": [],
   "source": []
  },
  {
   "cell_type": "code",
   "execution_count": 25,
   "id": "2ec55fb4",
   "metadata": {},
   "outputs": [],
   "source": [
    "import chart_studio.plotly as py\n",
    "\n",
    "import plotly.graph_objs as go\n",
    "\n",
    "import plotly.express as px\n",
    "\n",
    "from plotly.offline import download_plotlyjs , init_notebook_mode , plot , iplot"
   ]
  },
  {
   "cell_type": "code",
   "execution_count": 26,
   "id": "e00374d3",
   "metadata": {},
   "outputs": [
    {
     "data": {
      "text/html": [
       "        <script type=\"text/javascript\">\n",
       "        window.PlotlyConfig = {MathJaxConfig: 'local'};\n",
       "        if (window.MathJax && window.MathJax.Hub && window.MathJax.Hub.Config) {window.MathJax.Hub.Config({SVG: {font: \"STIX-Web\"}});}\n",
       "        if (typeof require !== 'undefined') {\n",
       "        require.undef(\"plotly\");\n",
       "        requirejs.config({\n",
       "            paths: {\n",
       "                'plotly': ['https://cdn.plot.ly/plotly-2.12.1.min']\n",
       "            }\n",
       "        });\n",
       "        require(['plotly'], function(Plotly) {\n",
       "            window._Plotly = Plotly;\n",
       "        });\n",
       "        }\n",
       "        </script>\n",
       "        "
      ]
     },
     "metadata": {},
     "output_type": "display_data"
    }
   ],
   "source": [
    "init_notebook_mode(connected=True)"
   ]
  },
  {
   "cell_type": "code",
   "execution_count": 27,
   "id": "20d30552",
   "metadata": {},
   "outputs": [],
   "source": [
    "trace = go.Candlestick(x=bitcoin_sample['Date'] , \n",
    "              high =bitcoin_sample['High'] , \n",
    "              open = bitcoin_sample['Open'] , \n",
    "              close = bitcoin_sample['Close'] , \n",
    "              low = bitcoin_sample['Low'])"
   ]
  },
  {
   "cell_type": "code",
   "execution_count": 28,
   "id": "87142353",
   "metadata": {},
   "outputs": [],
   "source": [
    "candle_data = [trace]\n",
    "\n",
    "layout = {\n",
    "    'title':'Bitcoin Historical Price' , \n",
    "    'xaxis':{'title':'Date'}\n",
    "}"
   ]
  },
  {
   "cell_type": "code",
   "execution_count": 29,
   "id": "46fa109d",
   "metadata": {},
   "outputs": [
    {
     "data": {
      "application/vnd.plotly.v1+json": {
       "config": {
        "plotlyServerURL": "https://plot.ly"
       },
       "data": [
        {
         "close": [
          134.21,
          144.54,
          139,
          116.99,
          105.21,
          97.75,
          112.5,
          115.91,
          112.3,
          111.5,
          113.57,
          112.67,
          117.2,
          115.24,
          115,
          117.98,
          111.5,
          114.22,
          118.76,
          123.02,
          123.5,
          121.99,
          122,
          122.88,
          123.89,
          126.7,
          133.2,
          131.98,
          133.48,
          129.75,
          129,
          132.3,
          128.8,
          129,
          129.3,
          122.29,
          122.22,
          121.42,
          121.65,
          118,
          111.5,
          108.3,
          100,
          106.35,
          108.9,
          108.15,
          104,
          99.98,
          99.99,
          99.51
         ],
         "decreasing": {
          "fillcolor": "red"
         },
         "high": [
          135.98,
          147.49,
          146.93,
          139.89,
          125.6,
          108.13,
          115,
          118.8,
          124.66,
          113.44,
          115.78,
          113.46,
          122,
          118.68,
          117.45,
          118.7,
          119.8,
          115.81,
          118.76,
          125.3,
          125.25,
          124.5,
          123.62,
          123,
          124,
          126.93,
          133.85,
          133.22,
          136,
          135.47,
          130.58,
          132.59,
          132.25,
          129.9,
          129.78,
          129.4,
          122.5,
          123.84,
          123.47,
          123.1,
          119,
          111.42,
          108.99,
          110.1,
          109.6,
          111.79,
          110.3,
          104.7,
          103.7,
          101.6
         ],
         "increasing": {
          "fillcolor": "green"
         },
         "low": [
          132.1,
          134,
          134.05,
          107.72,
          92.28,
          79.1,
          92.5,
          107.14,
          106.64,
          97.7,
          109.6,
          109.26,
          111.55,
          113.01,
          113.44,
          114.5,
          110.25,
          103.5,
          112.2,
          116.57,
          122.3,
          119.57,
          120.12,
          121.21,
          122,
          123.1,
          125.72,
          128.9,
          130.62,
          124.7,
          125.6,
          127.66,
          127,
          126.4,
          127.2,
          115.05,
          116,
          119.1,
          119.9,
          117.25,
          106.42,
          107.3,
          88.5,
          95,
          104,
          106.73,
          100.53,
          98,
          98,
          98.95
         ],
         "open": [
          135.3,
          134.44,
          144,
          139,
          116.38,
          106.25,
          98.1,
          112.9,
          115.98,
          112.25,
          109.6,
          113.2,
          112.8,
          117.7,
          115.64,
          114.82,
          117.98,
          111.4,
          114.22,
          118.21,
          123.5,
          123.21,
          122.5,
          122.02,
          122.89,
          123.8,
          126.3,
          133.1,
          131.99,
          133.5,
          129.77,
          129,
          132.25,
          128.8,
          128.81,
          129.3,
          122.5,
          120.74,
          121.4,
          121.9,
          118.97,
          111,
          107.89,
          100.44,
          106.35,
          109,
          108.78,
          103.95,
          100,
          99.8
         ],
         "type": "candlestick",
         "x": [
          "2013-04-28T00:00:00",
          "2013-04-29T00:00:00",
          "2013-04-30T00:00:00",
          "2013-05-01T00:00:00",
          "2013-05-02T00:00:00",
          "2013-05-03T00:00:00",
          "2013-05-04T00:00:00",
          "2013-05-05T00:00:00",
          "2013-05-06T00:00:00",
          "2013-05-07T00:00:00",
          "2013-05-08T00:00:00",
          "2013-05-09T00:00:00",
          "2013-05-10T00:00:00",
          "2013-05-11T00:00:00",
          "2013-05-12T00:00:00",
          "2013-05-13T00:00:00",
          "2013-05-14T00:00:00",
          "2013-05-15T00:00:00",
          "2013-05-16T00:00:00",
          "2013-05-17T00:00:00",
          "2013-05-18T00:00:00",
          "2013-05-19T00:00:00",
          "2013-05-20T00:00:00",
          "2013-05-21T00:00:00",
          "2013-05-22T00:00:00",
          "2013-05-23T00:00:00",
          "2013-05-24T00:00:00",
          "2013-05-25T00:00:00",
          "2013-05-26T00:00:00",
          "2013-05-27T00:00:00",
          "2013-05-28T00:00:00",
          "2013-05-29T00:00:00",
          "2013-05-30T00:00:00",
          "2013-05-31T00:00:00",
          "2013-06-01T00:00:00",
          "2013-06-02T00:00:00",
          "2013-06-03T00:00:00",
          "2013-06-04T00:00:00",
          "2013-06-05T00:00:00",
          "2013-06-06T00:00:00",
          "2013-06-07T00:00:00",
          "2013-06-08T00:00:00",
          "2013-06-09T00:00:00",
          "2013-06-10T00:00:00",
          "2013-06-11T00:00:00",
          "2013-06-12T00:00:00",
          "2013-06-13T00:00:00",
          "2013-06-14T00:00:00",
          "2013-06-15T00:00:00",
          "2013-06-16T00:00:00"
         ]
        },
        {
         "line": {
          "color": "orange"
         },
         "mode": "lines",
         "name": "SMA (50-day)",
         "type": "scatter",
         "x": [
          "2017-07-31T00:00:00",
          "2017-07-30T00:00:00",
          "2017-07-29T00:00:00",
          "2017-07-28T00:00:00",
          "2017-07-27T00:00:00",
          "2017-07-26T00:00:00",
          "2017-07-25T00:00:00",
          "2017-07-24T00:00:00",
          "2017-07-23T00:00:00",
          "2017-07-22T00:00:00",
          "2017-07-21T00:00:00",
          "2017-07-20T00:00:00",
          "2017-07-19T00:00:00",
          "2017-07-18T00:00:00",
          "2017-07-17T00:00:00",
          "2017-07-16T00:00:00",
          "2017-07-15T00:00:00",
          "2017-07-14T00:00:00",
          "2017-07-13T00:00:00",
          "2017-07-12T00:00:00",
          "2017-07-11T00:00:00",
          "2017-07-10T00:00:00",
          "2017-07-09T00:00:00",
          "2017-07-08T00:00:00",
          "2017-07-07T00:00:00",
          "2017-07-06T00:00:00",
          "2017-07-05T00:00:00",
          "2017-07-04T00:00:00",
          "2017-07-03T00:00:00",
          "2017-07-02T00:00:00",
          "2017-07-01T00:00:00",
          "2017-06-30T00:00:00",
          "2017-06-29T00:00:00",
          "2017-06-28T00:00:00",
          "2017-06-27T00:00:00",
          "2017-06-26T00:00:00",
          "2017-06-25T00:00:00",
          "2017-06-24T00:00:00",
          "2017-06-23T00:00:00",
          "2017-06-22T00:00:00",
          "2017-06-21T00:00:00",
          "2017-06-20T00:00:00",
          "2017-06-19T00:00:00",
          "2017-06-18T00:00:00",
          "2017-06-17T00:00:00",
          "2017-06-16T00:00:00",
          "2017-06-15T00:00:00",
          "2017-06-14T00:00:00",
          "2017-06-13T00:00:00",
          "2017-06-12T00:00:00",
          "2017-06-11T00:00:00",
          "2017-06-10T00:00:00",
          "2017-06-09T00:00:00",
          "2017-06-08T00:00:00",
          "2017-06-07T00:00:00",
          "2017-06-06T00:00:00",
          "2017-06-05T00:00:00",
          "2017-06-04T00:00:00",
          "2017-06-03T00:00:00",
          "2017-06-02T00:00:00",
          "2017-06-01T00:00:00",
          "2017-05-31T00:00:00",
          "2017-05-30T00:00:00",
          "2017-05-29T00:00:00",
          "2017-05-28T00:00:00",
          "2017-05-27T00:00:00",
          "2017-05-26T00:00:00",
          "2017-05-25T00:00:00",
          "2017-05-24T00:00:00",
          "2017-05-23T00:00:00",
          "2017-05-22T00:00:00",
          "2017-05-21T00:00:00",
          "2017-05-20T00:00:00",
          "2017-05-19T00:00:00",
          "2017-05-18T00:00:00",
          "2017-05-17T00:00:00",
          "2017-05-16T00:00:00",
          "2017-05-15T00:00:00",
          "2017-05-14T00:00:00",
          "2017-05-13T00:00:00",
          "2017-05-12T00:00:00",
          "2017-05-11T00:00:00",
          "2017-05-10T00:00:00",
          "2017-05-09T00:00:00",
          "2017-05-08T00:00:00",
          "2017-05-07T00:00:00",
          "2017-05-06T00:00:00",
          "2017-05-05T00:00:00",
          "2017-05-04T00:00:00",
          "2017-05-03T00:00:00",
          "2017-05-02T00:00:00",
          "2017-05-01T00:00:00",
          "2017-04-30T00:00:00",
          "2017-04-29T00:00:00",
          "2017-04-28T00:00:00",
          "2017-04-27T00:00:00",
          "2017-04-26T00:00:00",
          "2017-04-25T00:00:00",
          "2017-04-24T00:00:00",
          "2017-04-23T00:00:00",
          "2017-04-22T00:00:00",
          "2017-04-21T00:00:00",
          "2017-04-20T00:00:00",
          "2017-04-19T00:00:00",
          "2017-04-18T00:00:00",
          "2017-04-17T00:00:00",
          "2017-04-16T00:00:00",
          "2017-04-15T00:00:00",
          "2017-04-14T00:00:00",
          "2017-04-13T00:00:00",
          "2017-04-12T00:00:00",
          "2017-04-11T00:00:00",
          "2017-04-10T00:00:00",
          "2017-04-09T00:00:00",
          "2017-04-08T00:00:00",
          "2017-04-07T00:00:00",
          "2017-04-06T00:00:00",
          "2017-04-05T00:00:00",
          "2017-04-04T00:00:00",
          "2017-04-03T00:00:00",
          "2017-04-02T00:00:00",
          "2017-04-01T00:00:00",
          "2017-03-31T00:00:00",
          "2017-03-30T00:00:00",
          "2017-03-29T00:00:00",
          "2017-03-28T00:00:00",
          "2017-03-27T00:00:00",
          "2017-03-26T00:00:00",
          "2017-03-25T00:00:00",
          "2017-03-24T00:00:00",
          "2017-03-23T00:00:00",
          "2017-03-22T00:00:00",
          "2017-03-21T00:00:00",
          "2017-03-20T00:00:00",
          "2017-03-19T00:00:00",
          "2017-03-18T00:00:00",
          "2017-03-17T00:00:00",
          "2017-03-16T00:00:00",
          "2017-03-15T00:00:00",
          "2017-03-14T00:00:00",
          "2017-03-13T00:00:00",
          "2017-03-12T00:00:00",
          "2017-03-11T00:00:00",
          "2017-03-10T00:00:00",
          "2017-03-09T00:00:00",
          "2017-03-08T00:00:00",
          "2017-03-07T00:00:00",
          "2017-03-06T00:00:00",
          "2017-03-05T00:00:00",
          "2017-03-04T00:00:00",
          "2017-03-03T00:00:00",
          "2017-03-02T00:00:00",
          "2017-03-01T00:00:00",
          "2017-02-28T00:00:00",
          "2017-02-27T00:00:00",
          "2017-02-26T00:00:00",
          "2017-02-25T00:00:00",
          "2017-02-24T00:00:00",
          "2017-02-23T00:00:00",
          "2017-02-22T00:00:00",
          "2017-02-21T00:00:00",
          "2017-02-20T00:00:00",
          "2017-02-19T00:00:00",
          "2017-02-18T00:00:00",
          "2017-02-17T00:00:00",
          "2017-02-16T00:00:00",
          "2017-02-15T00:00:00",
          "2017-02-14T00:00:00",
          "2017-02-13T00:00:00",
          "2017-02-12T00:00:00",
          "2017-02-11T00:00:00",
          "2017-02-10T00:00:00",
          "2017-02-09T00:00:00",
          "2017-02-08T00:00:00",
          "2017-02-07T00:00:00",
          "2017-02-06T00:00:00",
          "2017-02-05T00:00:00",
          "2017-02-04T00:00:00",
          "2017-02-03T00:00:00",
          "2017-02-02T00:00:00",
          "2017-02-01T00:00:00",
          "2017-01-31T00:00:00",
          "2017-01-30T00:00:00",
          "2017-01-29T00:00:00",
          "2017-01-28T00:00:00",
          "2017-01-27T00:00:00",
          "2017-01-26T00:00:00",
          "2017-01-25T00:00:00",
          "2017-01-24T00:00:00",
          "2017-01-23T00:00:00",
          "2017-01-22T00:00:00",
          "2017-01-21T00:00:00",
          "2017-01-20T00:00:00",
          "2017-01-19T00:00:00",
          "2017-01-18T00:00:00",
          "2017-01-17T00:00:00",
          "2017-01-16T00:00:00",
          "2017-01-15T00:00:00",
          "2017-01-14T00:00:00",
          "2017-01-13T00:00:00",
          "2017-01-12T00:00:00",
          "2017-01-11T00:00:00",
          "2017-01-10T00:00:00",
          "2017-01-09T00:00:00",
          "2017-01-08T00:00:00",
          "2017-01-07T00:00:00",
          "2017-01-06T00:00:00",
          "2017-01-05T00:00:00",
          "2017-01-04T00:00:00",
          "2017-01-03T00:00:00",
          "2017-01-02T00:00:00",
          "2017-01-01T00:00:00",
          "2016-12-31T00:00:00",
          "2016-12-30T00:00:00",
          "2016-12-29T00:00:00",
          "2016-12-28T00:00:00",
          "2016-12-27T00:00:00",
          "2016-12-26T00:00:00",
          "2016-12-25T00:00:00",
          "2016-12-24T00:00:00",
          "2016-12-23T00:00:00",
          "2016-12-22T00:00:00",
          "2016-12-21T00:00:00",
          "2016-12-20T00:00:00",
          "2016-12-19T00:00:00",
          "2016-12-18T00:00:00",
          "2016-12-17T00:00:00",
          "2016-12-16T00:00:00",
          "2016-12-15T00:00:00",
          "2016-12-14T00:00:00",
          "2016-12-13T00:00:00",
          "2016-12-12T00:00:00",
          "2016-12-11T00:00:00",
          "2016-12-10T00:00:00",
          "2016-12-09T00:00:00",
          "2016-12-08T00:00:00",
          "2016-12-07T00:00:00",
          "2016-12-06T00:00:00",
          "2016-12-05T00:00:00",
          "2016-12-04T00:00:00",
          "2016-12-03T00:00:00",
          "2016-12-02T00:00:00",
          "2016-12-01T00:00:00",
          "2016-11-30T00:00:00",
          "2016-11-29T00:00:00",
          "2016-11-28T00:00:00",
          "2016-11-27T00:00:00",
          "2016-11-26T00:00:00",
          "2016-11-25T00:00:00",
          "2016-11-24T00:00:00",
          "2016-11-23T00:00:00",
          "2016-11-22T00:00:00",
          "2016-11-21T00:00:00",
          "2016-11-20T00:00:00",
          "2016-11-19T00:00:00",
          "2016-11-18T00:00:00",
          "2016-11-17T00:00:00",
          "2016-11-16T00:00:00",
          "2016-11-15T00:00:00",
          "2016-11-14T00:00:00",
          "2016-11-13T00:00:00",
          "2016-11-12T00:00:00",
          "2016-11-11T00:00:00",
          "2016-11-10T00:00:00",
          "2016-11-09T00:00:00",
          "2016-11-08T00:00:00",
          "2016-11-07T00:00:00",
          "2016-11-06T00:00:00",
          "2016-11-05T00:00:00",
          "2016-11-04T00:00:00",
          "2016-11-03T00:00:00",
          "2016-11-02T00:00:00",
          "2016-11-01T00:00:00",
          "2016-10-31T00:00:00",
          "2016-10-30T00:00:00",
          "2016-10-29T00:00:00",
          "2016-10-28T00:00:00",
          "2016-10-27T00:00:00",
          "2016-10-26T00:00:00",
          "2016-10-25T00:00:00",
          "2016-10-24T00:00:00",
          "2016-10-23T00:00:00",
          "2016-10-22T00:00:00",
          "2016-10-21T00:00:00",
          "2016-10-20T00:00:00",
          "2016-10-19T00:00:00",
          "2016-10-18T00:00:00",
          "2016-10-17T00:00:00",
          "2016-10-16T00:00:00",
          "2016-10-15T00:00:00",
          "2016-10-14T00:00:00",
          "2016-10-13T00:00:00",
          "2016-10-12T00:00:00",
          "2016-10-11T00:00:00",
          "2016-10-10T00:00:00",
          "2016-10-09T00:00:00",
          "2016-10-08T00:00:00",
          "2016-10-07T00:00:00",
          "2016-10-06T00:00:00",
          "2016-10-05T00:00:00",
          "2016-10-04T00:00:00",
          "2016-10-03T00:00:00",
          "2016-10-02T00:00:00",
          "2016-10-01T00:00:00",
          "2016-09-30T00:00:00",
          "2016-09-29T00:00:00",
          "2016-09-28T00:00:00",
          "2016-09-27T00:00:00",
          "2016-09-26T00:00:00",
          "2016-09-25T00:00:00",
          "2016-09-24T00:00:00",
          "2016-09-23T00:00:00",
          "2016-09-22T00:00:00",
          "2016-09-21T00:00:00",
          "2016-09-20T00:00:00",
          "2016-09-19T00:00:00",
          "2016-09-18T00:00:00",
          "2016-09-17T00:00:00",
          "2016-09-16T00:00:00",
          "2016-09-15T00:00:00",
          "2016-09-14T00:00:00",
          "2016-09-13T00:00:00",
          "2016-09-12T00:00:00",
          "2016-09-11T00:00:00",
          "2016-09-10T00:00:00",
          "2016-09-09T00:00:00",
          "2016-09-08T00:00:00",
          "2016-09-07T00:00:00",
          "2016-09-06T00:00:00",
          "2016-09-05T00:00:00",
          "2016-09-04T00:00:00",
          "2016-09-03T00:00:00",
          "2016-09-02T00:00:00",
          "2016-09-01T00:00:00",
          "2016-08-31T00:00:00",
          "2016-08-30T00:00:00",
          "2016-08-29T00:00:00",
          "2016-08-28T00:00:00",
          "2016-08-27T00:00:00",
          "2016-08-26T00:00:00",
          "2016-08-25T00:00:00",
          "2016-08-24T00:00:00",
          "2016-08-23T00:00:00",
          "2016-08-22T00:00:00",
          "2016-08-21T00:00:00",
          "2016-08-20T00:00:00",
          "2016-08-19T00:00:00",
          "2016-08-18T00:00:00",
          "2016-08-17T00:00:00",
          "2016-08-16T00:00:00",
          "2016-08-15T00:00:00",
          "2016-08-14T00:00:00",
          "2016-08-13T00:00:00",
          "2016-08-12T00:00:00",
          "2016-08-11T00:00:00",
          "2016-08-10T00:00:00",
          "2016-08-09T00:00:00",
          "2016-08-08T00:00:00",
          "2016-08-07T00:00:00",
          "2016-08-06T00:00:00",
          "2016-08-05T00:00:00",
          "2016-08-04T00:00:00",
          "2016-08-03T00:00:00",
          "2016-08-02T00:00:00",
          "2016-08-01T00:00:00",
          "2016-07-31T00:00:00",
          "2016-07-30T00:00:00",
          "2016-07-29T00:00:00",
          "2016-07-28T00:00:00",
          "2016-07-27T00:00:00",
          "2016-07-26T00:00:00",
          "2016-07-25T00:00:00",
          "2016-07-24T00:00:00",
          "2016-07-23T00:00:00",
          "2016-07-22T00:00:00",
          "2016-07-21T00:00:00",
          "2016-07-20T00:00:00",
          "2016-07-19T00:00:00",
          "2016-07-18T00:00:00",
          "2016-07-17T00:00:00",
          "2016-07-16T00:00:00",
          "2016-07-15T00:00:00",
          "2016-07-14T00:00:00",
          "2016-07-13T00:00:00",
          "2016-07-12T00:00:00",
          "2016-07-11T00:00:00",
          "2016-07-10T00:00:00",
          "2016-07-09T00:00:00",
          "2016-07-08T00:00:00",
          "2016-07-07T00:00:00",
          "2016-07-06T00:00:00",
          "2016-07-05T00:00:00",
          "2016-07-04T00:00:00",
          "2016-07-03T00:00:00",
          "2016-07-02T00:00:00",
          "2016-07-01T00:00:00",
          "2016-06-30T00:00:00",
          "2016-06-29T00:00:00",
          "2016-06-28T00:00:00",
          "2016-06-27T00:00:00",
          "2016-06-26T00:00:00",
          "2016-06-25T00:00:00",
          "2016-06-24T00:00:00",
          "2016-06-23T00:00:00",
          "2016-06-22T00:00:00",
          "2016-06-21T00:00:00",
          "2016-06-20T00:00:00",
          "2016-06-19T00:00:00",
          "2016-06-18T00:00:00",
          "2016-06-17T00:00:00",
          "2016-06-16T00:00:00",
          "2016-06-15T00:00:00",
          "2016-06-14T00:00:00",
          "2016-06-13T00:00:00",
          "2016-06-12T00:00:00",
          "2016-06-11T00:00:00",
          "2016-06-10T00:00:00",
          "2016-06-09T00:00:00",
          "2016-06-08T00:00:00",
          "2016-06-07T00:00:00",
          "2016-06-06T00:00:00",
          "2016-06-05T00:00:00",
          "2016-06-04T00:00:00",
          "2016-06-03T00:00:00",
          "2016-06-02T00:00:00",
          "2016-06-01T00:00:00",
          "2016-05-31T00:00:00",
          "2016-05-30T00:00:00",
          "2016-05-29T00:00:00",
          "2016-05-28T00:00:00",
          "2016-05-27T00:00:00",
          "2016-05-26T00:00:00",
          "2016-05-25T00:00:00",
          "2016-05-24T00:00:00",
          "2016-05-23T00:00:00",
          "2016-05-22T00:00:00",
          "2016-05-21T00:00:00",
          "2016-05-20T00:00:00",
          "2016-05-19T00:00:00",
          "2016-05-18T00:00:00",
          "2016-05-17T00:00:00",
          "2016-05-16T00:00:00",
          "2016-05-15T00:00:00",
          "2016-05-14T00:00:00",
          "2016-05-13T00:00:00",
          "2016-05-12T00:00:00",
          "2016-05-11T00:00:00",
          "2016-05-10T00:00:00",
          "2016-05-09T00:00:00",
          "2016-05-08T00:00:00",
          "2016-05-07T00:00:00",
          "2016-05-06T00:00:00",
          "2016-05-05T00:00:00",
          "2016-05-04T00:00:00",
          "2016-05-03T00:00:00",
          "2016-05-02T00:00:00",
          "2016-05-01T00:00:00",
          "2016-04-30T00:00:00",
          "2016-04-29T00:00:00",
          "2016-04-28T00:00:00",
          "2016-04-27T00:00:00",
          "2016-04-26T00:00:00",
          "2016-04-25T00:00:00",
          "2016-04-24T00:00:00",
          "2016-04-23T00:00:00",
          "2016-04-22T00:00:00",
          "2016-04-21T00:00:00",
          "2016-04-20T00:00:00",
          "2016-04-19T00:00:00",
          "2016-04-18T00:00:00",
          "2016-04-17T00:00:00",
          "2016-04-16T00:00:00",
          "2016-04-15T00:00:00",
          "2016-04-14T00:00:00",
          "2016-04-13T00:00:00",
          "2016-04-12T00:00:00",
          "2016-04-11T00:00:00",
          "2016-04-10T00:00:00",
          "2016-04-09T00:00:00",
          "2016-04-08T00:00:00",
          "2016-04-07T00:00:00",
          "2016-04-06T00:00:00",
          "2016-04-05T00:00:00",
          "2016-04-04T00:00:00",
          "2016-04-03T00:00:00",
          "2016-04-02T00:00:00",
          "2016-04-01T00:00:00",
          "2016-03-31T00:00:00",
          "2016-03-30T00:00:00",
          "2016-03-29T00:00:00",
          "2016-03-28T00:00:00",
          "2016-03-27T00:00:00",
          "2016-03-26T00:00:00",
          "2016-03-25T00:00:00",
          "2016-03-24T00:00:00",
          "2016-03-23T00:00:00",
          "2016-03-22T00:00:00",
          "2016-03-21T00:00:00",
          "2016-03-20T00:00:00",
          "2016-03-19T00:00:00",
          "2016-03-18T00:00:00",
          "2016-03-17T00:00:00",
          "2016-03-16T00:00:00",
          "2016-03-15T00:00:00",
          "2016-03-14T00:00:00",
          "2016-03-13T00:00:00",
          "2016-03-12T00:00:00",
          "2016-03-11T00:00:00",
          "2016-03-10T00:00:00",
          "2016-03-09T00:00:00",
          "2016-03-08T00:00:00",
          "2016-03-07T00:00:00",
          "2016-03-06T00:00:00",
          "2016-03-05T00:00:00",
          "2016-03-04T00:00:00",
          "2016-03-03T00:00:00",
          "2016-03-02T00:00:00",
          "2016-03-01T00:00:00",
          "2016-02-29T00:00:00",
          "2016-02-28T00:00:00",
          "2016-02-27T00:00:00",
          "2016-02-26T00:00:00",
          "2016-02-25T00:00:00",
          "2016-02-24T00:00:00",
          "2016-02-23T00:00:00",
          "2016-02-22T00:00:00",
          "2016-02-21T00:00:00",
          "2016-02-20T00:00:00",
          "2016-02-19T00:00:00",
          "2016-02-18T00:00:00",
          "2016-02-17T00:00:00",
          "2016-02-16T00:00:00",
          "2016-02-15T00:00:00",
          "2016-02-14T00:00:00",
          "2016-02-13T00:00:00",
          "2016-02-12T00:00:00",
          "2016-02-11T00:00:00",
          "2016-02-10T00:00:00",
          "2016-02-09T00:00:00",
          "2016-02-08T00:00:00",
          "2016-02-07T00:00:00",
          "2016-02-06T00:00:00",
          "2016-02-05T00:00:00",
          "2016-02-04T00:00:00",
          "2016-02-03T00:00:00",
          "2016-02-02T00:00:00",
          "2016-02-01T00:00:00",
          "2016-01-31T00:00:00",
          "2016-01-30T00:00:00",
          "2016-01-29T00:00:00",
          "2016-01-28T00:00:00",
          "2016-01-27T00:00:00",
          "2016-01-26T00:00:00",
          "2016-01-25T00:00:00",
          "2016-01-24T00:00:00",
          "2016-01-23T00:00:00",
          "2016-01-22T00:00:00",
          "2016-01-21T00:00:00",
          "2016-01-20T00:00:00",
          "2016-01-19T00:00:00",
          "2016-01-18T00:00:00",
          "2016-01-17T00:00:00",
          "2016-01-16T00:00:00",
          "2016-01-15T00:00:00",
          "2016-01-14T00:00:00",
          "2016-01-13T00:00:00",
          "2016-01-12T00:00:00",
          "2016-01-11T00:00:00",
          "2016-01-10T00:00:00",
          "2016-01-09T00:00:00",
          "2016-01-08T00:00:00",
          "2016-01-07T00:00:00",
          "2016-01-06T00:00:00",
          "2016-01-05T00:00:00",
          "2016-01-04T00:00:00",
          "2016-01-03T00:00:00",
          "2016-01-02T00:00:00",
          "2016-01-01T00:00:00",
          "2015-12-31T00:00:00",
          "2015-12-30T00:00:00",
          "2015-12-29T00:00:00",
          "2015-12-28T00:00:00",
          "2015-12-27T00:00:00",
          "2015-12-26T00:00:00",
          "2015-12-25T00:00:00",
          "2015-12-24T00:00:00",
          "2015-12-23T00:00:00",
          "2015-12-22T00:00:00",
          "2015-12-21T00:00:00",
          "2015-12-20T00:00:00",
          "2015-12-19T00:00:00",
          "2015-12-18T00:00:00",
          "2015-12-17T00:00:00",
          "2015-12-16T00:00:00",
          "2015-12-15T00:00:00",
          "2015-12-14T00:00:00",
          "2015-12-13T00:00:00",
          "2015-12-12T00:00:00",
          "2015-12-11T00:00:00",
          "2015-12-10T00:00:00",
          "2015-12-09T00:00:00",
          "2015-12-08T00:00:00",
          "2015-12-07T00:00:00",
          "2015-12-06T00:00:00",
          "2015-12-05T00:00:00",
          "2015-12-04T00:00:00",
          "2015-12-03T00:00:00",
          "2015-12-02T00:00:00",
          "2015-12-01T00:00:00",
          "2015-11-30T00:00:00",
          "2015-11-29T00:00:00",
          "2015-11-28T00:00:00",
          "2015-11-27T00:00:00",
          "2015-11-26T00:00:00",
          "2015-11-25T00:00:00",
          "2015-11-24T00:00:00",
          "2015-11-23T00:00:00",
          "2015-11-22T00:00:00",
          "2015-11-21T00:00:00",
          "2015-11-20T00:00:00",
          "2015-11-19T00:00:00",
          "2015-11-18T00:00:00",
          "2015-11-17T00:00:00",
          "2015-11-16T00:00:00",
          "2015-11-15T00:00:00",
          "2015-11-14T00:00:00",
          "2015-11-13T00:00:00",
          "2015-11-12T00:00:00",
          "2015-11-11T00:00:00",
          "2015-11-10T00:00:00",
          "2015-11-09T00:00:00",
          "2015-11-08T00:00:00",
          "2015-11-07T00:00:00",
          "2015-11-06T00:00:00",
          "2015-11-05T00:00:00",
          "2015-11-04T00:00:00",
          "2015-11-03T00:00:00",
          "2015-11-02T00:00:00",
          "2015-11-01T00:00:00",
          "2015-10-31T00:00:00",
          "2015-10-30T00:00:00",
          "2015-10-29T00:00:00",
          "2015-10-28T00:00:00",
          "2015-10-27T00:00:00",
          "2015-10-26T00:00:00",
          "2015-10-25T00:00:00",
          "2015-10-24T00:00:00",
          "2015-10-23T00:00:00",
          "2015-10-22T00:00:00",
          "2015-10-21T00:00:00",
          "2015-10-20T00:00:00",
          "2015-10-19T00:00:00",
          "2015-10-18T00:00:00",
          "2015-10-17T00:00:00",
          "2015-10-16T00:00:00",
          "2015-10-15T00:00:00",
          "2015-10-14T00:00:00",
          "2015-10-13T00:00:00",
          "2015-10-12T00:00:00",
          "2015-10-11T00:00:00",
          "2015-10-10T00:00:00",
          "2015-10-09T00:00:00",
          "2015-10-08T00:00:00",
          "2015-10-07T00:00:00",
          "2015-10-06T00:00:00",
          "2015-10-05T00:00:00",
          "2015-10-04T00:00:00",
          "2015-10-03T00:00:00",
          "2015-10-02T00:00:00",
          "2015-10-01T00:00:00",
          "2015-09-30T00:00:00",
          "2015-09-29T00:00:00",
          "2015-09-28T00:00:00",
          "2015-09-27T00:00:00",
          "2015-09-26T00:00:00",
          "2015-09-25T00:00:00",
          "2015-09-24T00:00:00",
          "2015-09-23T00:00:00",
          "2015-09-22T00:00:00",
          "2015-09-21T00:00:00",
          "2015-09-20T00:00:00",
          "2015-09-19T00:00:00",
          "2015-09-18T00:00:00",
          "2015-09-17T00:00:00",
          "2015-09-16T00:00:00",
          "2015-09-15T00:00:00",
          "2015-09-14T00:00:00",
          "2015-09-13T00:00:00",
          "2015-09-12T00:00:00",
          "2015-09-11T00:00:00",
          "2015-09-10T00:00:00",
          "2015-09-09T00:00:00",
          "2015-09-08T00:00:00",
          "2015-09-07T00:00:00",
          "2015-09-06T00:00:00",
          "2015-09-05T00:00:00",
          "2015-09-04T00:00:00",
          "2015-09-03T00:00:00",
          "2015-09-02T00:00:00",
          "2015-09-01T00:00:00",
          "2015-08-31T00:00:00",
          "2015-08-30T00:00:00",
          "2015-08-29T00:00:00",
          "2015-08-28T00:00:00",
          "2015-08-27T00:00:00",
          "2015-08-26T00:00:00",
          "2015-08-25T00:00:00",
          "2015-08-24T00:00:00",
          "2015-08-23T00:00:00",
          "2015-08-22T00:00:00",
          "2015-08-21T00:00:00",
          "2015-08-20T00:00:00",
          "2015-08-19T00:00:00",
          "2015-08-18T00:00:00",
          "2015-08-17T00:00:00",
          "2015-08-16T00:00:00",
          "2015-08-15T00:00:00",
          "2015-08-14T00:00:00",
          "2015-08-13T00:00:00",
          "2015-08-12T00:00:00",
          "2015-08-11T00:00:00",
          "2015-08-10T00:00:00",
          "2015-08-09T00:00:00",
          "2015-08-08T00:00:00",
          "2015-08-07T00:00:00",
          "2015-08-06T00:00:00",
          "2015-08-05T00:00:00",
          "2015-08-04T00:00:00",
          "2015-08-03T00:00:00",
          "2015-08-02T00:00:00",
          "2015-08-01T00:00:00",
          "2015-07-31T00:00:00",
          "2015-07-30T00:00:00",
          "2015-07-29T00:00:00",
          "2015-07-28T00:00:00",
          "2015-07-27T00:00:00",
          "2015-07-26T00:00:00",
          "2015-07-25T00:00:00",
          "2015-07-24T00:00:00",
          "2015-07-23T00:00:00",
          "2015-07-22T00:00:00",
          "2015-07-21T00:00:00",
          "2015-07-20T00:00:00",
          "2015-07-19T00:00:00",
          "2015-07-18T00:00:00",
          "2015-07-17T00:00:00",
          "2015-07-16T00:00:00",
          "2015-07-15T00:00:00",
          "2015-07-14T00:00:00",
          "2015-07-13T00:00:00",
          "2015-07-12T00:00:00",
          "2015-07-11T00:00:00",
          "2015-07-10T00:00:00",
          "2015-07-09T00:00:00",
          "2015-07-08T00:00:00",
          "2015-07-07T00:00:00",
          "2015-07-06T00:00:00",
          "2015-07-05T00:00:00",
          "2015-07-04T00:00:00",
          "2015-07-03T00:00:00",
          "2015-07-02T00:00:00",
          "2015-07-01T00:00:00",
          "2015-06-30T00:00:00",
          "2015-06-29T00:00:00",
          "2015-06-28T00:00:00",
          "2015-06-27T00:00:00",
          "2015-06-26T00:00:00",
          "2015-06-25T00:00:00",
          "2015-06-24T00:00:00",
          "2015-06-23T00:00:00",
          "2015-06-22T00:00:00",
          "2015-06-21T00:00:00",
          "2015-06-20T00:00:00",
          "2015-06-19T00:00:00",
          "2015-06-18T00:00:00",
          "2015-06-17T00:00:00",
          "2015-06-16T00:00:00",
          "2015-06-15T00:00:00",
          "2015-06-14T00:00:00",
          "2015-06-13T00:00:00",
          "2015-06-12T00:00:00",
          "2015-06-11T00:00:00",
          "2015-06-10T00:00:00",
          "2015-06-09T00:00:00",
          "2015-06-08T00:00:00",
          "2015-06-07T00:00:00",
          "2015-06-06T00:00:00",
          "2015-06-05T00:00:00",
          "2015-06-04T00:00:00",
          "2015-06-03T00:00:00",
          "2015-06-02T00:00:00",
          "2015-06-01T00:00:00",
          "2015-05-31T00:00:00",
          "2015-05-30T00:00:00",
          "2015-05-29T00:00:00",
          "2015-05-28T00:00:00",
          "2015-05-27T00:00:00",
          "2015-05-26T00:00:00",
          "2015-05-25T00:00:00",
          "2015-05-24T00:00:00",
          "2015-05-23T00:00:00",
          "2015-05-22T00:00:00",
          "2015-05-21T00:00:00",
          "2015-05-20T00:00:00",
          "2015-05-19T00:00:00",
          "2015-05-18T00:00:00",
          "2015-05-17T00:00:00",
          "2015-05-16T00:00:00",
          "2015-05-15T00:00:00",
          "2015-05-14T00:00:00",
          "2015-05-13T00:00:00",
          "2015-05-12T00:00:00",
          "2015-05-11T00:00:00",
          "2015-05-10T00:00:00",
          "2015-05-09T00:00:00",
          "2015-05-08T00:00:00",
          "2015-05-07T00:00:00",
          "2015-05-06T00:00:00",
          "2015-05-05T00:00:00",
          "2015-05-04T00:00:00",
          "2015-05-03T00:00:00",
          "2015-05-02T00:00:00",
          "2015-05-01T00:00:00",
          "2015-04-30T00:00:00",
          "2015-04-29T00:00:00",
          "2015-04-28T00:00:00",
          "2015-04-27T00:00:00",
          "2015-04-26T00:00:00",
          "2015-04-25T00:00:00",
          "2015-04-24T00:00:00",
          "2015-04-23T00:00:00",
          "2015-04-22T00:00:00",
          "2015-04-21T00:00:00",
          "2015-04-20T00:00:00",
          "2015-04-19T00:00:00",
          "2015-04-18T00:00:00",
          "2015-04-17T00:00:00",
          "2015-04-16T00:00:00",
          "2015-04-15T00:00:00",
          "2015-04-14T00:00:00",
          "2015-04-13T00:00:00",
          "2015-04-12T00:00:00",
          "2015-04-11T00:00:00",
          "2015-04-10T00:00:00",
          "2015-04-09T00:00:00",
          "2015-04-08T00:00:00",
          "2015-04-07T00:00:00",
          "2015-04-06T00:00:00",
          "2015-04-05T00:00:00",
          "2015-04-04T00:00:00",
          "2015-04-03T00:00:00",
          "2015-04-02T00:00:00",
          "2015-04-01T00:00:00",
          "2015-03-31T00:00:00",
          "2015-03-30T00:00:00",
          "2015-03-29T00:00:00",
          "2015-03-28T00:00:00",
          "2015-03-27T00:00:00",
          "2015-03-26T00:00:00",
          "2015-03-25T00:00:00",
          "2015-03-24T00:00:00",
          "2015-03-23T00:00:00",
          "2015-03-22T00:00:00",
          "2015-03-21T00:00:00",
          "2015-03-20T00:00:00",
          "2015-03-19T00:00:00",
          "2015-03-18T00:00:00",
          "2015-03-17T00:00:00",
          "2015-03-16T00:00:00",
          "2015-03-15T00:00:00",
          "2015-03-14T00:00:00",
          "2015-03-13T00:00:00",
          "2015-03-12T00:00:00",
          "2015-03-11T00:00:00",
          "2015-03-10T00:00:00",
          "2015-03-09T00:00:00",
          "2015-03-08T00:00:00",
          "2015-03-07T00:00:00",
          "2015-03-06T00:00:00",
          "2015-03-05T00:00:00",
          "2015-03-04T00:00:00",
          "2015-03-03T00:00:00",
          "2015-03-02T00:00:00",
          "2015-03-01T00:00:00",
          "2015-02-28T00:00:00",
          "2015-02-27T00:00:00",
          "2015-02-26T00:00:00",
          "2015-02-25T00:00:00",
          "2015-02-24T00:00:00",
          "2015-02-23T00:00:00",
          "2015-02-22T00:00:00",
          "2015-02-21T00:00:00",
          "2015-02-20T00:00:00",
          "2015-02-19T00:00:00",
          "2015-02-18T00:00:00",
          "2015-02-17T00:00:00",
          "2015-02-16T00:00:00",
          "2015-02-15T00:00:00",
          "2015-02-14T00:00:00",
          "2015-02-13T00:00:00",
          "2015-02-12T00:00:00",
          "2015-02-11T00:00:00",
          "2015-02-10T00:00:00",
          "2015-02-09T00:00:00",
          "2015-02-08T00:00:00",
          "2015-02-07T00:00:00",
          "2015-02-06T00:00:00",
          "2015-02-05T00:00:00",
          "2015-02-04T00:00:00",
          "2015-02-03T00:00:00",
          "2015-02-02T00:00:00",
          "2015-02-01T00:00:00",
          "2015-01-31T00:00:00",
          "2015-01-30T00:00:00",
          "2015-01-29T00:00:00",
          "2015-01-28T00:00:00",
          "2015-01-27T00:00:00",
          "2015-01-26T00:00:00",
          "2015-01-25T00:00:00",
          "2015-01-24T00:00:00",
          "2015-01-23T00:00:00",
          "2015-01-22T00:00:00",
          "2015-01-21T00:00:00",
          "2015-01-20T00:00:00",
          "2015-01-19T00:00:00",
          "2015-01-18T00:00:00",
          "2015-01-17T00:00:00",
          "2015-01-16T00:00:00",
          "2015-01-15T00:00:00",
          "2015-01-14T00:00:00",
          "2015-01-13T00:00:00",
          "2015-01-12T00:00:00",
          "2015-01-11T00:00:00",
          "2015-01-10T00:00:00",
          "2015-01-09T00:00:00",
          "2015-01-08T00:00:00",
          "2015-01-07T00:00:00",
          "2015-01-06T00:00:00",
          "2015-01-05T00:00:00",
          "2015-01-04T00:00:00",
          "2015-01-03T00:00:00",
          "2015-01-02T00:00:00",
          "2015-01-01T00:00:00",
          "2014-12-31T00:00:00",
          "2014-12-30T00:00:00",
          "2014-12-29T00:00:00",
          "2014-12-28T00:00:00",
          "2014-12-27T00:00:00",
          "2014-12-26T00:00:00",
          "2014-12-25T00:00:00",
          "2014-12-24T00:00:00",
          "2014-12-23T00:00:00",
          "2014-12-22T00:00:00",
          "2014-12-21T00:00:00",
          "2014-12-20T00:00:00",
          "2014-12-19T00:00:00",
          "2014-12-18T00:00:00",
          "2014-12-17T00:00:00",
          "2014-12-16T00:00:00",
          "2014-12-15T00:00:00",
          "2014-12-14T00:00:00",
          "2014-12-13T00:00:00",
          "2014-12-12T00:00:00",
          "2014-12-11T00:00:00",
          "2014-12-10T00:00:00",
          "2014-12-09T00:00:00",
          "2014-12-08T00:00:00",
          "2014-12-07T00:00:00",
          "2014-12-06T00:00:00",
          "2014-12-05T00:00:00",
          "2014-12-04T00:00:00",
          "2014-12-03T00:00:00",
          "2014-12-02T00:00:00",
          "2014-12-01T00:00:00",
          "2014-11-30T00:00:00",
          "2014-11-29T00:00:00",
          "2014-11-28T00:00:00",
          "2014-11-27T00:00:00",
          "2014-11-26T00:00:00",
          "2014-11-25T00:00:00",
          "2014-11-24T00:00:00",
          "2014-11-23T00:00:00",
          "2014-11-22T00:00:00",
          "2014-11-21T00:00:00",
          "2014-11-20T00:00:00",
          "2014-11-19T00:00:00",
          "2014-11-18T00:00:00",
          "2014-11-17T00:00:00",
          "2014-11-16T00:00:00",
          "2014-11-15T00:00:00",
          "2014-11-14T00:00:00",
          "2014-11-13T00:00:00",
          "2014-11-12T00:00:00",
          "2014-11-11T00:00:00",
          "2014-11-10T00:00:00",
          "2014-11-09T00:00:00",
          "2014-11-08T00:00:00",
          "2014-11-07T00:00:00",
          "2014-11-06T00:00:00",
          "2014-11-05T00:00:00",
          "2014-11-04T00:00:00",
          "2014-11-03T00:00:00",
          "2014-11-02T00:00:00",
          "2014-11-01T00:00:00",
          "2014-10-31T00:00:00",
          "2014-10-30T00:00:00",
          "2014-10-29T00:00:00",
          "2014-10-28T00:00:00",
          "2014-10-27T00:00:00",
          "2014-10-26T00:00:00",
          "2014-10-25T00:00:00",
          "2014-10-24T00:00:00",
          "2014-10-23T00:00:00",
          "2014-10-22T00:00:00",
          "2014-10-21T00:00:00",
          "2014-10-20T00:00:00",
          "2014-10-19T00:00:00",
          "2014-10-18T00:00:00",
          "2014-10-17T00:00:00",
          "2014-10-16T00:00:00",
          "2014-10-15T00:00:00",
          "2014-10-14T00:00:00",
          "2014-10-13T00:00:00",
          "2014-10-12T00:00:00",
          "2014-10-11T00:00:00",
          "2014-10-10T00:00:00",
          "2014-10-09T00:00:00",
          "2014-10-08T00:00:00",
          "2014-10-07T00:00:00",
          "2014-10-06T00:00:00",
          "2014-10-05T00:00:00",
          "2014-10-04T00:00:00",
          "2014-10-03T00:00:00",
          "2014-10-02T00:00:00",
          "2014-10-01T00:00:00",
          "2014-09-30T00:00:00",
          "2014-09-29T00:00:00",
          "2014-09-28T00:00:00",
          "2014-09-27T00:00:00",
          "2014-09-26T00:00:00",
          "2014-09-25T00:00:00",
          "2014-09-24T00:00:00",
          "2014-09-23T00:00:00",
          "2014-09-22T00:00:00",
          "2014-09-21T00:00:00",
          "2014-09-20T00:00:00",
          "2014-09-19T00:00:00",
          "2014-09-18T00:00:00",
          "2014-09-17T00:00:00",
          "2014-09-16T00:00:00",
          "2014-09-15T00:00:00",
          "2014-09-14T00:00:00",
          "2014-09-13T00:00:00",
          "2014-09-12T00:00:00",
          "2014-09-11T00:00:00",
          "2014-09-10T00:00:00",
          "2014-09-09T00:00:00",
          "2014-09-08T00:00:00",
          "2014-09-07T00:00:00",
          "2014-09-06T00:00:00",
          "2014-09-05T00:00:00",
          "2014-09-04T00:00:00",
          "2014-09-03T00:00:00",
          "2014-09-02T00:00:00",
          "2014-09-01T00:00:00",
          "2014-08-31T00:00:00",
          "2014-08-30T00:00:00",
          "2014-08-29T00:00:00",
          "2014-08-28T00:00:00",
          "2014-08-27T00:00:00",
          "2014-08-26T00:00:00",
          "2014-08-25T00:00:00",
          "2014-08-24T00:00:00",
          "2014-08-23T00:00:00",
          "2014-08-22T00:00:00",
          "2014-08-21T00:00:00",
          "2014-08-20T00:00:00",
          "2014-08-19T00:00:00",
          "2014-08-18T00:00:00",
          "2014-08-17T00:00:00",
          "2014-08-16T00:00:00",
          "2014-08-15T00:00:00",
          "2014-08-14T00:00:00",
          "2014-08-13T00:00:00",
          "2014-08-12T00:00:00",
          "2014-08-11T00:00:00",
          "2014-08-10T00:00:00",
          "2014-08-09T00:00:00",
          "2014-08-08T00:00:00",
          "2014-08-07T00:00:00",
          "2014-08-06T00:00:00",
          "2014-08-05T00:00:00",
          "2014-08-04T00:00:00",
          "2014-08-03T00:00:00",
          "2014-08-02T00:00:00",
          "2014-08-01T00:00:00",
          "2014-07-31T00:00:00",
          "2014-07-30T00:00:00",
          "2014-07-29T00:00:00",
          "2014-07-28T00:00:00",
          "2014-07-27T00:00:00",
          "2014-07-26T00:00:00",
          "2014-07-25T00:00:00",
          "2014-07-24T00:00:00",
          "2014-07-23T00:00:00",
          "2014-07-22T00:00:00",
          "2014-07-21T00:00:00",
          "2014-07-20T00:00:00",
          "2014-07-19T00:00:00",
          "2014-07-18T00:00:00",
          "2014-07-17T00:00:00",
          "2014-07-16T00:00:00",
          "2014-07-15T00:00:00",
          "2014-07-14T00:00:00",
          "2014-07-13T00:00:00",
          "2014-07-12T00:00:00",
          "2014-07-11T00:00:00",
          "2014-07-10T00:00:00",
          "2014-07-09T00:00:00",
          "2014-07-08T00:00:00",
          "2014-07-07T00:00:00",
          "2014-07-06T00:00:00",
          "2014-07-05T00:00:00",
          "2014-07-04T00:00:00",
          "2014-07-03T00:00:00",
          "2014-07-02T00:00:00",
          "2014-07-01T00:00:00",
          "2014-06-30T00:00:00",
          "2014-06-29T00:00:00",
          "2014-06-28T00:00:00",
          "2014-06-27T00:00:00",
          "2014-06-26T00:00:00",
          "2014-06-25T00:00:00",
          "2014-06-24T00:00:00",
          "2014-06-23T00:00:00",
          "2014-06-22T00:00:00",
          "2014-06-21T00:00:00",
          "2014-06-20T00:00:00",
          "2014-06-19T00:00:00",
          "2014-06-18T00:00:00",
          "2014-06-17T00:00:00",
          "2014-06-16T00:00:00",
          "2014-06-15T00:00:00",
          "2014-06-14T00:00:00",
          "2014-06-13T00:00:00",
          "2014-06-12T00:00:00",
          "2014-06-11T00:00:00",
          "2014-06-10T00:00:00",
          "2014-06-09T00:00:00",
          "2014-06-08T00:00:00",
          "2014-06-07T00:00:00",
          "2014-06-06T00:00:00",
          "2014-06-05T00:00:00",
          "2014-06-04T00:00:00",
          "2014-06-03T00:00:00",
          "2014-06-02T00:00:00",
          "2014-06-01T00:00:00",
          "2014-05-31T00:00:00",
          "2014-05-30T00:00:00",
          "2014-05-29T00:00:00",
          "2014-05-28T00:00:00",
          "2014-05-27T00:00:00",
          "2014-05-26T00:00:00",
          "2014-05-25T00:00:00",
          "2014-05-24T00:00:00",
          "2014-05-23T00:00:00",
          "2014-05-22T00:00:00",
          "2014-05-21T00:00:00",
          "2014-05-20T00:00:00",
          "2014-05-19T00:00:00",
          "2014-05-18T00:00:00",
          "2014-05-17T00:00:00",
          "2014-05-16T00:00:00",
          "2014-05-15T00:00:00",
          "2014-05-14T00:00:00",
          "2014-05-13T00:00:00",
          "2014-05-12T00:00:00",
          "2014-05-11T00:00:00",
          "2014-05-10T00:00:00",
          "2014-05-09T00:00:00",
          "2014-05-08T00:00:00",
          "2014-05-07T00:00:00",
          "2014-05-06T00:00:00",
          "2014-05-05T00:00:00",
          "2014-05-04T00:00:00",
          "2014-05-03T00:00:00",
          "2014-05-02T00:00:00",
          "2014-05-01T00:00:00",
          "2014-04-30T00:00:00",
          "2014-04-29T00:00:00",
          "2014-04-28T00:00:00",
          "2014-04-27T00:00:00",
          "2014-04-26T00:00:00",
          "2014-04-25T00:00:00",
          "2014-04-24T00:00:00",
          "2014-04-23T00:00:00",
          "2014-04-22T00:00:00",
          "2014-04-21T00:00:00",
          "2014-04-20T00:00:00",
          "2014-04-19T00:00:00",
          "2014-04-18T00:00:00",
          "2014-04-17T00:00:00",
          "2014-04-16T00:00:00",
          "2014-04-15T00:00:00",
          "2014-04-14T00:00:00",
          "2014-04-13T00:00:00",
          "2014-04-12T00:00:00",
          "2014-04-11T00:00:00",
          "2014-04-10T00:00:00",
          "2014-04-09T00:00:00",
          "2014-04-08T00:00:00",
          "2014-04-07T00:00:00",
          "2014-04-06T00:00:00",
          "2014-04-05T00:00:00",
          "2014-04-04T00:00:00",
          "2014-04-03T00:00:00",
          "2014-04-02T00:00:00",
          "2014-04-01T00:00:00",
          "2014-03-31T00:00:00",
          "2014-03-30T00:00:00",
          "2014-03-29T00:00:00",
          "2014-03-28T00:00:00",
          "2014-03-27T00:00:00",
          "2014-03-26T00:00:00",
          "2014-03-25T00:00:00",
          "2014-03-24T00:00:00",
          "2014-03-23T00:00:00",
          "2014-03-22T00:00:00",
          "2014-03-21T00:00:00",
          "2014-03-20T00:00:00",
          "2014-03-19T00:00:00",
          "2014-03-18T00:00:00",
          "2014-03-17T00:00:00",
          "2014-03-16T00:00:00",
          "2014-03-15T00:00:00",
          "2014-03-14T00:00:00",
          "2014-03-13T00:00:00",
          "2014-03-12T00:00:00",
          "2014-03-11T00:00:00",
          "2014-03-10T00:00:00",
          "2014-03-09T00:00:00",
          "2014-03-08T00:00:00",
          "2014-03-07T00:00:00",
          "2014-03-06T00:00:00",
          "2014-03-05T00:00:00",
          "2014-03-04T00:00:00",
          "2014-03-03T00:00:00",
          "2014-03-02T00:00:00",
          "2014-03-01T00:00:00",
          "2014-02-28T00:00:00",
          "2014-02-27T00:00:00",
          "2014-02-26T00:00:00",
          "2014-02-25T00:00:00",
          "2014-02-24T00:00:00",
          "2014-02-23T00:00:00",
          "2014-02-22T00:00:00",
          "2014-02-21T00:00:00",
          "2014-02-20T00:00:00",
          "2014-02-19T00:00:00",
          "2014-02-18T00:00:00",
          "2014-02-17T00:00:00",
          "2014-02-16T00:00:00",
          "2014-02-15T00:00:00",
          "2014-02-14T00:00:00",
          "2014-02-13T00:00:00",
          "2014-02-12T00:00:00",
          "2014-02-11T00:00:00",
          "2014-02-10T00:00:00",
          "2014-02-09T00:00:00",
          "2014-02-08T00:00:00",
          "2014-02-07T00:00:00",
          "2014-02-06T00:00:00",
          "2014-02-05T00:00:00",
          "2014-02-04T00:00:00",
          "2014-02-03T00:00:00",
          "2014-02-02T00:00:00",
          "2014-02-01T00:00:00",
          "2014-01-31T00:00:00",
          "2014-01-30T00:00:00",
          "2014-01-29T00:00:00",
          "2014-01-28T00:00:00",
          "2014-01-27T00:00:00",
          "2014-01-26T00:00:00",
          "2014-01-25T00:00:00",
          "2014-01-24T00:00:00",
          "2014-01-23T00:00:00",
          "2014-01-22T00:00:00",
          "2014-01-21T00:00:00",
          "2014-01-20T00:00:00",
          "2014-01-19T00:00:00",
          "2014-01-18T00:00:00",
          "2014-01-17T00:00:00",
          "2014-01-16T00:00:00",
          "2014-01-15T00:00:00",
          "2014-01-14T00:00:00",
          "2014-01-13T00:00:00",
          "2014-01-12T00:00:00",
          "2014-01-11T00:00:00",
          "2014-01-10T00:00:00",
          "2014-01-09T00:00:00",
          "2014-01-08T00:00:00",
          "2014-01-07T00:00:00",
          "2014-01-06T00:00:00",
          "2014-01-05T00:00:00",
          "2014-01-04T00:00:00",
          "2014-01-03T00:00:00",
          "2014-01-02T00:00:00",
          "2014-01-01T00:00:00",
          "2013-12-31T00:00:00",
          "2013-12-30T00:00:00",
          "2013-12-29T00:00:00",
          "2013-12-28T00:00:00",
          "2013-12-27T00:00:00",
          "2013-12-26T00:00:00",
          "2013-12-25T00:00:00",
          "2013-12-24T00:00:00",
          "2013-12-23T00:00:00",
          "2013-12-22T00:00:00",
          "2013-12-21T00:00:00",
          "2013-12-20T00:00:00",
          "2013-12-19T00:00:00",
          "2013-12-18T00:00:00",
          "2013-12-17T00:00:00",
          "2013-12-16T00:00:00",
          "2013-12-15T00:00:00",
          "2013-12-14T00:00:00",
          "2013-12-13T00:00:00",
          "2013-12-12T00:00:00",
          "2013-12-11T00:00:00",
          "2013-12-10T00:00:00",
          "2013-12-09T00:00:00",
          "2013-12-08T00:00:00",
          "2013-12-07T00:00:00",
          "2013-12-06T00:00:00",
          "2013-12-05T00:00:00",
          "2013-12-04T00:00:00",
          "2013-12-03T00:00:00",
          "2013-12-02T00:00:00",
          "2013-12-01T00:00:00",
          "2013-11-30T00:00:00",
          "2013-11-29T00:00:00",
          "2013-11-28T00:00:00",
          "2013-11-27T00:00:00",
          "2013-11-26T00:00:00",
          "2013-11-25T00:00:00",
          "2013-11-24T00:00:00",
          "2013-11-23T00:00:00",
          "2013-11-22T00:00:00",
          "2013-11-21T00:00:00",
          "2013-11-20T00:00:00",
          "2013-11-19T00:00:00",
          "2013-11-18T00:00:00",
          "2013-11-17T00:00:00",
          "2013-11-16T00:00:00",
          "2013-11-15T00:00:00",
          "2013-11-14T00:00:00",
          "2013-11-13T00:00:00",
          "2013-11-12T00:00:00",
          "2013-11-11T00:00:00",
          "2013-11-10T00:00:00",
          "2013-11-09T00:00:00",
          "2013-11-08T00:00:00",
          "2013-11-07T00:00:00",
          "2013-11-06T00:00:00",
          "2013-11-05T00:00:00",
          "2013-11-04T00:00:00",
          "2013-11-03T00:00:00",
          "2013-11-02T00:00:00",
          "2013-11-01T00:00:00",
          "2013-10-31T00:00:00",
          "2013-10-30T00:00:00",
          "2013-10-29T00:00:00",
          "2013-10-28T00:00:00",
          "2013-10-27T00:00:00",
          "2013-10-26T00:00:00",
          "2013-10-25T00:00:00",
          "2013-10-24T00:00:00",
          "2013-10-23T00:00:00",
          "2013-10-22T00:00:00",
          "2013-10-21T00:00:00",
          "2013-10-20T00:00:00",
          "2013-10-19T00:00:00",
          "2013-10-18T00:00:00",
          "2013-10-17T00:00:00",
          "2013-10-16T00:00:00",
          "2013-10-15T00:00:00",
          "2013-10-14T00:00:00",
          "2013-10-13T00:00:00",
          "2013-10-12T00:00:00",
          "2013-10-11T00:00:00",
          "2013-10-10T00:00:00",
          "2013-10-09T00:00:00",
          "2013-10-08T00:00:00",
          "2013-10-07T00:00:00",
          "2013-10-06T00:00:00",
          "2013-10-05T00:00:00",
          "2013-10-04T00:00:00",
          "2013-10-03T00:00:00",
          "2013-10-02T00:00:00",
          "2013-10-01T00:00:00",
          "2013-09-30T00:00:00",
          "2013-09-29T00:00:00",
          "2013-09-28T00:00:00",
          "2013-09-27T00:00:00",
          "2013-09-26T00:00:00",
          "2013-09-25T00:00:00",
          "2013-09-24T00:00:00",
          "2013-09-23T00:00:00",
          "2013-09-22T00:00:00",
          "2013-09-21T00:00:00",
          "2013-09-20T00:00:00",
          "2013-09-19T00:00:00",
          "2013-09-18T00:00:00",
          "2013-09-17T00:00:00",
          "2013-09-16T00:00:00",
          "2013-09-15T00:00:00",
          "2013-09-14T00:00:00",
          "2013-09-13T00:00:00",
          "2013-09-12T00:00:00",
          "2013-09-11T00:00:00",
          "2013-09-10T00:00:00",
          "2013-09-09T00:00:00",
          "2013-09-08T00:00:00",
          "2013-09-07T00:00:00",
          "2013-09-06T00:00:00",
          "2013-09-05T00:00:00",
          "2013-09-04T00:00:00",
          "2013-09-03T00:00:00",
          "2013-09-02T00:00:00",
          "2013-09-01T00:00:00",
          "2013-08-31T00:00:00",
          "2013-08-30T00:00:00",
          "2013-08-29T00:00:00",
          "2013-08-28T00:00:00",
          "2013-08-27T00:00:00",
          "2013-08-26T00:00:00",
          "2013-08-25T00:00:00",
          "2013-08-24T00:00:00",
          "2013-08-23T00:00:00",
          "2013-08-22T00:00:00",
          "2013-08-21T00:00:00",
          "2013-08-20T00:00:00",
          "2013-08-19T00:00:00",
          "2013-08-18T00:00:00",
          "2013-08-17T00:00:00",
          "2013-08-16T00:00:00",
          "2013-08-15T00:00:00",
          "2013-08-14T00:00:00",
          "2013-08-13T00:00:00",
          "2013-08-12T00:00:00",
          "2013-08-11T00:00:00",
          "2013-08-10T00:00:00",
          "2013-08-09T00:00:00",
          "2013-08-08T00:00:00",
          "2013-08-07T00:00:00",
          "2013-08-06T00:00:00",
          "2013-08-05T00:00:00",
          "2013-08-04T00:00:00",
          "2013-08-03T00:00:00",
          "2013-08-02T00:00:00",
          "2013-08-01T00:00:00",
          "2013-07-31T00:00:00",
          "2013-07-30T00:00:00",
          "2013-07-29T00:00:00",
          "2013-07-28T00:00:00",
          "2013-07-27T00:00:00",
          "2013-07-26T00:00:00",
          "2013-07-25T00:00:00",
          "2013-07-24T00:00:00",
          "2013-07-23T00:00:00",
          "2013-07-22T00:00:00",
          "2013-07-21T00:00:00",
          "2013-07-20T00:00:00",
          "2013-07-19T00:00:00",
          "2013-07-18T00:00:00",
          "2013-07-17T00:00:00",
          "2013-07-16T00:00:00",
          "2013-07-15T00:00:00",
          "2013-07-14T00:00:00",
          "2013-07-13T00:00:00",
          "2013-07-12T00:00:00",
          "2013-07-11T00:00:00",
          "2013-07-10T00:00:00",
          "2013-07-09T00:00:00",
          "2013-07-08T00:00:00",
          "2013-07-07T00:00:00",
          "2013-07-06T00:00:00",
          "2013-07-05T00:00:00",
          "2013-07-04T00:00:00",
          "2013-07-03T00:00:00",
          "2013-07-02T00:00:00",
          "2013-07-01T00:00:00",
          "2013-06-30T00:00:00",
          "2013-06-29T00:00:00",
          "2013-06-28T00:00:00",
          "2013-06-27T00:00:00",
          "2013-06-26T00:00:00",
          "2013-06-25T00:00:00",
          "2013-06-24T00:00:00",
          "2013-06-23T00:00:00",
          "2013-06-22T00:00:00",
          "2013-06-21T00:00:00",
          "2013-06-20T00:00:00",
          "2013-06-19T00:00:00",
          "2013-06-18T00:00:00",
          "2013-06-17T00:00:00",
          "2013-06-16T00:00:00",
          "2013-06-15T00:00:00",
          "2013-06-14T00:00:00",
          "2013-06-13T00:00:00",
          "2013-06-12T00:00:00",
          "2013-06-11T00:00:00",
          "2013-06-10T00:00:00",
          "2013-06-09T00:00:00",
          "2013-06-08T00:00:00",
          "2013-06-07T00:00:00",
          "2013-06-06T00:00:00",
          "2013-06-05T00:00:00",
          "2013-06-04T00:00:00",
          "2013-06-03T00:00:00",
          "2013-06-02T00:00:00",
          "2013-06-01T00:00:00",
          "2013-05-31T00:00:00",
          "2013-05-30T00:00:00",
          "2013-05-29T00:00:00",
          "2013-05-28T00:00:00",
          "2013-05-27T00:00:00",
          "2013-05-26T00:00:00",
          "2013-05-25T00:00:00",
          "2013-05-24T00:00:00",
          "2013-05-23T00:00:00",
          "2013-05-22T00:00:00",
          "2013-05-21T00:00:00",
          "2013-05-20T00:00:00",
          "2013-05-19T00:00:00",
          "2013-05-18T00:00:00",
          "2013-05-17T00:00:00",
          "2013-05-16T00:00:00",
          "2013-05-15T00:00:00",
          "2013-05-14T00:00:00",
          "2013-05-13T00:00:00",
          "2013-05-12T00:00:00",
          "2013-05-11T00:00:00",
          "2013-05-10T00:00:00",
          "2013-05-09T00:00:00",
          "2013-05-08T00:00:00",
          "2013-05-07T00:00:00",
          "2013-05-06T00:00:00",
          "2013-05-05T00:00:00",
          "2013-05-04T00:00:00",
          "2013-05-03T00:00:00",
          "2013-05-02T00:00:00",
          "2013-05-01T00:00:00",
          "2013-04-30T00:00:00",
          "2013-04-29T00:00:00",
          "2013-04-28T00:00:00"
         ],
         "y": [
          null,
          null,
          null,
          null,
          null,
          null,
          null,
          null,
          null,
          null,
          null,
          null,
          null,
          null,
          null,
          null,
          null,
          null,
          null,
          null,
          null,
          null,
          null,
          null,
          null,
          null,
          null,
          null,
          null,
          null,
          null,
          null,
          null,
          null,
          null,
          null,
          null,
          null,
          null,
          null,
          null,
          null,
          null,
          null,
          null,
          null,
          null,
          null,
          null,
          2548.9418,
          2550.5972,
          2554.4078,
          2556.355,
          2556.2872,
          2557.4948,
          2564.1697999999997,
          2566.3763999999996,
          2561.5153999999998,
          2557.2144,
          2550.783,
          2545.5854,
          2534.9615999999996,
          2533.0024,
          2531.7369999999996,
          2530.2848,
          2532.4658,
          2536.537,
          2537.9698000000003,
          2539.6846,
          2538.1162,
          2534.8284,
          2528.2012,
          2519.527,
          2507.8544,
          2495.2542000000003,
          2479.8648000000003,
          2462.514,
          2445.2498,
          2430.1468,
          2416.1156,
          2401.9094,
          2389.264,
          2374.2201999999997,
          2357.8316,
          2341.2496,
          2323.6148,
          2303.4026,
          2282.3372,
          2258.1924,
          2233.886,
          2209.1604,
          2183.1566000000003,
          2158.3224,
          2133.7924,
          2107.0044,
          2082.9878,
          2059.3178,
          2034.5002,
          2005.1628000000003,
          1976.1144,
          1941.5864000000001,
          1907.0731999999998,
          1875.1786,
          1843.2720000000002,
          1812.8622,
          1779.4764000000002,
          1749.399,
          1722.6132,
          1695.6570000000002,
          1669.2716,
          1645.1214000000002,
          1623.4934,
          1603.7266,
          1582.3718,
          1562.7748000000001,
          1545.5354,
          1525.1406,
          1501.5366000000001,
          1475.3288,
          1451.7966000000001,
          1430.372,
          1411.1580000000001,
          1390.8991999999998,
          1371.6736,
          1354.7,
          1338.8612,
          1325.0876,
          1309.6536,
          1292.9309999999998,
          1275.5832,
          1261.8701999999998,
          1245.8816,
          1232.5498,
          1218.5272,
          1204.795,
          1192.3372,
          1182.7658000000001,
          1175.413,
          1169.6518,
          1164.65,
          1160.232,
          1156.2276,
          1152.7864,
          1148.685,
          1146.1252,
          1142.7706,
          1141.6198,
          1141.7666,
          1142.106,
          1143.0647999999999,
          1143.9304000000002,
          1144.5095999999999,
          1144.378,
          1143.7716,
          1143.1376,
          1142.5634,
          1141.7814,
          1141.8046000000002,
          1141.7882,
          1140.7514,
          1139.05,
          1136.5494,
          1133.7642,
          1131.0952,
          1128.5004000000001,
          1125.5112,
          1122.0072,
          1119.6026,
          1116.7504000000001,
          1113.8578,
          1111.9034,
          1110.0667999999998,
          1108.5185999999999,
          1109.2514,
          1109.679,
          1109.499,
          1109.1304,
          1110.6538,
          1111.7964,
          1113.282,
          1112.2906,
          1110.7158,
          1106.7126,
          1104.018,
          1101.715,
          1100.6336000000001,
          1096.9807999999998,
          1091.2554,
          1084.117,
          1077.7372,
          1071.5922,
          1065.6004,
          1059.9844,
          1055.6314,
          1049.594,
          1044.7528,
          1036.9126,
          1027.892,
          1018.9177999999999,
          1010.2944,
          1000.8911999999999,
          991.4262000000001,
          985.1298000000002,
          979.587,
          974.2116000000001,
          969.0794000000001,
          964.2466000000001,
          961.0405999999999,
          960.8008,
          959.3288,
          957.4578,
          955.8248,
          954.1422,
          952.2786,
          950.8243999999999,
          949.7940000000001,
          948.3084,
          946.3696000000001,
          944.4803999999999,
          942.4731999999999,
          940.8238,
          938.3412,
          935.1392,
          929.8953999999999,
          924.5225999999999,
          919.5701999999999,
          914.84,
          909.6802,
          904.6438,
          900.0374,
          895.8682000000001,
          892.062,
          889.049,
          886.1519999999999,
          883.176,
          880.1972000000001,
          877.2080000000001,
          874.4616000000001,
          871.7818000000001,
          868.8389999999999,
          865.7686,
          862.8916,
          860.1264,
          857.0588,
          854.0383999999999,
          850.5958,
          848.6057999999998,
          846.8774000000001,
          845.3422,
          843.6684000000001,
          842.4636,
          841.9354,
          838.5668,
          835.1308,
          831.9392,
          828.7991999999999,
          825.5748,
          820.1912,
          811.329,
          804.5526000000001,
          798.1582000000001,
          792.2926,
          787.346,
          782.4318000000001,
          777.4272,
          772.1058,
          767.5044,
          763.5826,
          759.7274000000001,
          755.8158,
          751.1501999999999,
          748.676,
          746.5862,
          744.5880000000001,
          742.7710000000001,
          741.25,
          739.2264,
          737.2943999999999,
          735.2986,
          732.8207999999998,
          730.2847999999999,
          727.8244,
          725.5756,
          722.7392,
          719.9005999999999,
          717.0948,
          714.4914,
          711.9908,
          709.6493999999999,
          706.945,
          704.3296,
          701.5065999999999,
          699.095,
          697.0025999999999,
          694.6704,
          692.2891999999999,
          690.0308,
          687.6655999999999,
          685.0929999999998,
          682.5373999999999,
          679.8496,
          677.0652,
          674.498,
          672.1570000000002,
          669.3194,
          666.4014,
          663.6764,
          660.9158,
          658.8442,
          656.7603999999999,
          654.7724000000001,
          652.7282,
          650.326,
          647.9584,
          645.6591999999999,
          643.6468,
          641.7815999999999,
          639.6708,
          637.7418,
          635.82,
          634.2596,
          631.6278,
          629.1968,
          627.3118,
          625.7448,
          623.9123999999999,
          622.6458,
          621.1704,
          619.8132,
          618.7932,
          617.8906000000001,
          616.7134000000001,
          615.0784,
          613.8678,
          612.76,
          611.6996,
          610.4226,
          609.1170000000001,
          607.6834,
          606.5034,
          605.251,
          604.1188,
          603.0632,
          601.9768,
          601.2232,
          600.5222,
          599.6525999999999,
          598.7966,
          598.0006,
          597.2992,
          596.44,
          595.6068,
          595.1008,
          594.5724,
          594.16,
          593.8882,
          593.5495999999999,
          593.2472,
          592.9402,
          592.6792,
          592.1274,
          591.6364,
          591.0376,
          590.044,
          590.0032,
          590.3122,
          591.2158000000001,
          592.236,
          593.1972000000001,
          594.1411999999999,
          594.9632,
          595.8604,
          596.9212,
          597.8979999999999,
          598.4402,
          599.2832,
          600.0704000000001,
          601.2368,
          602.4902,
          603.9476,
          604.9904,
          606.2912,
          607.942,
          609.5854,
          611.367,
          612.7701999999999,
          614.2752,
          615.8162,
          617.7476,
          618.9658000000001,
          620.9572000000001,
          622.7662,
          624.7712,
          626.2094000000001,
          628.6572,
          630.5491999999999,
          632.5034,
          633.8148,
          635.2904,
          636.847,
          638.0896,
          639.9825999999999,
          641.5768,
          642.3052,
          642.4452,
          643.9362,
          646.9248,
          650.3793999999999,
          653.6501999999999,
          656.8728,
          660.6981999999999,
          663.0218,
          665.4058,
          668.544,
          669.8742,
          669.5151999999999,
          667.9636,
          666.3164,
          664.8486,
          663.2936,
          661.9688000000001,
          660.3864,
          658.6153999999999,
          656.888,
          654.635,
          652.0732,
          649.3874,
          646.6074,
          643.6698,
          640.6813999999999,
          636.9352,
          632.7378,
          628.5682,
          624.3983999999999,
          619.9904,
          615.8236,
          611.7002,
          607.5346,
          602.9784,
          599.2596,
          594.7886,
          590.4592,
          585.9374,
          581.8776,
          576.9169999999999,
          572.4864,
          568.0742,
          564.2941999999999,
          560.5638,
          556.6294,
          553.2128,
          549.1024,
          544.756,
          541.2108000000001,
          538.2944,
          533.8548,
          528.1478,
          521.8386,
          515.816,
          509.81800000000004,
          503.38559999999995,
          498.818,
          494.3354,
          489.41900000000004,
          484.969,
          481.74920000000003,
          479.18840000000006,
          476.5236,
          473.601,
          470.6408,
          467.478,
          464.5898,
          461.7294,
          458.83119999999997,
          456.5464,
          454.3118,
          452.1336,
          449.8876,
          447.75120000000004,
          445.5574,
          444.5432,
          443.94379999999995,
          443.4324,
          442.94160000000005,
          442.47659999999996,
          442.10760000000005,
          441.603,
          441.084,
          440.6062,
          439.8442,
          439.2532,
          438.70520000000005,
          437.9126,
          437.14279999999997,
          436.35720000000003,
          435.62260000000003,
          434.92980000000006,
          434.1782,
          433.2436,
          432.2814,
          431.3016,
          430.522,
          429.9026,
          429.30479999999994,
          428.6276,
          428.0154,
          427.2102,
          426.67760000000004,
          425.9182,
          425.23519999999996,
          424.62080000000003,
          423.5854,
          422.51099999999997,
          421.35119999999995,
          420.56440000000003,
          420.08259999999996,
          419.57379999999995,
          419.4484,
          419.4922,
          419.5904,
          419.6928,
          419.72439999999995,
          419.621,
          419.6344,
          419.5746000000001,
          419.8258,
          420.1522,
          420.4642,
          420.4918,
          420.5322,
          420.4036,
          420.08520000000004,
          419.6084,
          419.32419999999996,
          418.74340000000007,
          418.0112,
          417.245,
          416.54339999999996,
          415.7676,
          414.9062,
          413.954,
          412.94919999999996,
          412.3214,
          411.76959999999997,
          410.8408,
          409.96899999999994,
          409.06839999999994,
          408.17760000000004,
          407.4676,
          406.8482,
          406.263,
          405.75,
          405.2528,
          404.7508,
          404.48140000000006,
          403.95,
          403.36740000000003,
          403.13879999999995,
          403.2008,
          402.50660000000005,
          401.9706,
          401.33020000000005,
          400.9268,
          400.20200000000006,
          400.58939999999996,
          400.8038,
          401.0378,
          401.30400000000003,
          401.50980000000004,
          401.792,
          402.2062,
          402.72420000000005,
          402.8156000000001,
          402.9558,
          403.20279999999997,
          403.04799999999994,
          402.9408,
          402.88419999999996,
          403.0798,
          403.16479999999996,
          403.49800000000005,
          403.7938,
          404.2464,
          404.4472,
          405.72299999999996,
          407.1376,
          408.3926,
          409.49100000000004,
          410.7432,
          412.12799999999993,
          413.842,
          415.584,
          416.9746,
          418.2814,
          420.18879999999996,
          421.58340000000004,
          422.79720000000003,
          424.1218,
          425.5956,
          426.31579999999997,
          427.06120000000004,
          427.473,
          427.5408,
          427.4818,
          427.2014,
          426.71520000000004,
          426.2864,
          425.265,
          424.1102,
          424.0536,
          423.73600000000005,
          423.23759999999993,
          422.6476,
          422.4146,
          420.37260000000003,
          418.1261999999999,
          415.87340000000006,
          413.3956,
          410.97439999999995,
          408.4626,
          405.921,
          403.4518,
          401.5714,
          399.54720000000003,
          397.2888,
          395.34680000000003,
          393.41299999999995,
          391.48940000000005,
          389.0996,
          387.3036,
          386.2492,
          385.27099999999996,
          384.5442,
          383.6882,
          382.3022,
          381.4336,
          380.65399999999994,
          379.14639999999997,
          376.8822,
          374.3118,
          371.6256000000001,
          368.63039999999995,
          365.6012,
          362.37839999999994,
          358.778,
          355.56800000000004,
          352.526,
          349.356,
          345.79760000000005,
          342.81340000000006,
          339.8514,
          336.809,
          334.1310000000001,
          331.7682,
          329.24660000000006,
          327.0694,
          324.88820000000004,
          322.6946,
          320.351,
          317.7456,
          315.2186,
          312.94960000000003,
          310.6348,
          308.44059999999996,
          306.79760000000005,
          305.20419999999996,
          303.5084,
          301.7922,
          299.99940000000004,
          298.31,
          296.5082,
          294.5502,
          292.63120000000004,
          290.6714,
          288.9548,
          286.99940000000004,
          284.955,
          282.79760000000005,
          281.18839999999994,
          278.99379999999996,
          276.01279999999997,
          273.1752,
          270.105,
          267.2118,
          264.0666,
          260.4414,
          256.9858,
          254.37219999999996,
          252.5682,
          251.08700000000002,
          249.2964,
          247.78259999999997,
          246.56240000000003,
          245.4836,
          244.57440000000003,
          243.60119999999998,
          242.57420000000002,
          241.58780000000002,
          240.69299999999998,
          239.93,
          239.142,
          238.4484,
          237.8112,
          237.0264,
          236.26440000000002,
          235.69460000000004,
          235.08699999999996,
          234.3068,
          233.96399999999997,
          233.63080000000002,
          233.3834,
          233.2118,
          232.89939999999999,
          232.26160000000004,
          232.5,
          232.86260000000001,
          233.3284,
          233.8674,
          234.4032,
          234.97979999999998,
          235.66640000000004,
          236.222,
          236.74079999999998,
          237.30560000000003,
          238.21040000000002,
          239.0792,
          240.02620000000002,
          241.125,
          242.1372,
          243.24760000000003,
          244.2554,
          245.3186,
          246.4136,
          247.6092,
          248.916,
          250.18240000000003,
          251.42340000000002,
          252.58720000000002,
          253.6482,
          254.36700000000002,
          255.1418,
          255.895,
          256.6024,
          257.2776,
          257.9788,
          258.86780000000005,
          259.8236,
          260.9966,
          262.16020000000003,
          263.4388,
          265.055,
          266.3422,
          267.4444,
          268.20099999999996,
          269.1214,
          269.929,
          270.8774,
          272.10560000000004,
          272.76,
          273.279,
          273.7358,
          274.2012,
          274.92900000000003,
          275.8486,
          275.6692,
          275.5188,
          275.1596,
          274.702,
          274.23060000000004,
          273.789,
          273.32099999999997,
          272.9104,
          272.513,
          272.1852,
          271.5738,
          270.9878,
          270.3682,
          269.4002,
          268.4464,
          267.4422,
          266.4098,
          265.311,
          264.1326,
          262.9218,
          261.603,
          260.1882,
          258.84680000000003,
          257.5718,
          256.2926,
          255.28900000000002,
          254.2606,
          253.20260000000002,
          252.22679999999997,
          251.4214,
          250.6654,
          249.8242,
          249.00799999999998,
          248.03379999999999,
          247.0268,
          246.0048,
          244.5648,
          243.5094,
          242.5184,
          241.81420000000003,
          241.0374,
          240.37580000000003,
          239.7312,
          239.016,
          238.55020000000002,
          238.162,
          237.78140000000002,
          237.4312,
          237.013,
          236.67780000000002,
          236.53420000000003,
          236.3916,
          236.2664,
          236.00599999999997,
          235.91819999999998,
          235.81259999999997,
          235.68,
          235.4998,
          235.2372,
          235.06799999999998,
          234.604,
          234.1354,
          233.7032,
          233.3554,
          233.2124,
          233.1898,
          233.31939999999997,
          233.4088,
          233.5382,
          233.44979999999998,
          233.332,
          233.3416,
          233.2868,
          233.3592,
          233.34939999999997,
          233.21519999999998,
          233.19099999999997,
          233.4554,
          233.5826,
          233.6372,
          233.7688,
          233.92100000000002,
          234.239,
          234.60640000000004,
          235.07620000000003,
          235.3312,
          235.6402,
          235.8932,
          236.1318,
          236.33579999999998,
          236.6474,
          236.83900000000003,
          237.15900000000002,
          237.37660000000002,
          237.5952,
          237.78060000000002,
          237.9648,
          238.47740000000002,
          238.9934,
          239.3878,
          239.78619999999998,
          240.12760000000003,
          240.507,
          241.6214,
          242.71079999999998,
          243.65820000000002,
          244.48860000000002,
          245.4968,
          246.74220000000003,
          247.9468,
          249.26579999999998,
          250.54100000000003,
          251.4422,
          252.57879999999997,
          253.5054,
          254.4036,
          255.13620000000003,
          256.0866,
          256.89459999999997,
          257.606,
          258.23920000000004,
          258.84860000000003,
          259.1196,
          259.29760000000005,
          259.5958,
          259.9904,
          260.2182,
          260.38579999999996,
          260.5304,
          260.6146,
          260.4676,
          260.4394,
          260.0526,
          259.63919999999996,
          259.57359999999994,
          259.2082,
          258.557,
          257.8808,
          257.3322,
          256.85,
          256.36760000000004,
          256.06839999999994,
          255.4578,
          254.8594,
          254.4258,
          254.0472,
          253.9,
          253.1046,
          252.0946,
          251.4228,
          250.858,
          250.31759999999997,
          250.46120000000002,
          250.22060000000002,
          249.4832,
          248.71239999999997,
          247.7324,
          246.6938,
          245.3448,
          243.6434,
          242.1054,
          240.52,
          239.0182,
          237.655,
          236.39739999999998,
          234.43579999999997,
          233.4912,
          233.2132,
          233.013,
          233.305,
          234.028,
          234.6184,
          235.77660000000003,
          236.75099999999998,
          237.46560000000002,
          237.9716,
          238.8736,
          240.2836,
          241.69299999999998,
          243.29120000000003,
          244.7794,
          246.16060000000002,
          247.8286,
          249.44940000000003,
          250.86140000000003,
          252.53300000000002,
          254.54840000000002,
          256.856,
          259.097,
          261.1116,
          263.24260000000004,
          265.0444,
          266.827,
          268.8804,
          270.8846,
          273.2462,
          275.51419999999996,
          277.92240000000004,
          280.62399999999997,
          283.10560000000004,
          285.36280000000005,
          287.72900000000004,
          289.69759999999997,
          291.7302,
          294.1516,
          296.7316,
          299.466,
          302.298,
          305.3862,
          308.745,
          312.0088,
          315.3118,
          318.8556,
          322.087,
          325.2576,
          329.2026,
          332.22339999999997,
          334.21880000000004,
          335.964,
          337.485,
          338.8336,
          340.7778,
          342.395,
          344.4194,
          346.68760000000003,
          348.9264,
          351.2612,
          353.3754,
          355.56160000000006,
          356.51160000000004,
          357.63519999999994,
          358.64700000000005,
          359.212,
          359.7432,
          360.17060000000004,
          360.5802,
          360.73940000000005,
          360.599,
          360.47900000000004,
          360.5772,
          360.74440000000004,
          361.29380000000003,
          361.7776,
          362.5344,
          363.05300000000005,
          363.24,
          363.1528,
          363.3722,
          363.48979999999995,
          364.14279999999997,
          364.945,
          365.55760000000004,
          366.1104,
          366.4372,
          366.61660000000006,
          366.73079999999993,
          367.2342,
          367.75140000000005,
          367.93340000000006,
          367.9194,
          367.6044,
          367.3258,
          367.0974,
          366.76279999999997,
          366.11920000000003,
          365.2138,
          364.08600000000007,
          363.31199999999995,
          363.44379999999995,
          363.9282,
          364.44380000000007,
          364.5714,
          364.5768,
          364.3722,
          364.605,
          365.17100000000005,
          365.4460000000001,
          365.49519999999995,
          365.73979999999995,
          366.42900000000003,
          367.06700000000006,
          367.97979999999995,
          368.96600000000007,
          370.6064,
          372.7672,
          375.2986,
          378.1962,
          381.20300000000003,
          384.26520000000005,
          387.3052,
          390.13380000000006,
          392.81479999999993,
          395.6082,
          397.9478,
          400.5336,
          403.13620000000003,
          405.85760000000005,
          408.4838,
          410.8672,
          412.75260000000003,
          414.52060000000006,
          416.4188,
          418.7128,
          421.05440000000004,
          423.5354,
          426.10720000000003,
          428.4432,
          430.47579999999994,
          432.8334,
          435.2238,
          438.2586,
          441.37219999999996,
          444.31120000000004,
          446.95740000000006,
          449.4628,
          452.6972,
          456.68119999999993,
          460.04400000000004,
          462.9732,
          466.405,
          470.1254,
          473.914,
          478.2258,
          482.4696,
          486.33079999999995,
          490.01959999999997,
          493.48119999999994,
          496.72600000000006,
          499.7858,
          503.47619999999995,
          507.2864,
          511.0068,
          514.8356,
          517.6926,
          520.2406000000001,
          522.6332,
          525.0028000000001,
          527.3611999999999,
          529.803,
          532.2826,
          535.0758,
          537.9196000000001,
          540.8586,
          543.8446,
          546.7692,
          549.6482,
          552.4432,
          554.986,
          557.866,
          560.7038,
          563.7361999999999,
          566.8552000000001,
          569.4102,
          571.575,
          573.909,
          576.1824,
          578.4328,
          581.099,
          583.5624,
          586.2148000000001,
          588.8372,
          591.51,
          594.0866,
          597.1776,
          600.0028,
          602.0978,
          603.6488,
          605.3314,
          606.5388,
          607.2528000000001,
          607.7396,
          608.2576,
          608.3362,
          608.4318,
          608.5416,
          608.9234,
          609.4476,
          609.5826,
          609.6658,
          609.4796000000001,
          609.6962,
          609.5368,
          610.4724,
          612.1896,
          613.4782,
          614.8872,
          616.1096,
          617.2674000000001,
          618.4308,
          619.2284000000001,
          620.1924,
          620.9738,
          621.1342,
          621.1298,
          620.8661999999999,
          619.6542,
          618.7336,
          617.8224,
          617.059,
          616.1044,
          614.0772000000001,
          611.8074,
          609.659,
          607.1591999999999,
          604.3834,
          600.8106,
          597.254,
          593.5158,
          589.8478,
          586.179,
          582.1551999999999,
          577.951,
          573.964,
          569.9458,
          566.98,
          564.0382,
          560.8964,
          558.05,
          555.3024,
          552.3248,
          549.1732,
          545.8829999999999,
          542.9708,
          540.2429999999999,
          537.2344,
          534.0194,
          530.6080000000001,
          527.4920000000001,
          524.8052,
          522.487,
          520.4929999999999,
          518.58,
          515.678,
          512.5304,
          509.51059999999995,
          506.41900000000004,
          502.9124,
          499.75759999999997,
          497.12019999999995,
          494.59979999999996,
          490.42339999999996,
          485.4922,
          481.31,
          477.2554,
          472.2524000000001,
          469.74340000000007,
          467.264,
          464.82759999999996,
          462.3692,
          460.1756,
          458.62340000000006,
          457.11339999999996,
          455.36460000000005,
          455.09680000000003,
          454.5224,
          454.8042,
          455.70240000000007,
          456.63779999999997,
          457.1014,
          459.77299999999997,
          462.57200000000006,
          465.4268,
          467.82300000000004,
          470.346,
          472.6872,
          475.4734,
          478.8678,
          482.388,
          486.25620000000004,
          490.20880000000005,
          494.2032,
          498.024,
          501.7992,
          505.28600000000006,
          509.01539999999994,
          512.627,
          516.5604,
          520.1816,
          523.5926000000001,
          527.6408,
          530.9418000000001,
          534.4514,
          538.0482,
          539.3286,
          540.6774,
          541.6314,
          543.614,
          545.3486,
          545.575,
          546.1896,
          549.1302000000001,
          552.9574,
          556.0182,
          558.722,
          563.879,
          567.5563999999999,
          571.02,
          574.3642000000001,
          578.1726,
          582.1742,
          585.3284,
          589.4684000000001,
          594.169,
          598.2220000000001,
          602.74,
          607.013,
          611.4376,
          617.1551999999999,
          623.9686,
          628.9112,
          633.7094,
          638.5486,
          643.9748,
          649.2724000000001,
          654.2232,
          658.9678,
          663.0202,
          666.1514,
          671.4096,
          675.8595999999999,
          679.0786,
          682.9434,
          687.0924,
          691.7286,
          696.4504000000001,
          701.3138,
          705.3746000000001,
          709.3184,
          713.448,
          717.3888000000001,
          720.7439999999999,
          724.2324000000001,
          728.1416,
          735.2248,
          741.2822,
          747.2342000000001,
          752.5131999999999,
          756.8993999999999,
          765.1909999999999,
          772.9351999999999,
          778.0089999999999,
          782.275,
          786.8395999999999,
          791.1447999999999,
          793.7644,
          796.355,
          798.7306000000001,
          800.9545999999999,
          802.6375999999999,
          804.6374000000001,
          806.1768,
          806.4540000000001,
          806.4787999999999,
          805.2017999999999,
          803.6569999999999,
          802.685,
          802.2761999999999,
          797.0992,
          794.5033999999999,
          792.0636,
          793.1094,
          794.0540000000001,
          795.2539999999999,
          796.1208,
          797.3098000000001,
          800.56,
          802.1736,
          802.6632000000001,
          798.9222,
          798.4390000000001,
          803.3998000000001,
          809.9824000000001,
          814.6361999999999,
          818.2246,
          819.9376,
          825.107,
          830.9464,
          835.2926,
          838.6192,
          839.9632,
          839.28,
          837.941,
          836.633,
          833.7828,
          830.8617999999999,
          825.7411999999999,
          820.5790000000001,
          818.6102000000001,
          809.3866,
          799.5204000000001,
          790.6892,
          782.7188000000001,
          774.8184,
          766.597,
          758.3656,
          749.7754,
          741.6565999999999,
          733.8622,
          725.089,
          715.0994000000001,
          706.36,
          697.6303999999999,
          688.4632,
          680.2440000000001,
          672.2544,
          663.828,
          653.9882,
          647.622,
          637.9506,
          627.76,
          613.784,
          600.0658,
          586.1788,
          572.9860000000001,
          559.2916,
          543.1655999999999,
          528.794,
          516.325,
          505.4796,
          491.81559999999996,
          473.7644,
          453.6458,
          434.89060000000006,
          416.78659999999996,
          400.37340000000006,
          380.4028,
          360.37519999999995,
          342.35,
          324.83079999999995,
          308.80760000000004,
          295.4054,
          282.4914,
          269.1152,
          256.159,
          243.993,
          234.82,
          225.78779999999998,
          214.4634,
          207.3168,
          201.188,
          195.3966,
          189.55700000000002,
          183.9546,
          179.26699999999997,
          175.00060000000002,
          171.0168,
          166.77539999999996,
          162.6062,
          159.3074,
          156.6906,
          154.4202,
          152.44559999999998,
          150.729,
          149.3042,
          147.8432,
          146.4682,
          144.987,
          143.4414,
          141.9036,
          140.45780000000002,
          139.2944,
          138.0892,
          136.65939999999998,
          135.1224,
          133.9642,
          133.0868,
          132.3016,
          131.523,
          130.8516,
          130.379,
          130.05800000000002,
          129.5544,
          129.1862,
          128.8246,
          128.4908,
          128.29579999999999,
          128.15,
          127.9602,
          127.8202,
          127.5514,
          127.2414,
          126.8502,
          126.46979999999999,
          126.2484,
          126.1458,
          125.635,
          125.075,
          124.3882,
          123.74859999999998,
          123.133,
          122.70039999999999,
          122.27099999999999,
          121.8504,
          121.4342,
          120.93180000000001,
          120.47319999999999,
          120.0124,
          119.5412,
          119.0716,
          118.4624,
          117.8232,
          117.09819999999999,
          116.4342,
          115.6726,
          114.9002,
          114.1064,
          113.42040000000001,
          112.6934,
          112.04799999999999,
          111.4084,
          110.837,
          110.2784,
          109.6926,
          108.9252,
          108.102,
          107.29780000000001,
          106.46260000000001,
          105.5724,
          104.85979999999999,
          103.9412,
          102.9416,
          102.03160000000001,
          100.995,
          99.96260000000001,
          99.2032,
          98.3308,
          97.6674,
          97.0044,
          96.5566,
          96.18639999999999,
          95.80940000000001,
          95.6584,
          95.5386,
          95.3664,
          95.2412,
          95.26039999999999,
          95.32639999999999,
          95.45639999999999,
          95.60340000000001,
          95.7084,
          95.72140000000002,
          95.6204,
          95.48620000000001,
          95.3832,
          95.3028,
          95.2928,
          95.3758,
          95.43199999999999,
          95.39920000000001,
          95.3752,
          95.546,
          95.8936,
          96.33319999999999,
          96.8282,
          97.3664,
          97.8996,
          98.5132,
          99.28400000000002,
          100.07620000000001,
          100.80879999999999,
          101.6432,
          102.25319999999999,
          102.89920000000001,
          103.60079999999999,
          104.3466,
          105.04799999999999,
          105.7102,
          106.4084,
          107.1308,
          108.037,
          108.9464,
          109.92519999999999,
          110.98,
          111.9866,
          112.6604,
          113.3398,
          113.8968,
          114.4358,
          114.8084,
          115.2526,
          115.613,
          115.8556,
          116.0056,
          116.1726,
          116.43599999999998,
          116.53399999999999,
          116.323,
          116.23719999999999,
          116.37400000000001,
          116.98900000000002,
          117.7318,
          118.382
         ]
        }
       ],
       "layout": {
        "annotations": [
         {
          "arrowhead": 2,
          "ax": 0,
          "ay": -40,
          "showarrow": true,
          "text": "Interesting Event",
          "x": "2017-04-22T00:00:00",
          "xref": "x",
          "y": 1235.56,
          "yref": "y"
         }
        ],
        "hovermode": "x",
        "template": {
         "data": {
          "bar": [
           {
            "error_x": {
             "color": "#2a3f5f"
            },
            "error_y": {
             "color": "#2a3f5f"
            },
            "marker": {
             "line": {
              "color": "#E5ECF6",
              "width": 0.5
             },
             "pattern": {
              "fillmode": "overlay",
              "size": 10,
              "solidity": 0.2
             }
            },
            "type": "bar"
           }
          ],
          "barpolar": [
           {
            "marker": {
             "line": {
              "color": "#E5ECF6",
              "width": 0.5
             },
             "pattern": {
              "fillmode": "overlay",
              "size": 10,
              "solidity": 0.2
             }
            },
            "type": "barpolar"
           }
          ],
          "carpet": [
           {
            "aaxis": {
             "endlinecolor": "#2a3f5f",
             "gridcolor": "white",
             "linecolor": "white",
             "minorgridcolor": "white",
             "startlinecolor": "#2a3f5f"
            },
            "baxis": {
             "endlinecolor": "#2a3f5f",
             "gridcolor": "white",
             "linecolor": "white",
             "minorgridcolor": "white",
             "startlinecolor": "#2a3f5f"
            },
            "type": "carpet"
           }
          ],
          "choropleth": [
           {
            "colorbar": {
             "outlinewidth": 0,
             "ticks": ""
            },
            "type": "choropleth"
           }
          ],
          "contour": [
           {
            "colorbar": {
             "outlinewidth": 0,
             "ticks": ""
            },
            "colorscale": [
             [
              0,
              "#0d0887"
             ],
             [
              0.1111111111111111,
              "#46039f"
             ],
             [
              0.2222222222222222,
              "#7201a8"
             ],
             [
              0.3333333333333333,
              "#9c179e"
             ],
             [
              0.4444444444444444,
              "#bd3786"
             ],
             [
              0.5555555555555556,
              "#d8576b"
             ],
             [
              0.6666666666666666,
              "#ed7953"
             ],
             [
              0.7777777777777778,
              "#fb9f3a"
             ],
             [
              0.8888888888888888,
              "#fdca26"
             ],
             [
              1,
              "#f0f921"
             ]
            ],
            "type": "contour"
           }
          ],
          "contourcarpet": [
           {
            "colorbar": {
             "outlinewidth": 0,
             "ticks": ""
            },
            "type": "contourcarpet"
           }
          ],
          "heatmap": [
           {
            "colorbar": {
             "outlinewidth": 0,
             "ticks": ""
            },
            "colorscale": [
             [
              0,
              "#0d0887"
             ],
             [
              0.1111111111111111,
              "#46039f"
             ],
             [
              0.2222222222222222,
              "#7201a8"
             ],
             [
              0.3333333333333333,
              "#9c179e"
             ],
             [
              0.4444444444444444,
              "#bd3786"
             ],
             [
              0.5555555555555556,
              "#d8576b"
             ],
             [
              0.6666666666666666,
              "#ed7953"
             ],
             [
              0.7777777777777778,
              "#fb9f3a"
             ],
             [
              0.8888888888888888,
              "#fdca26"
             ],
             [
              1,
              "#f0f921"
             ]
            ],
            "type": "heatmap"
           }
          ],
          "heatmapgl": [
           {
            "colorbar": {
             "outlinewidth": 0,
             "ticks": ""
            },
            "colorscale": [
             [
              0,
              "#0d0887"
             ],
             [
              0.1111111111111111,
              "#46039f"
             ],
             [
              0.2222222222222222,
              "#7201a8"
             ],
             [
              0.3333333333333333,
              "#9c179e"
             ],
             [
              0.4444444444444444,
              "#bd3786"
             ],
             [
              0.5555555555555556,
              "#d8576b"
             ],
             [
              0.6666666666666666,
              "#ed7953"
             ],
             [
              0.7777777777777778,
              "#fb9f3a"
             ],
             [
              0.8888888888888888,
              "#fdca26"
             ],
             [
              1,
              "#f0f921"
             ]
            ],
            "type": "heatmapgl"
           }
          ],
          "histogram": [
           {
            "marker": {
             "pattern": {
              "fillmode": "overlay",
              "size": 10,
              "solidity": 0.2
             }
            },
            "type": "histogram"
           }
          ],
          "histogram2d": [
           {
            "colorbar": {
             "outlinewidth": 0,
             "ticks": ""
            },
            "colorscale": [
             [
              0,
              "#0d0887"
             ],
             [
              0.1111111111111111,
              "#46039f"
             ],
             [
              0.2222222222222222,
              "#7201a8"
             ],
             [
              0.3333333333333333,
              "#9c179e"
             ],
             [
              0.4444444444444444,
              "#bd3786"
             ],
             [
              0.5555555555555556,
              "#d8576b"
             ],
             [
              0.6666666666666666,
              "#ed7953"
             ],
             [
              0.7777777777777778,
              "#fb9f3a"
             ],
             [
              0.8888888888888888,
              "#fdca26"
             ],
             [
              1,
              "#f0f921"
             ]
            ],
            "type": "histogram2d"
           }
          ],
          "histogram2dcontour": [
           {
            "colorbar": {
             "outlinewidth": 0,
             "ticks": ""
            },
            "colorscale": [
             [
              0,
              "#0d0887"
             ],
             [
              0.1111111111111111,
              "#46039f"
             ],
             [
              0.2222222222222222,
              "#7201a8"
             ],
             [
              0.3333333333333333,
              "#9c179e"
             ],
             [
              0.4444444444444444,
              "#bd3786"
             ],
             [
              0.5555555555555556,
              "#d8576b"
             ],
             [
              0.6666666666666666,
              "#ed7953"
             ],
             [
              0.7777777777777778,
              "#fb9f3a"
             ],
             [
              0.8888888888888888,
              "#fdca26"
             ],
             [
              1,
              "#f0f921"
             ]
            ],
            "type": "histogram2dcontour"
           }
          ],
          "mesh3d": [
           {
            "colorbar": {
             "outlinewidth": 0,
             "ticks": ""
            },
            "type": "mesh3d"
           }
          ],
          "parcoords": [
           {
            "line": {
             "colorbar": {
              "outlinewidth": 0,
              "ticks": ""
             }
            },
            "type": "parcoords"
           }
          ],
          "pie": [
           {
            "automargin": true,
            "type": "pie"
           }
          ],
          "scatter": [
           {
            "fillpattern": {
             "fillmode": "overlay",
             "size": 10,
             "solidity": 0.2
            },
            "type": "scatter"
           }
          ],
          "scatter3d": [
           {
            "line": {
             "colorbar": {
              "outlinewidth": 0,
              "ticks": ""
             }
            },
            "marker": {
             "colorbar": {
              "outlinewidth": 0,
              "ticks": ""
             }
            },
            "type": "scatter3d"
           }
          ],
          "scattercarpet": [
           {
            "marker": {
             "colorbar": {
              "outlinewidth": 0,
              "ticks": ""
             }
            },
            "type": "scattercarpet"
           }
          ],
          "scattergeo": [
           {
            "marker": {
             "colorbar": {
              "outlinewidth": 0,
              "ticks": ""
             }
            },
            "type": "scattergeo"
           }
          ],
          "scattergl": [
           {
            "marker": {
             "colorbar": {
              "outlinewidth": 0,
              "ticks": ""
             }
            },
            "type": "scattergl"
           }
          ],
          "scattermapbox": [
           {
            "marker": {
             "colorbar": {
              "outlinewidth": 0,
              "ticks": ""
             }
            },
            "type": "scattermapbox"
           }
          ],
          "scatterpolar": [
           {
            "marker": {
             "colorbar": {
              "outlinewidth": 0,
              "ticks": ""
             }
            },
            "type": "scatterpolar"
           }
          ],
          "scatterpolargl": [
           {
            "marker": {
             "colorbar": {
              "outlinewidth": 0,
              "ticks": ""
             }
            },
            "type": "scatterpolargl"
           }
          ],
          "scatterternary": [
           {
            "marker": {
             "colorbar": {
              "outlinewidth": 0,
              "ticks": ""
             }
            },
            "type": "scatterternary"
           }
          ],
          "surface": [
           {
            "colorbar": {
             "outlinewidth": 0,
             "ticks": ""
            },
            "colorscale": [
             [
              0,
              "#0d0887"
             ],
             [
              0.1111111111111111,
              "#46039f"
             ],
             [
              0.2222222222222222,
              "#7201a8"
             ],
             [
              0.3333333333333333,
              "#9c179e"
             ],
             [
              0.4444444444444444,
              "#bd3786"
             ],
             [
              0.5555555555555556,
              "#d8576b"
             ],
             [
              0.6666666666666666,
              "#ed7953"
             ],
             [
              0.7777777777777778,
              "#fb9f3a"
             ],
             [
              0.8888888888888888,
              "#fdca26"
             ],
             [
              1,
              "#f0f921"
             ]
            ],
            "type": "surface"
           }
          ],
          "table": [
           {
            "cells": {
             "fill": {
              "color": "#EBF0F8"
             },
             "line": {
              "color": "white"
             }
            },
            "header": {
             "fill": {
              "color": "#C8D4E3"
             },
             "line": {
              "color": "white"
             }
            },
            "type": "table"
           }
          ]
         },
         "layout": {
          "annotationdefaults": {
           "arrowcolor": "#2a3f5f",
           "arrowhead": 0,
           "arrowwidth": 1
          },
          "autotypenumbers": "strict",
          "coloraxis": {
           "colorbar": {
            "outlinewidth": 0,
            "ticks": ""
           }
          },
          "colorscale": {
           "diverging": [
            [
             0,
             "#8e0152"
            ],
            [
             0.1,
             "#c51b7d"
            ],
            [
             0.2,
             "#de77ae"
            ],
            [
             0.3,
             "#f1b6da"
            ],
            [
             0.4,
             "#fde0ef"
            ],
            [
             0.5,
             "#f7f7f7"
            ],
            [
             0.6,
             "#e6f5d0"
            ],
            [
             0.7,
             "#b8e186"
            ],
            [
             0.8,
             "#7fbc41"
            ],
            [
             0.9,
             "#4d9221"
            ],
            [
             1,
             "#276419"
            ]
           ],
           "sequential": [
            [
             0,
             "#0d0887"
            ],
            [
             0.1111111111111111,
             "#46039f"
            ],
            [
             0.2222222222222222,
             "#7201a8"
            ],
            [
             0.3333333333333333,
             "#9c179e"
            ],
            [
             0.4444444444444444,
             "#bd3786"
            ],
            [
             0.5555555555555556,
             "#d8576b"
            ],
            [
             0.6666666666666666,
             "#ed7953"
            ],
            [
             0.7777777777777778,
             "#fb9f3a"
            ],
            [
             0.8888888888888888,
             "#fdca26"
            ],
            [
             1,
             "#f0f921"
            ]
           ],
           "sequentialminus": [
            [
             0,
             "#0d0887"
            ],
            [
             0.1111111111111111,
             "#46039f"
            ],
            [
             0.2222222222222222,
             "#7201a8"
            ],
            [
             0.3333333333333333,
             "#9c179e"
            ],
            [
             0.4444444444444444,
             "#bd3786"
            ],
            [
             0.5555555555555556,
             "#d8576b"
            ],
            [
             0.6666666666666666,
             "#ed7953"
            ],
            [
             0.7777777777777778,
             "#fb9f3a"
            ],
            [
             0.8888888888888888,
             "#fdca26"
            ],
            [
             1,
             "#f0f921"
            ]
           ]
          },
          "colorway": [
           "#636efa",
           "#EF553B",
           "#00cc96",
           "#ab63fa",
           "#FFA15A",
           "#19d3f3",
           "#FF6692",
           "#B6E880",
           "#FF97FF",
           "#FECB52"
          ],
          "font": {
           "color": "#2a3f5f"
          },
          "geo": {
           "bgcolor": "white",
           "lakecolor": "white",
           "landcolor": "#E5ECF6",
           "showlakes": true,
           "showland": true,
           "subunitcolor": "white"
          },
          "hoverlabel": {
           "align": "left"
          },
          "hovermode": "closest",
          "mapbox": {
           "style": "light"
          },
          "paper_bgcolor": "white",
          "plot_bgcolor": "#E5ECF6",
          "polar": {
           "angularaxis": {
            "gridcolor": "white",
            "linecolor": "white",
            "ticks": ""
           },
           "bgcolor": "#E5ECF6",
           "radialaxis": {
            "gridcolor": "white",
            "linecolor": "white",
            "ticks": ""
           }
          },
          "scene": {
           "xaxis": {
            "backgroundcolor": "#E5ECF6",
            "gridcolor": "white",
            "gridwidth": 2,
            "linecolor": "white",
            "showbackground": true,
            "ticks": "",
            "zerolinecolor": "white"
           },
           "yaxis": {
            "backgroundcolor": "#E5ECF6",
            "gridcolor": "white",
            "gridwidth": 2,
            "linecolor": "white",
            "showbackground": true,
            "ticks": "",
            "zerolinecolor": "white"
           },
           "zaxis": {
            "backgroundcolor": "#E5ECF6",
            "gridcolor": "white",
            "gridwidth": 2,
            "linecolor": "white",
            "showbackground": true,
            "ticks": "",
            "zerolinecolor": "white"
           }
          },
          "shapedefaults": {
           "line": {
            "color": "#2a3f5f"
           }
          },
          "ternary": {
           "aaxis": {
            "gridcolor": "white",
            "linecolor": "white",
            "ticks": ""
           },
           "baxis": {
            "gridcolor": "white",
            "linecolor": "white",
            "ticks": ""
           },
           "bgcolor": "#E5ECF6",
           "caxis": {
            "gridcolor": "white",
            "linecolor": "white",
            "ticks": ""
           }
          },
          "title": {
           "x": 0.05
          },
          "xaxis": {
           "automargin": true,
           "gridcolor": "white",
           "linecolor": "white",
           "ticks": "",
           "title": {
            "standoff": 15
           },
           "zerolinecolor": "white",
           "zerolinewidth": 2
          },
          "yaxis": {
           "automargin": true,
           "gridcolor": "white",
           "linecolor": "white",
           "ticks": "",
           "title": {
            "standoff": 15
           },
           "zerolinecolor": "white",
           "zerolinewidth": 2
          }
         }
        },
        "title": {
         "text": "Bitcoin Historical Price"
        },
        "xaxis": {
         "rangeslider": {
          "visible": false
         },
         "title": {
          "text": "Date"
         },
         "type": "category"
        },
        "yaxis": {
         "title": {
          "text": "Price"
         }
        }
       }
      },
      "text/html": [
       "<div>                            <div id=\"f67ddf35-ea8e-4b91-bd5b-b3565809a4db\" class=\"plotly-graph-div\" style=\"height:525px; width:100%;\"></div>            <script type=\"text/javascript\">                require([\"plotly\"], function(Plotly) {                    window.PLOTLYENV=window.PLOTLYENV || {};                                    if (document.getElementById(\"f67ddf35-ea8e-4b91-bd5b-b3565809a4db\")) {                    Plotly.newPlot(                        \"f67ddf35-ea8e-4b91-bd5b-b3565809a4db\",                        [{\"close\":[134.21,144.54,139.0,116.99,105.21,97.75,112.5,115.91,112.3,111.5,113.57,112.67,117.2,115.24,115.0,117.98,111.5,114.22,118.76,123.02,123.5,121.99,122.0,122.88,123.89,126.7,133.2,131.98,133.48,129.75,129.0,132.3,128.8,129.0,129.3,122.29,122.22,121.42,121.65,118.0,111.5,108.3,100.0,106.35,108.9,108.15,104.0,99.98,99.99,99.51],\"decreasing\":{\"fillcolor\":\"red\"},\"high\":[135.98,147.49,146.93,139.89,125.6,108.13,115.0,118.8,124.66,113.44,115.78,113.46,122.0,118.68,117.45,118.7,119.8,115.81,118.76,125.3,125.25,124.5,123.62,123.0,124.0,126.93,133.85,133.22,136.0,135.47,130.58,132.59,132.25,129.9,129.78,129.4,122.5,123.84,123.47,123.1,119.0,111.42,108.99,110.1,109.6,111.79,110.3,104.7,103.7,101.6],\"increasing\":{\"fillcolor\":\"green\"},\"low\":[132.1,134.0,134.05,107.72,92.28,79.1,92.5,107.14,106.64,97.7,109.6,109.26,111.55,113.01,113.44,114.5,110.25,103.5,112.2,116.57,122.3,119.57,120.12,121.21,122.0,123.1,125.72,128.9,130.62,124.7,125.6,127.66,127.0,126.4,127.2,115.05,116.0,119.1,119.9,117.25,106.42,107.3,88.5,95.0,104.0,106.73,100.53,98.0,98.0,98.95],\"open\":[135.3,134.44,144.0,139.0,116.38,106.25,98.1,112.9,115.98,112.25,109.6,113.2,112.8,117.7,115.64,114.82,117.98,111.4,114.22,118.21,123.5,123.21,122.5,122.02,122.89,123.8,126.3,133.1,131.99,133.5,129.77,129.0,132.25,128.8,128.81,129.3,122.5,120.74,121.4,121.9,118.97,111.0,107.89,100.44,106.35,109.0,108.78,103.95,100.0,99.8],\"x\":[\"2013-04-28T00:00:00\",\"2013-04-29T00:00:00\",\"2013-04-30T00:00:00\",\"2013-05-01T00:00:00\",\"2013-05-02T00:00:00\",\"2013-05-03T00:00:00\",\"2013-05-04T00:00:00\",\"2013-05-05T00:00:00\",\"2013-05-06T00:00:00\",\"2013-05-07T00:00:00\",\"2013-05-08T00:00:00\",\"2013-05-09T00:00:00\",\"2013-05-10T00:00:00\",\"2013-05-11T00:00:00\",\"2013-05-12T00:00:00\",\"2013-05-13T00:00:00\",\"2013-05-14T00:00:00\",\"2013-05-15T00:00:00\",\"2013-05-16T00:00:00\",\"2013-05-17T00:00:00\",\"2013-05-18T00:00:00\",\"2013-05-19T00:00:00\",\"2013-05-20T00:00:00\",\"2013-05-21T00:00:00\",\"2013-05-22T00:00:00\",\"2013-05-23T00:00:00\",\"2013-05-24T00:00:00\",\"2013-05-25T00:00:00\",\"2013-05-26T00:00:00\",\"2013-05-27T00:00:00\",\"2013-05-28T00:00:00\",\"2013-05-29T00:00:00\",\"2013-05-30T00:00:00\",\"2013-05-31T00:00:00\",\"2013-06-01T00:00:00\",\"2013-06-02T00:00:00\",\"2013-06-03T00:00:00\",\"2013-06-04T00:00:00\",\"2013-06-05T00:00:00\",\"2013-06-06T00:00:00\",\"2013-06-07T00:00:00\",\"2013-06-08T00:00:00\",\"2013-06-09T00:00:00\",\"2013-06-10T00:00:00\",\"2013-06-11T00:00:00\",\"2013-06-12T00:00:00\",\"2013-06-13T00:00:00\",\"2013-06-14T00:00:00\",\"2013-06-15T00:00:00\",\"2013-06-16T00:00:00\"],\"type\":\"candlestick\"},{\"line\":{\"color\":\"orange\"},\"mode\":\"lines\",\"name\":\"SMA (50-day)\",\"x\":[\"2017-07-31T00:00:00\",\"2017-07-30T00:00:00\",\"2017-07-29T00:00:00\",\"2017-07-28T00:00:00\",\"2017-07-27T00:00:00\",\"2017-07-26T00:00:00\",\"2017-07-25T00:00:00\",\"2017-07-24T00:00:00\",\"2017-07-23T00:00:00\",\"2017-07-22T00:00:00\",\"2017-07-21T00:00:00\",\"2017-07-20T00:00:00\",\"2017-07-19T00:00:00\",\"2017-07-18T00:00:00\",\"2017-07-17T00:00:00\",\"2017-07-16T00:00:00\",\"2017-07-15T00:00:00\",\"2017-07-14T00:00:00\",\"2017-07-13T00:00:00\",\"2017-07-12T00:00:00\",\"2017-07-11T00:00:00\",\"2017-07-10T00:00:00\",\"2017-07-09T00:00:00\",\"2017-07-08T00:00:00\",\"2017-07-07T00:00:00\",\"2017-07-06T00:00:00\",\"2017-07-05T00:00:00\",\"2017-07-04T00:00:00\",\"2017-07-03T00:00:00\",\"2017-07-02T00:00:00\",\"2017-07-01T00:00:00\",\"2017-06-30T00:00:00\",\"2017-06-29T00:00:00\",\"2017-06-28T00:00:00\",\"2017-06-27T00:00:00\",\"2017-06-26T00:00:00\",\"2017-06-25T00:00:00\",\"2017-06-24T00:00:00\",\"2017-06-23T00:00:00\",\"2017-06-22T00:00:00\",\"2017-06-21T00:00:00\",\"2017-06-20T00:00:00\",\"2017-06-19T00:00:00\",\"2017-06-18T00:00:00\",\"2017-06-17T00:00:00\",\"2017-06-16T00:00:00\",\"2017-06-15T00:00:00\",\"2017-06-14T00:00:00\",\"2017-06-13T00:00:00\",\"2017-06-12T00:00:00\",\"2017-06-11T00:00:00\",\"2017-06-10T00:00:00\",\"2017-06-09T00:00:00\",\"2017-06-08T00:00:00\",\"2017-06-07T00:00:00\",\"2017-06-06T00:00:00\",\"2017-06-05T00:00:00\",\"2017-06-04T00:00:00\",\"2017-06-03T00:00:00\",\"2017-06-02T00:00:00\",\"2017-06-01T00:00:00\",\"2017-05-31T00:00:00\",\"2017-05-30T00:00:00\",\"2017-05-29T00:00:00\",\"2017-05-28T00:00:00\",\"2017-05-27T00:00:00\",\"2017-05-26T00:00:00\",\"2017-05-25T00:00:00\",\"2017-05-24T00:00:00\",\"2017-05-23T00:00:00\",\"2017-05-22T00:00:00\",\"2017-05-21T00:00:00\",\"2017-05-20T00:00:00\",\"2017-05-19T00:00:00\",\"2017-05-18T00:00:00\",\"2017-05-17T00:00:00\",\"2017-05-16T00:00:00\",\"2017-05-15T00:00:00\",\"2017-05-14T00:00:00\",\"2017-05-13T00:00:00\",\"2017-05-12T00:00:00\",\"2017-05-11T00:00:00\",\"2017-05-10T00:00:00\",\"2017-05-09T00:00:00\",\"2017-05-08T00:00:00\",\"2017-05-07T00:00:00\",\"2017-05-06T00:00:00\",\"2017-05-05T00:00:00\",\"2017-05-04T00:00:00\",\"2017-05-03T00:00:00\",\"2017-05-02T00:00:00\",\"2017-05-01T00:00:00\",\"2017-04-30T00:00:00\",\"2017-04-29T00:00:00\",\"2017-04-28T00:00:00\",\"2017-04-27T00:00:00\",\"2017-04-26T00:00:00\",\"2017-04-25T00:00:00\",\"2017-04-24T00:00:00\",\"2017-04-23T00:00:00\",\"2017-04-22T00:00:00\",\"2017-04-21T00:00:00\",\"2017-04-20T00:00:00\",\"2017-04-19T00:00:00\",\"2017-04-18T00:00:00\",\"2017-04-17T00:00:00\",\"2017-04-16T00:00:00\",\"2017-04-15T00:00:00\",\"2017-04-14T00:00:00\",\"2017-04-13T00:00:00\",\"2017-04-12T00:00:00\",\"2017-04-11T00:00:00\",\"2017-04-10T00:00:00\",\"2017-04-09T00:00:00\",\"2017-04-08T00:00:00\",\"2017-04-07T00:00:00\",\"2017-04-06T00:00:00\",\"2017-04-05T00:00:00\",\"2017-04-04T00:00:00\",\"2017-04-03T00:00:00\",\"2017-04-02T00:00:00\",\"2017-04-01T00:00:00\",\"2017-03-31T00:00:00\",\"2017-03-30T00:00:00\",\"2017-03-29T00:00:00\",\"2017-03-28T00:00:00\",\"2017-03-27T00:00:00\",\"2017-03-26T00:00:00\",\"2017-03-25T00:00:00\",\"2017-03-24T00:00:00\",\"2017-03-23T00:00:00\",\"2017-03-22T00:00:00\",\"2017-03-21T00:00:00\",\"2017-03-20T00:00:00\",\"2017-03-19T00:00:00\",\"2017-03-18T00:00:00\",\"2017-03-17T00:00:00\",\"2017-03-16T00:00:00\",\"2017-03-15T00:00:00\",\"2017-03-14T00:00:00\",\"2017-03-13T00:00:00\",\"2017-03-12T00:00:00\",\"2017-03-11T00:00:00\",\"2017-03-10T00:00:00\",\"2017-03-09T00:00:00\",\"2017-03-08T00:00:00\",\"2017-03-07T00:00:00\",\"2017-03-06T00:00:00\",\"2017-03-05T00:00:00\",\"2017-03-04T00:00:00\",\"2017-03-03T00:00:00\",\"2017-03-02T00:00:00\",\"2017-03-01T00:00:00\",\"2017-02-28T00:00:00\",\"2017-02-27T00:00:00\",\"2017-02-26T00:00:00\",\"2017-02-25T00:00:00\",\"2017-02-24T00:00:00\",\"2017-02-23T00:00:00\",\"2017-02-22T00:00:00\",\"2017-02-21T00:00:00\",\"2017-02-20T00:00:00\",\"2017-02-19T00:00:00\",\"2017-02-18T00:00:00\",\"2017-02-17T00:00:00\",\"2017-02-16T00:00:00\",\"2017-02-15T00:00:00\",\"2017-02-14T00:00:00\",\"2017-02-13T00:00:00\",\"2017-02-12T00:00:00\",\"2017-02-11T00:00:00\",\"2017-02-10T00:00:00\",\"2017-02-09T00:00:00\",\"2017-02-08T00:00:00\",\"2017-02-07T00:00:00\",\"2017-02-06T00:00:00\",\"2017-02-05T00:00:00\",\"2017-02-04T00:00:00\",\"2017-02-03T00:00:00\",\"2017-02-02T00:00:00\",\"2017-02-01T00:00:00\",\"2017-01-31T00:00:00\",\"2017-01-30T00:00:00\",\"2017-01-29T00:00:00\",\"2017-01-28T00:00:00\",\"2017-01-27T00:00:00\",\"2017-01-26T00:00:00\",\"2017-01-25T00:00:00\",\"2017-01-24T00:00:00\",\"2017-01-23T00:00:00\",\"2017-01-22T00:00:00\",\"2017-01-21T00:00:00\",\"2017-01-20T00:00:00\",\"2017-01-19T00:00:00\",\"2017-01-18T00:00:00\",\"2017-01-17T00:00:00\",\"2017-01-16T00:00:00\",\"2017-01-15T00:00:00\",\"2017-01-14T00:00:00\",\"2017-01-13T00:00:00\",\"2017-01-12T00:00:00\",\"2017-01-11T00:00:00\",\"2017-01-10T00:00:00\",\"2017-01-09T00:00:00\",\"2017-01-08T00:00:00\",\"2017-01-07T00:00:00\",\"2017-01-06T00:00:00\",\"2017-01-05T00:00:00\",\"2017-01-04T00:00:00\",\"2017-01-03T00:00:00\",\"2017-01-02T00:00:00\",\"2017-01-01T00:00:00\",\"2016-12-31T00:00:00\",\"2016-12-30T00:00:00\",\"2016-12-29T00:00:00\",\"2016-12-28T00:00:00\",\"2016-12-27T00:00:00\",\"2016-12-26T00:00:00\",\"2016-12-25T00:00:00\",\"2016-12-24T00:00:00\",\"2016-12-23T00:00:00\",\"2016-12-22T00:00:00\",\"2016-12-21T00:00:00\",\"2016-12-20T00:00:00\",\"2016-12-19T00:00:00\",\"2016-12-18T00:00:00\",\"2016-12-17T00:00:00\",\"2016-12-16T00:00:00\",\"2016-12-15T00:00:00\",\"2016-12-14T00:00:00\",\"2016-12-13T00:00:00\",\"2016-12-12T00:00:00\",\"2016-12-11T00:00:00\",\"2016-12-10T00:00:00\",\"2016-12-09T00:00:00\",\"2016-12-08T00:00:00\",\"2016-12-07T00:00:00\",\"2016-12-06T00:00:00\",\"2016-12-05T00:00:00\",\"2016-12-04T00:00:00\",\"2016-12-03T00:00:00\",\"2016-12-02T00:00:00\",\"2016-12-01T00:00:00\",\"2016-11-30T00:00:00\",\"2016-11-29T00:00:00\",\"2016-11-28T00:00:00\",\"2016-11-27T00:00:00\",\"2016-11-26T00:00:00\",\"2016-11-25T00:00:00\",\"2016-11-24T00:00:00\",\"2016-11-23T00:00:00\",\"2016-11-22T00:00:00\",\"2016-11-21T00:00:00\",\"2016-11-20T00:00:00\",\"2016-11-19T00:00:00\",\"2016-11-18T00:00:00\",\"2016-11-17T00:00:00\",\"2016-11-16T00:00:00\",\"2016-11-15T00:00:00\",\"2016-11-14T00:00:00\",\"2016-11-13T00:00:00\",\"2016-11-12T00:00:00\",\"2016-11-11T00:00:00\",\"2016-11-10T00:00:00\",\"2016-11-09T00:00:00\",\"2016-11-08T00:00:00\",\"2016-11-07T00:00:00\",\"2016-11-06T00:00:00\",\"2016-11-05T00:00:00\",\"2016-11-04T00:00:00\",\"2016-11-03T00:00:00\",\"2016-11-02T00:00:00\",\"2016-11-01T00:00:00\",\"2016-10-31T00:00:00\",\"2016-10-30T00:00:00\",\"2016-10-29T00:00:00\",\"2016-10-28T00:00:00\",\"2016-10-27T00:00:00\",\"2016-10-26T00:00:00\",\"2016-10-25T00:00:00\",\"2016-10-24T00:00:00\",\"2016-10-23T00:00:00\",\"2016-10-22T00:00:00\",\"2016-10-21T00:00:00\",\"2016-10-20T00:00:00\",\"2016-10-19T00:00:00\",\"2016-10-18T00:00:00\",\"2016-10-17T00:00:00\",\"2016-10-16T00:00:00\",\"2016-10-15T00:00:00\",\"2016-10-14T00:00:00\",\"2016-10-13T00:00:00\",\"2016-10-12T00:00:00\",\"2016-10-11T00:00:00\",\"2016-10-10T00:00:00\",\"2016-10-09T00:00:00\",\"2016-10-08T00:00:00\",\"2016-10-07T00:00:00\",\"2016-10-06T00:00:00\",\"2016-10-05T00:00:00\",\"2016-10-04T00:00:00\",\"2016-10-03T00:00:00\",\"2016-10-02T00:00:00\",\"2016-10-01T00:00:00\",\"2016-09-30T00:00:00\",\"2016-09-29T00:00:00\",\"2016-09-28T00:00:00\",\"2016-09-27T00:00:00\",\"2016-09-26T00:00:00\",\"2016-09-25T00:00:00\",\"2016-09-24T00:00:00\",\"2016-09-23T00:00:00\",\"2016-09-22T00:00:00\",\"2016-09-21T00:00:00\",\"2016-09-20T00:00:00\",\"2016-09-19T00:00:00\",\"2016-09-18T00:00:00\",\"2016-09-17T00:00:00\",\"2016-09-16T00:00:00\",\"2016-09-15T00:00:00\",\"2016-09-14T00:00:00\",\"2016-09-13T00:00:00\",\"2016-09-12T00:00:00\",\"2016-09-11T00:00:00\",\"2016-09-10T00:00:00\",\"2016-09-09T00:00:00\",\"2016-09-08T00:00:00\",\"2016-09-07T00:00:00\",\"2016-09-06T00:00:00\",\"2016-09-05T00:00:00\",\"2016-09-04T00:00:00\",\"2016-09-03T00:00:00\",\"2016-09-02T00:00:00\",\"2016-09-01T00:00:00\",\"2016-08-31T00:00:00\",\"2016-08-30T00:00:00\",\"2016-08-29T00:00:00\",\"2016-08-28T00:00:00\",\"2016-08-27T00:00:00\",\"2016-08-26T00:00:00\",\"2016-08-25T00:00:00\",\"2016-08-24T00:00:00\",\"2016-08-23T00:00:00\",\"2016-08-22T00:00:00\",\"2016-08-21T00:00:00\",\"2016-08-20T00:00:00\",\"2016-08-19T00:00:00\",\"2016-08-18T00:00:00\",\"2016-08-17T00:00:00\",\"2016-08-16T00:00:00\",\"2016-08-15T00:00:00\",\"2016-08-14T00:00:00\",\"2016-08-13T00:00:00\",\"2016-08-12T00:00:00\",\"2016-08-11T00:00:00\",\"2016-08-10T00:00:00\",\"2016-08-09T00:00:00\",\"2016-08-08T00:00:00\",\"2016-08-07T00:00:00\",\"2016-08-06T00:00:00\",\"2016-08-05T00:00:00\",\"2016-08-04T00:00:00\",\"2016-08-03T00:00:00\",\"2016-08-02T00:00:00\",\"2016-08-01T00:00:00\",\"2016-07-31T00:00:00\",\"2016-07-30T00:00:00\",\"2016-07-29T00:00:00\",\"2016-07-28T00:00:00\",\"2016-07-27T00:00:00\",\"2016-07-26T00:00:00\",\"2016-07-25T00:00:00\",\"2016-07-24T00:00:00\",\"2016-07-23T00:00:00\",\"2016-07-22T00:00:00\",\"2016-07-21T00:00:00\",\"2016-07-20T00:00:00\",\"2016-07-19T00:00:00\",\"2016-07-18T00:00:00\",\"2016-07-17T00:00:00\",\"2016-07-16T00:00:00\",\"2016-07-15T00:00:00\",\"2016-07-14T00:00:00\",\"2016-07-13T00:00:00\",\"2016-07-12T00:00:00\",\"2016-07-11T00:00:00\",\"2016-07-10T00:00:00\",\"2016-07-09T00:00:00\",\"2016-07-08T00:00:00\",\"2016-07-07T00:00:00\",\"2016-07-06T00:00:00\",\"2016-07-05T00:00:00\",\"2016-07-04T00:00:00\",\"2016-07-03T00:00:00\",\"2016-07-02T00:00:00\",\"2016-07-01T00:00:00\",\"2016-06-30T00:00:00\",\"2016-06-29T00:00:00\",\"2016-06-28T00:00:00\",\"2016-06-27T00:00:00\",\"2016-06-26T00:00:00\",\"2016-06-25T00:00:00\",\"2016-06-24T00:00:00\",\"2016-06-23T00:00:00\",\"2016-06-22T00:00:00\",\"2016-06-21T00:00:00\",\"2016-06-20T00:00:00\",\"2016-06-19T00:00:00\",\"2016-06-18T00:00:00\",\"2016-06-17T00:00:00\",\"2016-06-16T00:00:00\",\"2016-06-15T00:00:00\",\"2016-06-14T00:00:00\",\"2016-06-13T00:00:00\",\"2016-06-12T00:00:00\",\"2016-06-11T00:00:00\",\"2016-06-10T00:00:00\",\"2016-06-09T00:00:00\",\"2016-06-08T00:00:00\",\"2016-06-07T00:00:00\",\"2016-06-06T00:00:00\",\"2016-06-05T00:00:00\",\"2016-06-04T00:00:00\",\"2016-06-03T00:00:00\",\"2016-06-02T00:00:00\",\"2016-06-01T00:00:00\",\"2016-05-31T00:00:00\",\"2016-05-30T00:00:00\",\"2016-05-29T00:00:00\",\"2016-05-28T00:00:00\",\"2016-05-27T00:00:00\",\"2016-05-26T00:00:00\",\"2016-05-25T00:00:00\",\"2016-05-24T00:00:00\",\"2016-05-23T00:00:00\",\"2016-05-22T00:00:00\",\"2016-05-21T00:00:00\",\"2016-05-20T00:00:00\",\"2016-05-19T00:00:00\",\"2016-05-18T00:00:00\",\"2016-05-17T00:00:00\",\"2016-05-16T00:00:00\",\"2016-05-15T00:00:00\",\"2016-05-14T00:00:00\",\"2016-05-13T00:00:00\",\"2016-05-12T00:00:00\",\"2016-05-11T00:00:00\",\"2016-05-10T00:00:00\",\"2016-05-09T00:00:00\",\"2016-05-08T00:00:00\",\"2016-05-07T00:00:00\",\"2016-05-06T00:00:00\",\"2016-05-05T00:00:00\",\"2016-05-04T00:00:00\",\"2016-05-03T00:00:00\",\"2016-05-02T00:00:00\",\"2016-05-01T00:00:00\",\"2016-04-30T00:00:00\",\"2016-04-29T00:00:00\",\"2016-04-28T00:00:00\",\"2016-04-27T00:00:00\",\"2016-04-26T00:00:00\",\"2016-04-25T00:00:00\",\"2016-04-24T00:00:00\",\"2016-04-23T00:00:00\",\"2016-04-22T00:00:00\",\"2016-04-21T00:00:00\",\"2016-04-20T00:00:00\",\"2016-04-19T00:00:00\",\"2016-04-18T00:00:00\",\"2016-04-17T00:00:00\",\"2016-04-16T00:00:00\",\"2016-04-15T00:00:00\",\"2016-04-14T00:00:00\",\"2016-04-13T00:00:00\",\"2016-04-12T00:00:00\",\"2016-04-11T00:00:00\",\"2016-04-10T00:00:00\",\"2016-04-09T00:00:00\",\"2016-04-08T00:00:00\",\"2016-04-07T00:00:00\",\"2016-04-06T00:00:00\",\"2016-04-05T00:00:00\",\"2016-04-04T00:00:00\",\"2016-04-03T00:00:00\",\"2016-04-02T00:00:00\",\"2016-04-01T00:00:00\",\"2016-03-31T00:00:00\",\"2016-03-30T00:00:00\",\"2016-03-29T00:00:00\",\"2016-03-28T00:00:00\",\"2016-03-27T00:00:00\",\"2016-03-26T00:00:00\",\"2016-03-25T00:00:00\",\"2016-03-24T00:00:00\",\"2016-03-23T00:00:00\",\"2016-03-22T00:00:00\",\"2016-03-21T00:00:00\",\"2016-03-20T00:00:00\",\"2016-03-19T00:00:00\",\"2016-03-18T00:00:00\",\"2016-03-17T00:00:00\",\"2016-03-16T00:00:00\",\"2016-03-15T00:00:00\",\"2016-03-14T00:00:00\",\"2016-03-13T00:00:00\",\"2016-03-12T00:00:00\",\"2016-03-11T00:00:00\",\"2016-03-10T00:00:00\",\"2016-03-09T00:00:00\",\"2016-03-08T00:00:00\",\"2016-03-07T00:00:00\",\"2016-03-06T00:00:00\",\"2016-03-05T00:00:00\",\"2016-03-04T00:00:00\",\"2016-03-03T00:00:00\",\"2016-03-02T00:00:00\",\"2016-03-01T00:00:00\",\"2016-02-29T00:00:00\",\"2016-02-28T00:00:00\",\"2016-02-27T00:00:00\",\"2016-02-26T00:00:00\",\"2016-02-25T00:00:00\",\"2016-02-24T00:00:00\",\"2016-02-23T00:00:00\",\"2016-02-22T00:00:00\",\"2016-02-21T00:00:00\",\"2016-02-20T00:00:00\",\"2016-02-19T00:00:00\",\"2016-02-18T00:00:00\",\"2016-02-17T00:00:00\",\"2016-02-16T00:00:00\",\"2016-02-15T00:00:00\",\"2016-02-14T00:00:00\",\"2016-02-13T00:00:00\",\"2016-02-12T00:00:00\",\"2016-02-11T00:00:00\",\"2016-02-10T00:00:00\",\"2016-02-09T00:00:00\",\"2016-02-08T00:00:00\",\"2016-02-07T00:00:00\",\"2016-02-06T00:00:00\",\"2016-02-05T00:00:00\",\"2016-02-04T00:00:00\",\"2016-02-03T00:00:00\",\"2016-02-02T00:00:00\",\"2016-02-01T00:00:00\",\"2016-01-31T00:00:00\",\"2016-01-30T00:00:00\",\"2016-01-29T00:00:00\",\"2016-01-28T00:00:00\",\"2016-01-27T00:00:00\",\"2016-01-26T00:00:00\",\"2016-01-25T00:00:00\",\"2016-01-24T00:00:00\",\"2016-01-23T00:00:00\",\"2016-01-22T00:00:00\",\"2016-01-21T00:00:00\",\"2016-01-20T00:00:00\",\"2016-01-19T00:00:00\",\"2016-01-18T00:00:00\",\"2016-01-17T00:00:00\",\"2016-01-16T00:00:00\",\"2016-01-15T00:00:00\",\"2016-01-14T00:00:00\",\"2016-01-13T00:00:00\",\"2016-01-12T00:00:00\",\"2016-01-11T00:00:00\",\"2016-01-10T00:00:00\",\"2016-01-09T00:00:00\",\"2016-01-08T00:00:00\",\"2016-01-07T00:00:00\",\"2016-01-06T00:00:00\",\"2016-01-05T00:00:00\",\"2016-01-04T00:00:00\",\"2016-01-03T00:00:00\",\"2016-01-02T00:00:00\",\"2016-01-01T00:00:00\",\"2015-12-31T00:00:00\",\"2015-12-30T00:00:00\",\"2015-12-29T00:00:00\",\"2015-12-28T00:00:00\",\"2015-12-27T00:00:00\",\"2015-12-26T00:00:00\",\"2015-12-25T00:00:00\",\"2015-12-24T00:00:00\",\"2015-12-23T00:00:00\",\"2015-12-22T00:00:00\",\"2015-12-21T00:00:00\",\"2015-12-20T00:00:00\",\"2015-12-19T00:00:00\",\"2015-12-18T00:00:00\",\"2015-12-17T00:00:00\",\"2015-12-16T00:00:00\",\"2015-12-15T00:00:00\",\"2015-12-14T00:00:00\",\"2015-12-13T00:00:00\",\"2015-12-12T00:00:00\",\"2015-12-11T00:00:00\",\"2015-12-10T00:00:00\",\"2015-12-09T00:00:00\",\"2015-12-08T00:00:00\",\"2015-12-07T00:00:00\",\"2015-12-06T00:00:00\",\"2015-12-05T00:00:00\",\"2015-12-04T00:00:00\",\"2015-12-03T00:00:00\",\"2015-12-02T00:00:00\",\"2015-12-01T00:00:00\",\"2015-11-30T00:00:00\",\"2015-11-29T00:00:00\",\"2015-11-28T00:00:00\",\"2015-11-27T00:00:00\",\"2015-11-26T00:00:00\",\"2015-11-25T00:00:00\",\"2015-11-24T00:00:00\",\"2015-11-23T00:00:00\",\"2015-11-22T00:00:00\",\"2015-11-21T00:00:00\",\"2015-11-20T00:00:00\",\"2015-11-19T00:00:00\",\"2015-11-18T00:00:00\",\"2015-11-17T00:00:00\",\"2015-11-16T00:00:00\",\"2015-11-15T00:00:00\",\"2015-11-14T00:00:00\",\"2015-11-13T00:00:00\",\"2015-11-12T00:00:00\",\"2015-11-11T00:00:00\",\"2015-11-10T00:00:00\",\"2015-11-09T00:00:00\",\"2015-11-08T00:00:00\",\"2015-11-07T00:00:00\",\"2015-11-06T00:00:00\",\"2015-11-05T00:00:00\",\"2015-11-04T00:00:00\",\"2015-11-03T00:00:00\",\"2015-11-02T00:00:00\",\"2015-11-01T00:00:00\",\"2015-10-31T00:00:00\",\"2015-10-30T00:00:00\",\"2015-10-29T00:00:00\",\"2015-10-28T00:00:00\",\"2015-10-27T00:00:00\",\"2015-10-26T00:00:00\",\"2015-10-25T00:00:00\",\"2015-10-24T00:00:00\",\"2015-10-23T00:00:00\",\"2015-10-22T00:00:00\",\"2015-10-21T00:00:00\",\"2015-10-20T00:00:00\",\"2015-10-19T00:00:00\",\"2015-10-18T00:00:00\",\"2015-10-17T00:00:00\",\"2015-10-16T00:00:00\",\"2015-10-15T00:00:00\",\"2015-10-14T00:00:00\",\"2015-10-13T00:00:00\",\"2015-10-12T00:00:00\",\"2015-10-11T00:00:00\",\"2015-10-10T00:00:00\",\"2015-10-09T00:00:00\",\"2015-10-08T00:00:00\",\"2015-10-07T00:00:00\",\"2015-10-06T00:00:00\",\"2015-10-05T00:00:00\",\"2015-10-04T00:00:00\",\"2015-10-03T00:00:00\",\"2015-10-02T00:00:00\",\"2015-10-01T00:00:00\",\"2015-09-30T00:00:00\",\"2015-09-29T00:00:00\",\"2015-09-28T00:00:00\",\"2015-09-27T00:00:00\",\"2015-09-26T00:00:00\",\"2015-09-25T00:00:00\",\"2015-09-24T00:00:00\",\"2015-09-23T00:00:00\",\"2015-09-22T00:00:00\",\"2015-09-21T00:00:00\",\"2015-09-20T00:00:00\",\"2015-09-19T00:00:00\",\"2015-09-18T00:00:00\",\"2015-09-17T00:00:00\",\"2015-09-16T00:00:00\",\"2015-09-15T00:00:00\",\"2015-09-14T00:00:00\",\"2015-09-13T00:00:00\",\"2015-09-12T00:00:00\",\"2015-09-11T00:00:00\",\"2015-09-10T00:00:00\",\"2015-09-09T00:00:00\",\"2015-09-08T00:00:00\",\"2015-09-07T00:00:00\",\"2015-09-06T00:00:00\",\"2015-09-05T00:00:00\",\"2015-09-04T00:00:00\",\"2015-09-03T00:00:00\",\"2015-09-02T00:00:00\",\"2015-09-01T00:00:00\",\"2015-08-31T00:00:00\",\"2015-08-30T00:00:00\",\"2015-08-29T00:00:00\",\"2015-08-28T00:00:00\",\"2015-08-27T00:00:00\",\"2015-08-26T00:00:00\",\"2015-08-25T00:00:00\",\"2015-08-24T00:00:00\",\"2015-08-23T00:00:00\",\"2015-08-22T00:00:00\",\"2015-08-21T00:00:00\",\"2015-08-20T00:00:00\",\"2015-08-19T00:00:00\",\"2015-08-18T00:00:00\",\"2015-08-17T00:00:00\",\"2015-08-16T00:00:00\",\"2015-08-15T00:00:00\",\"2015-08-14T00:00:00\",\"2015-08-13T00:00:00\",\"2015-08-12T00:00:00\",\"2015-08-11T00:00:00\",\"2015-08-10T00:00:00\",\"2015-08-09T00:00:00\",\"2015-08-08T00:00:00\",\"2015-08-07T00:00:00\",\"2015-08-06T00:00:00\",\"2015-08-05T00:00:00\",\"2015-08-04T00:00:00\",\"2015-08-03T00:00:00\",\"2015-08-02T00:00:00\",\"2015-08-01T00:00:00\",\"2015-07-31T00:00:00\",\"2015-07-30T00:00:00\",\"2015-07-29T00:00:00\",\"2015-07-28T00:00:00\",\"2015-07-27T00:00:00\",\"2015-07-26T00:00:00\",\"2015-07-25T00:00:00\",\"2015-07-24T00:00:00\",\"2015-07-23T00:00:00\",\"2015-07-22T00:00:00\",\"2015-07-21T00:00:00\",\"2015-07-20T00:00:00\",\"2015-07-19T00:00:00\",\"2015-07-18T00:00:00\",\"2015-07-17T00:00:00\",\"2015-07-16T00:00:00\",\"2015-07-15T00:00:00\",\"2015-07-14T00:00:00\",\"2015-07-13T00:00:00\",\"2015-07-12T00:00:00\",\"2015-07-11T00:00:00\",\"2015-07-10T00:00:00\",\"2015-07-09T00:00:00\",\"2015-07-08T00:00:00\",\"2015-07-07T00:00:00\",\"2015-07-06T00:00:00\",\"2015-07-05T00:00:00\",\"2015-07-04T00:00:00\",\"2015-07-03T00:00:00\",\"2015-07-02T00:00:00\",\"2015-07-01T00:00:00\",\"2015-06-30T00:00:00\",\"2015-06-29T00:00:00\",\"2015-06-28T00:00:00\",\"2015-06-27T00:00:00\",\"2015-06-26T00:00:00\",\"2015-06-25T00:00:00\",\"2015-06-24T00:00:00\",\"2015-06-23T00:00:00\",\"2015-06-22T00:00:00\",\"2015-06-21T00:00:00\",\"2015-06-20T00:00:00\",\"2015-06-19T00:00:00\",\"2015-06-18T00:00:00\",\"2015-06-17T00:00:00\",\"2015-06-16T00:00:00\",\"2015-06-15T00:00:00\",\"2015-06-14T00:00:00\",\"2015-06-13T00:00:00\",\"2015-06-12T00:00:00\",\"2015-06-11T00:00:00\",\"2015-06-10T00:00:00\",\"2015-06-09T00:00:00\",\"2015-06-08T00:00:00\",\"2015-06-07T00:00:00\",\"2015-06-06T00:00:00\",\"2015-06-05T00:00:00\",\"2015-06-04T00:00:00\",\"2015-06-03T00:00:00\",\"2015-06-02T00:00:00\",\"2015-06-01T00:00:00\",\"2015-05-31T00:00:00\",\"2015-05-30T00:00:00\",\"2015-05-29T00:00:00\",\"2015-05-28T00:00:00\",\"2015-05-27T00:00:00\",\"2015-05-26T00:00:00\",\"2015-05-25T00:00:00\",\"2015-05-24T00:00:00\",\"2015-05-23T00:00:00\",\"2015-05-22T00:00:00\",\"2015-05-21T00:00:00\",\"2015-05-20T00:00:00\",\"2015-05-19T00:00:00\",\"2015-05-18T00:00:00\",\"2015-05-17T00:00:00\",\"2015-05-16T00:00:00\",\"2015-05-15T00:00:00\",\"2015-05-14T00:00:00\",\"2015-05-13T00:00:00\",\"2015-05-12T00:00:00\",\"2015-05-11T00:00:00\",\"2015-05-10T00:00:00\",\"2015-05-09T00:00:00\",\"2015-05-08T00:00:00\",\"2015-05-07T00:00:00\",\"2015-05-06T00:00:00\",\"2015-05-05T00:00:00\",\"2015-05-04T00:00:00\",\"2015-05-03T00:00:00\",\"2015-05-02T00:00:00\",\"2015-05-01T00:00:00\",\"2015-04-30T00:00:00\",\"2015-04-29T00:00:00\",\"2015-04-28T00:00:00\",\"2015-04-27T00:00:00\",\"2015-04-26T00:00:00\",\"2015-04-25T00:00:00\",\"2015-04-24T00:00:00\",\"2015-04-23T00:00:00\",\"2015-04-22T00:00:00\",\"2015-04-21T00:00:00\",\"2015-04-20T00:00:00\",\"2015-04-19T00:00:00\",\"2015-04-18T00:00:00\",\"2015-04-17T00:00:00\",\"2015-04-16T00:00:00\",\"2015-04-15T00:00:00\",\"2015-04-14T00:00:00\",\"2015-04-13T00:00:00\",\"2015-04-12T00:00:00\",\"2015-04-11T00:00:00\",\"2015-04-10T00:00:00\",\"2015-04-09T00:00:00\",\"2015-04-08T00:00:00\",\"2015-04-07T00:00:00\",\"2015-04-06T00:00:00\",\"2015-04-05T00:00:00\",\"2015-04-04T00:00:00\",\"2015-04-03T00:00:00\",\"2015-04-02T00:00:00\",\"2015-04-01T00:00:00\",\"2015-03-31T00:00:00\",\"2015-03-30T00:00:00\",\"2015-03-29T00:00:00\",\"2015-03-28T00:00:00\",\"2015-03-27T00:00:00\",\"2015-03-26T00:00:00\",\"2015-03-25T00:00:00\",\"2015-03-24T00:00:00\",\"2015-03-23T00:00:00\",\"2015-03-22T00:00:00\",\"2015-03-21T00:00:00\",\"2015-03-20T00:00:00\",\"2015-03-19T00:00:00\",\"2015-03-18T00:00:00\",\"2015-03-17T00:00:00\",\"2015-03-16T00:00:00\",\"2015-03-15T00:00:00\",\"2015-03-14T00:00:00\",\"2015-03-13T00:00:00\",\"2015-03-12T00:00:00\",\"2015-03-11T00:00:00\",\"2015-03-10T00:00:00\",\"2015-03-09T00:00:00\",\"2015-03-08T00:00:00\",\"2015-03-07T00:00:00\",\"2015-03-06T00:00:00\",\"2015-03-05T00:00:00\",\"2015-03-04T00:00:00\",\"2015-03-03T00:00:00\",\"2015-03-02T00:00:00\",\"2015-03-01T00:00:00\",\"2015-02-28T00:00:00\",\"2015-02-27T00:00:00\",\"2015-02-26T00:00:00\",\"2015-02-25T00:00:00\",\"2015-02-24T00:00:00\",\"2015-02-23T00:00:00\",\"2015-02-22T00:00:00\",\"2015-02-21T00:00:00\",\"2015-02-20T00:00:00\",\"2015-02-19T00:00:00\",\"2015-02-18T00:00:00\",\"2015-02-17T00:00:00\",\"2015-02-16T00:00:00\",\"2015-02-15T00:00:00\",\"2015-02-14T00:00:00\",\"2015-02-13T00:00:00\",\"2015-02-12T00:00:00\",\"2015-02-11T00:00:00\",\"2015-02-10T00:00:00\",\"2015-02-09T00:00:00\",\"2015-02-08T00:00:00\",\"2015-02-07T00:00:00\",\"2015-02-06T00:00:00\",\"2015-02-05T00:00:00\",\"2015-02-04T00:00:00\",\"2015-02-03T00:00:00\",\"2015-02-02T00:00:00\",\"2015-02-01T00:00:00\",\"2015-01-31T00:00:00\",\"2015-01-30T00:00:00\",\"2015-01-29T00:00:00\",\"2015-01-28T00:00:00\",\"2015-01-27T00:00:00\",\"2015-01-26T00:00:00\",\"2015-01-25T00:00:00\",\"2015-01-24T00:00:00\",\"2015-01-23T00:00:00\",\"2015-01-22T00:00:00\",\"2015-01-21T00:00:00\",\"2015-01-20T00:00:00\",\"2015-01-19T00:00:00\",\"2015-01-18T00:00:00\",\"2015-01-17T00:00:00\",\"2015-01-16T00:00:00\",\"2015-01-15T00:00:00\",\"2015-01-14T00:00:00\",\"2015-01-13T00:00:00\",\"2015-01-12T00:00:00\",\"2015-01-11T00:00:00\",\"2015-01-10T00:00:00\",\"2015-01-09T00:00:00\",\"2015-01-08T00:00:00\",\"2015-01-07T00:00:00\",\"2015-01-06T00:00:00\",\"2015-01-05T00:00:00\",\"2015-01-04T00:00:00\",\"2015-01-03T00:00:00\",\"2015-01-02T00:00:00\",\"2015-01-01T00:00:00\",\"2014-12-31T00:00:00\",\"2014-12-30T00:00:00\",\"2014-12-29T00:00:00\",\"2014-12-28T00:00:00\",\"2014-12-27T00:00:00\",\"2014-12-26T00:00:00\",\"2014-12-25T00:00:00\",\"2014-12-24T00:00:00\",\"2014-12-23T00:00:00\",\"2014-12-22T00:00:00\",\"2014-12-21T00:00:00\",\"2014-12-20T00:00:00\",\"2014-12-19T00:00:00\",\"2014-12-18T00:00:00\",\"2014-12-17T00:00:00\",\"2014-12-16T00:00:00\",\"2014-12-15T00:00:00\",\"2014-12-14T00:00:00\",\"2014-12-13T00:00:00\",\"2014-12-12T00:00:00\",\"2014-12-11T00:00:00\",\"2014-12-10T00:00:00\",\"2014-12-09T00:00:00\",\"2014-12-08T00:00:00\",\"2014-12-07T00:00:00\",\"2014-12-06T00:00:00\",\"2014-12-05T00:00:00\",\"2014-12-04T00:00:00\",\"2014-12-03T00:00:00\",\"2014-12-02T00:00:00\",\"2014-12-01T00:00:00\",\"2014-11-30T00:00:00\",\"2014-11-29T00:00:00\",\"2014-11-28T00:00:00\",\"2014-11-27T00:00:00\",\"2014-11-26T00:00:00\",\"2014-11-25T00:00:00\",\"2014-11-24T00:00:00\",\"2014-11-23T00:00:00\",\"2014-11-22T00:00:00\",\"2014-11-21T00:00:00\",\"2014-11-20T00:00:00\",\"2014-11-19T00:00:00\",\"2014-11-18T00:00:00\",\"2014-11-17T00:00:00\",\"2014-11-16T00:00:00\",\"2014-11-15T00:00:00\",\"2014-11-14T00:00:00\",\"2014-11-13T00:00:00\",\"2014-11-12T00:00:00\",\"2014-11-11T00:00:00\",\"2014-11-10T00:00:00\",\"2014-11-09T00:00:00\",\"2014-11-08T00:00:00\",\"2014-11-07T00:00:00\",\"2014-11-06T00:00:00\",\"2014-11-05T00:00:00\",\"2014-11-04T00:00:00\",\"2014-11-03T00:00:00\",\"2014-11-02T00:00:00\",\"2014-11-01T00:00:00\",\"2014-10-31T00:00:00\",\"2014-10-30T00:00:00\",\"2014-10-29T00:00:00\",\"2014-10-28T00:00:00\",\"2014-10-27T00:00:00\",\"2014-10-26T00:00:00\",\"2014-10-25T00:00:00\",\"2014-10-24T00:00:00\",\"2014-10-23T00:00:00\",\"2014-10-22T00:00:00\",\"2014-10-21T00:00:00\",\"2014-10-20T00:00:00\",\"2014-10-19T00:00:00\",\"2014-10-18T00:00:00\",\"2014-10-17T00:00:00\",\"2014-10-16T00:00:00\",\"2014-10-15T00:00:00\",\"2014-10-14T00:00:00\",\"2014-10-13T00:00:00\",\"2014-10-12T00:00:00\",\"2014-10-11T00:00:00\",\"2014-10-10T00:00:00\",\"2014-10-09T00:00:00\",\"2014-10-08T00:00:00\",\"2014-10-07T00:00:00\",\"2014-10-06T00:00:00\",\"2014-10-05T00:00:00\",\"2014-10-04T00:00:00\",\"2014-10-03T00:00:00\",\"2014-10-02T00:00:00\",\"2014-10-01T00:00:00\",\"2014-09-30T00:00:00\",\"2014-09-29T00:00:00\",\"2014-09-28T00:00:00\",\"2014-09-27T00:00:00\",\"2014-09-26T00:00:00\",\"2014-09-25T00:00:00\",\"2014-09-24T00:00:00\",\"2014-09-23T00:00:00\",\"2014-09-22T00:00:00\",\"2014-09-21T00:00:00\",\"2014-09-20T00:00:00\",\"2014-09-19T00:00:00\",\"2014-09-18T00:00:00\",\"2014-09-17T00:00:00\",\"2014-09-16T00:00:00\",\"2014-09-15T00:00:00\",\"2014-09-14T00:00:00\",\"2014-09-13T00:00:00\",\"2014-09-12T00:00:00\",\"2014-09-11T00:00:00\",\"2014-09-10T00:00:00\",\"2014-09-09T00:00:00\",\"2014-09-08T00:00:00\",\"2014-09-07T00:00:00\",\"2014-09-06T00:00:00\",\"2014-09-05T00:00:00\",\"2014-09-04T00:00:00\",\"2014-09-03T00:00:00\",\"2014-09-02T00:00:00\",\"2014-09-01T00:00:00\",\"2014-08-31T00:00:00\",\"2014-08-30T00:00:00\",\"2014-08-29T00:00:00\",\"2014-08-28T00:00:00\",\"2014-08-27T00:00:00\",\"2014-08-26T00:00:00\",\"2014-08-25T00:00:00\",\"2014-08-24T00:00:00\",\"2014-08-23T00:00:00\",\"2014-08-22T00:00:00\",\"2014-08-21T00:00:00\",\"2014-08-20T00:00:00\",\"2014-08-19T00:00:00\",\"2014-08-18T00:00:00\",\"2014-08-17T00:00:00\",\"2014-08-16T00:00:00\",\"2014-08-15T00:00:00\",\"2014-08-14T00:00:00\",\"2014-08-13T00:00:00\",\"2014-08-12T00:00:00\",\"2014-08-11T00:00:00\",\"2014-08-10T00:00:00\",\"2014-08-09T00:00:00\",\"2014-08-08T00:00:00\",\"2014-08-07T00:00:00\",\"2014-08-06T00:00:00\",\"2014-08-05T00:00:00\",\"2014-08-04T00:00:00\",\"2014-08-03T00:00:00\",\"2014-08-02T00:00:00\",\"2014-08-01T00:00:00\",\"2014-07-31T00:00:00\",\"2014-07-30T00:00:00\",\"2014-07-29T00:00:00\",\"2014-07-28T00:00:00\",\"2014-07-27T00:00:00\",\"2014-07-26T00:00:00\",\"2014-07-25T00:00:00\",\"2014-07-24T00:00:00\",\"2014-07-23T00:00:00\",\"2014-07-22T00:00:00\",\"2014-07-21T00:00:00\",\"2014-07-20T00:00:00\",\"2014-07-19T00:00:00\",\"2014-07-18T00:00:00\",\"2014-07-17T00:00:00\",\"2014-07-16T00:00:00\",\"2014-07-15T00:00:00\",\"2014-07-14T00:00:00\",\"2014-07-13T00:00:00\",\"2014-07-12T00:00:00\",\"2014-07-11T00:00:00\",\"2014-07-10T00:00:00\",\"2014-07-09T00:00:00\",\"2014-07-08T00:00:00\",\"2014-07-07T00:00:00\",\"2014-07-06T00:00:00\",\"2014-07-05T00:00:00\",\"2014-07-04T00:00:00\",\"2014-07-03T00:00:00\",\"2014-07-02T00:00:00\",\"2014-07-01T00:00:00\",\"2014-06-30T00:00:00\",\"2014-06-29T00:00:00\",\"2014-06-28T00:00:00\",\"2014-06-27T00:00:00\",\"2014-06-26T00:00:00\",\"2014-06-25T00:00:00\",\"2014-06-24T00:00:00\",\"2014-06-23T00:00:00\",\"2014-06-22T00:00:00\",\"2014-06-21T00:00:00\",\"2014-06-20T00:00:00\",\"2014-06-19T00:00:00\",\"2014-06-18T00:00:00\",\"2014-06-17T00:00:00\",\"2014-06-16T00:00:00\",\"2014-06-15T00:00:00\",\"2014-06-14T00:00:00\",\"2014-06-13T00:00:00\",\"2014-06-12T00:00:00\",\"2014-06-11T00:00:00\",\"2014-06-10T00:00:00\",\"2014-06-09T00:00:00\",\"2014-06-08T00:00:00\",\"2014-06-07T00:00:00\",\"2014-06-06T00:00:00\",\"2014-06-05T00:00:00\",\"2014-06-04T00:00:00\",\"2014-06-03T00:00:00\",\"2014-06-02T00:00:00\",\"2014-06-01T00:00:00\",\"2014-05-31T00:00:00\",\"2014-05-30T00:00:00\",\"2014-05-29T00:00:00\",\"2014-05-28T00:00:00\",\"2014-05-27T00:00:00\",\"2014-05-26T00:00:00\",\"2014-05-25T00:00:00\",\"2014-05-24T00:00:00\",\"2014-05-23T00:00:00\",\"2014-05-22T00:00:00\",\"2014-05-21T00:00:00\",\"2014-05-20T00:00:00\",\"2014-05-19T00:00:00\",\"2014-05-18T00:00:00\",\"2014-05-17T00:00:00\",\"2014-05-16T00:00:00\",\"2014-05-15T00:00:00\",\"2014-05-14T00:00:00\",\"2014-05-13T00:00:00\",\"2014-05-12T00:00:00\",\"2014-05-11T00:00:00\",\"2014-05-10T00:00:00\",\"2014-05-09T00:00:00\",\"2014-05-08T00:00:00\",\"2014-05-07T00:00:00\",\"2014-05-06T00:00:00\",\"2014-05-05T00:00:00\",\"2014-05-04T00:00:00\",\"2014-05-03T00:00:00\",\"2014-05-02T00:00:00\",\"2014-05-01T00:00:00\",\"2014-04-30T00:00:00\",\"2014-04-29T00:00:00\",\"2014-04-28T00:00:00\",\"2014-04-27T00:00:00\",\"2014-04-26T00:00:00\",\"2014-04-25T00:00:00\",\"2014-04-24T00:00:00\",\"2014-04-23T00:00:00\",\"2014-04-22T00:00:00\",\"2014-04-21T00:00:00\",\"2014-04-20T00:00:00\",\"2014-04-19T00:00:00\",\"2014-04-18T00:00:00\",\"2014-04-17T00:00:00\",\"2014-04-16T00:00:00\",\"2014-04-15T00:00:00\",\"2014-04-14T00:00:00\",\"2014-04-13T00:00:00\",\"2014-04-12T00:00:00\",\"2014-04-11T00:00:00\",\"2014-04-10T00:00:00\",\"2014-04-09T00:00:00\",\"2014-04-08T00:00:00\",\"2014-04-07T00:00:00\",\"2014-04-06T00:00:00\",\"2014-04-05T00:00:00\",\"2014-04-04T00:00:00\",\"2014-04-03T00:00:00\",\"2014-04-02T00:00:00\",\"2014-04-01T00:00:00\",\"2014-03-31T00:00:00\",\"2014-03-30T00:00:00\",\"2014-03-29T00:00:00\",\"2014-03-28T00:00:00\",\"2014-03-27T00:00:00\",\"2014-03-26T00:00:00\",\"2014-03-25T00:00:00\",\"2014-03-24T00:00:00\",\"2014-03-23T00:00:00\",\"2014-03-22T00:00:00\",\"2014-03-21T00:00:00\",\"2014-03-20T00:00:00\",\"2014-03-19T00:00:00\",\"2014-03-18T00:00:00\",\"2014-03-17T00:00:00\",\"2014-03-16T00:00:00\",\"2014-03-15T00:00:00\",\"2014-03-14T00:00:00\",\"2014-03-13T00:00:00\",\"2014-03-12T00:00:00\",\"2014-03-11T00:00:00\",\"2014-03-10T00:00:00\",\"2014-03-09T00:00:00\",\"2014-03-08T00:00:00\",\"2014-03-07T00:00:00\",\"2014-03-06T00:00:00\",\"2014-03-05T00:00:00\",\"2014-03-04T00:00:00\",\"2014-03-03T00:00:00\",\"2014-03-02T00:00:00\",\"2014-03-01T00:00:00\",\"2014-02-28T00:00:00\",\"2014-02-27T00:00:00\",\"2014-02-26T00:00:00\",\"2014-02-25T00:00:00\",\"2014-02-24T00:00:00\",\"2014-02-23T00:00:00\",\"2014-02-22T00:00:00\",\"2014-02-21T00:00:00\",\"2014-02-20T00:00:00\",\"2014-02-19T00:00:00\",\"2014-02-18T00:00:00\",\"2014-02-17T00:00:00\",\"2014-02-16T00:00:00\",\"2014-02-15T00:00:00\",\"2014-02-14T00:00:00\",\"2014-02-13T00:00:00\",\"2014-02-12T00:00:00\",\"2014-02-11T00:00:00\",\"2014-02-10T00:00:00\",\"2014-02-09T00:00:00\",\"2014-02-08T00:00:00\",\"2014-02-07T00:00:00\",\"2014-02-06T00:00:00\",\"2014-02-05T00:00:00\",\"2014-02-04T00:00:00\",\"2014-02-03T00:00:00\",\"2014-02-02T00:00:00\",\"2014-02-01T00:00:00\",\"2014-01-31T00:00:00\",\"2014-01-30T00:00:00\",\"2014-01-29T00:00:00\",\"2014-01-28T00:00:00\",\"2014-01-27T00:00:00\",\"2014-01-26T00:00:00\",\"2014-01-25T00:00:00\",\"2014-01-24T00:00:00\",\"2014-01-23T00:00:00\",\"2014-01-22T00:00:00\",\"2014-01-21T00:00:00\",\"2014-01-20T00:00:00\",\"2014-01-19T00:00:00\",\"2014-01-18T00:00:00\",\"2014-01-17T00:00:00\",\"2014-01-16T00:00:00\",\"2014-01-15T00:00:00\",\"2014-01-14T00:00:00\",\"2014-01-13T00:00:00\",\"2014-01-12T00:00:00\",\"2014-01-11T00:00:00\",\"2014-01-10T00:00:00\",\"2014-01-09T00:00:00\",\"2014-01-08T00:00:00\",\"2014-01-07T00:00:00\",\"2014-01-06T00:00:00\",\"2014-01-05T00:00:00\",\"2014-01-04T00:00:00\",\"2014-01-03T00:00:00\",\"2014-01-02T00:00:00\",\"2014-01-01T00:00:00\",\"2013-12-31T00:00:00\",\"2013-12-30T00:00:00\",\"2013-12-29T00:00:00\",\"2013-12-28T00:00:00\",\"2013-12-27T00:00:00\",\"2013-12-26T00:00:00\",\"2013-12-25T00:00:00\",\"2013-12-24T00:00:00\",\"2013-12-23T00:00:00\",\"2013-12-22T00:00:00\",\"2013-12-21T00:00:00\",\"2013-12-20T00:00:00\",\"2013-12-19T00:00:00\",\"2013-12-18T00:00:00\",\"2013-12-17T00:00:00\",\"2013-12-16T00:00:00\",\"2013-12-15T00:00:00\",\"2013-12-14T00:00:00\",\"2013-12-13T00:00:00\",\"2013-12-12T00:00:00\",\"2013-12-11T00:00:00\",\"2013-12-10T00:00:00\",\"2013-12-09T00:00:00\",\"2013-12-08T00:00:00\",\"2013-12-07T00:00:00\",\"2013-12-06T00:00:00\",\"2013-12-05T00:00:00\",\"2013-12-04T00:00:00\",\"2013-12-03T00:00:00\",\"2013-12-02T00:00:00\",\"2013-12-01T00:00:00\",\"2013-11-30T00:00:00\",\"2013-11-29T00:00:00\",\"2013-11-28T00:00:00\",\"2013-11-27T00:00:00\",\"2013-11-26T00:00:00\",\"2013-11-25T00:00:00\",\"2013-11-24T00:00:00\",\"2013-11-23T00:00:00\",\"2013-11-22T00:00:00\",\"2013-11-21T00:00:00\",\"2013-11-20T00:00:00\",\"2013-11-19T00:00:00\",\"2013-11-18T00:00:00\",\"2013-11-17T00:00:00\",\"2013-11-16T00:00:00\",\"2013-11-15T00:00:00\",\"2013-11-14T00:00:00\",\"2013-11-13T00:00:00\",\"2013-11-12T00:00:00\",\"2013-11-11T00:00:00\",\"2013-11-10T00:00:00\",\"2013-11-09T00:00:00\",\"2013-11-08T00:00:00\",\"2013-11-07T00:00:00\",\"2013-11-06T00:00:00\",\"2013-11-05T00:00:00\",\"2013-11-04T00:00:00\",\"2013-11-03T00:00:00\",\"2013-11-02T00:00:00\",\"2013-11-01T00:00:00\",\"2013-10-31T00:00:00\",\"2013-10-30T00:00:00\",\"2013-10-29T00:00:00\",\"2013-10-28T00:00:00\",\"2013-10-27T00:00:00\",\"2013-10-26T00:00:00\",\"2013-10-25T00:00:00\",\"2013-10-24T00:00:00\",\"2013-10-23T00:00:00\",\"2013-10-22T00:00:00\",\"2013-10-21T00:00:00\",\"2013-10-20T00:00:00\",\"2013-10-19T00:00:00\",\"2013-10-18T00:00:00\",\"2013-10-17T00:00:00\",\"2013-10-16T00:00:00\",\"2013-10-15T00:00:00\",\"2013-10-14T00:00:00\",\"2013-10-13T00:00:00\",\"2013-10-12T00:00:00\",\"2013-10-11T00:00:00\",\"2013-10-10T00:00:00\",\"2013-10-09T00:00:00\",\"2013-10-08T00:00:00\",\"2013-10-07T00:00:00\",\"2013-10-06T00:00:00\",\"2013-10-05T00:00:00\",\"2013-10-04T00:00:00\",\"2013-10-03T00:00:00\",\"2013-10-02T00:00:00\",\"2013-10-01T00:00:00\",\"2013-09-30T00:00:00\",\"2013-09-29T00:00:00\",\"2013-09-28T00:00:00\",\"2013-09-27T00:00:00\",\"2013-09-26T00:00:00\",\"2013-09-25T00:00:00\",\"2013-09-24T00:00:00\",\"2013-09-23T00:00:00\",\"2013-09-22T00:00:00\",\"2013-09-21T00:00:00\",\"2013-09-20T00:00:00\",\"2013-09-19T00:00:00\",\"2013-09-18T00:00:00\",\"2013-09-17T00:00:00\",\"2013-09-16T00:00:00\",\"2013-09-15T00:00:00\",\"2013-09-14T00:00:00\",\"2013-09-13T00:00:00\",\"2013-09-12T00:00:00\",\"2013-09-11T00:00:00\",\"2013-09-10T00:00:00\",\"2013-09-09T00:00:00\",\"2013-09-08T00:00:00\",\"2013-09-07T00:00:00\",\"2013-09-06T00:00:00\",\"2013-09-05T00:00:00\",\"2013-09-04T00:00:00\",\"2013-09-03T00:00:00\",\"2013-09-02T00:00:00\",\"2013-09-01T00:00:00\",\"2013-08-31T00:00:00\",\"2013-08-30T00:00:00\",\"2013-08-29T00:00:00\",\"2013-08-28T00:00:00\",\"2013-08-27T00:00:00\",\"2013-08-26T00:00:00\",\"2013-08-25T00:00:00\",\"2013-08-24T00:00:00\",\"2013-08-23T00:00:00\",\"2013-08-22T00:00:00\",\"2013-08-21T00:00:00\",\"2013-08-20T00:00:00\",\"2013-08-19T00:00:00\",\"2013-08-18T00:00:00\",\"2013-08-17T00:00:00\",\"2013-08-16T00:00:00\",\"2013-08-15T00:00:00\",\"2013-08-14T00:00:00\",\"2013-08-13T00:00:00\",\"2013-08-12T00:00:00\",\"2013-08-11T00:00:00\",\"2013-08-10T00:00:00\",\"2013-08-09T00:00:00\",\"2013-08-08T00:00:00\",\"2013-08-07T00:00:00\",\"2013-08-06T00:00:00\",\"2013-08-05T00:00:00\",\"2013-08-04T00:00:00\",\"2013-08-03T00:00:00\",\"2013-08-02T00:00:00\",\"2013-08-01T00:00:00\",\"2013-07-31T00:00:00\",\"2013-07-30T00:00:00\",\"2013-07-29T00:00:00\",\"2013-07-28T00:00:00\",\"2013-07-27T00:00:00\",\"2013-07-26T00:00:00\",\"2013-07-25T00:00:00\",\"2013-07-24T00:00:00\",\"2013-07-23T00:00:00\",\"2013-07-22T00:00:00\",\"2013-07-21T00:00:00\",\"2013-07-20T00:00:00\",\"2013-07-19T00:00:00\",\"2013-07-18T00:00:00\",\"2013-07-17T00:00:00\",\"2013-07-16T00:00:00\",\"2013-07-15T00:00:00\",\"2013-07-14T00:00:00\",\"2013-07-13T00:00:00\",\"2013-07-12T00:00:00\",\"2013-07-11T00:00:00\",\"2013-07-10T00:00:00\",\"2013-07-09T00:00:00\",\"2013-07-08T00:00:00\",\"2013-07-07T00:00:00\",\"2013-07-06T00:00:00\",\"2013-07-05T00:00:00\",\"2013-07-04T00:00:00\",\"2013-07-03T00:00:00\",\"2013-07-02T00:00:00\",\"2013-07-01T00:00:00\",\"2013-06-30T00:00:00\",\"2013-06-29T00:00:00\",\"2013-06-28T00:00:00\",\"2013-06-27T00:00:00\",\"2013-06-26T00:00:00\",\"2013-06-25T00:00:00\",\"2013-06-24T00:00:00\",\"2013-06-23T00:00:00\",\"2013-06-22T00:00:00\",\"2013-06-21T00:00:00\",\"2013-06-20T00:00:00\",\"2013-06-19T00:00:00\",\"2013-06-18T00:00:00\",\"2013-06-17T00:00:00\",\"2013-06-16T00:00:00\",\"2013-06-15T00:00:00\",\"2013-06-14T00:00:00\",\"2013-06-13T00:00:00\",\"2013-06-12T00:00:00\",\"2013-06-11T00:00:00\",\"2013-06-10T00:00:00\",\"2013-06-09T00:00:00\",\"2013-06-08T00:00:00\",\"2013-06-07T00:00:00\",\"2013-06-06T00:00:00\",\"2013-06-05T00:00:00\",\"2013-06-04T00:00:00\",\"2013-06-03T00:00:00\",\"2013-06-02T00:00:00\",\"2013-06-01T00:00:00\",\"2013-05-31T00:00:00\",\"2013-05-30T00:00:00\",\"2013-05-29T00:00:00\",\"2013-05-28T00:00:00\",\"2013-05-27T00:00:00\",\"2013-05-26T00:00:00\",\"2013-05-25T00:00:00\",\"2013-05-24T00:00:00\",\"2013-05-23T00:00:00\",\"2013-05-22T00:00:00\",\"2013-05-21T00:00:00\",\"2013-05-20T00:00:00\",\"2013-05-19T00:00:00\",\"2013-05-18T00:00:00\",\"2013-05-17T00:00:00\",\"2013-05-16T00:00:00\",\"2013-05-15T00:00:00\",\"2013-05-14T00:00:00\",\"2013-05-13T00:00:00\",\"2013-05-12T00:00:00\",\"2013-05-11T00:00:00\",\"2013-05-10T00:00:00\",\"2013-05-09T00:00:00\",\"2013-05-08T00:00:00\",\"2013-05-07T00:00:00\",\"2013-05-06T00:00:00\",\"2013-05-05T00:00:00\",\"2013-05-04T00:00:00\",\"2013-05-03T00:00:00\",\"2013-05-02T00:00:00\",\"2013-05-01T00:00:00\",\"2013-04-30T00:00:00\",\"2013-04-29T00:00:00\",\"2013-04-28T00:00:00\"],\"y\":[null,null,null,null,null,null,null,null,null,null,null,null,null,null,null,null,null,null,null,null,null,null,null,null,null,null,null,null,null,null,null,null,null,null,null,null,null,null,null,null,null,null,null,null,null,null,null,null,null,2548.9418,2550.5972,2554.4078,2556.355,2556.2872,2557.4948,2564.1697999999997,2566.3763999999996,2561.5153999999998,2557.2144,2550.783,2545.5854,2534.9615999999996,2533.0024,2531.7369999999996,2530.2848,2532.4658,2536.537,2537.9698000000003,2539.6846,2538.1162,2534.8284,2528.2012,2519.527,2507.8544,2495.2542000000003,2479.8648000000003,2462.514,2445.2498,2430.1468,2416.1156,2401.9094,2389.264,2374.2201999999997,2357.8316,2341.2496,2323.6148,2303.4026,2282.3372,2258.1924,2233.886,2209.1604,2183.1566000000003,2158.3224,2133.7924,2107.0044,2082.9878,2059.3178,2034.5002,2005.1628000000003,1976.1144,1941.5864000000001,1907.0731999999998,1875.1786,1843.2720000000002,1812.8622,1779.4764000000002,1749.399,1722.6132,1695.6570000000002,1669.2716,1645.1214000000002,1623.4934,1603.7266,1582.3718,1562.7748000000001,1545.5354,1525.1406,1501.5366000000001,1475.3288,1451.7966000000001,1430.372,1411.1580000000001,1390.8991999999998,1371.6736,1354.7,1338.8612,1325.0876,1309.6536,1292.9309999999998,1275.5832,1261.8701999999998,1245.8816,1232.5498,1218.5272,1204.795,1192.3372,1182.7658000000001,1175.413,1169.6518,1164.65,1160.232,1156.2276,1152.7864,1148.685,1146.1252,1142.7706,1141.6198,1141.7666,1142.106,1143.0647999999999,1143.9304000000002,1144.5095999999999,1144.378,1143.7716,1143.1376,1142.5634,1141.7814,1141.8046000000002,1141.7882,1140.7514,1139.05,1136.5494,1133.7642,1131.0952,1128.5004000000001,1125.5112,1122.0072,1119.6026,1116.7504000000001,1113.8578,1111.9034,1110.0667999999998,1108.5185999999999,1109.2514,1109.679,1109.499,1109.1304,1110.6538,1111.7964,1113.282,1112.2906,1110.7158,1106.7126,1104.018,1101.715,1100.6336000000001,1096.9807999999998,1091.2554,1084.117,1077.7372,1071.5922,1065.6004,1059.9844,1055.6314,1049.594,1044.7528,1036.9126,1027.892,1018.9177999999999,1010.2944,1000.8911999999999,991.4262000000001,985.1298000000002,979.587,974.2116000000001,969.0794000000001,964.2466000000001,961.0405999999999,960.8008,959.3288,957.4578,955.8248,954.1422,952.2786,950.8243999999999,949.7940000000001,948.3084,946.3696000000001,944.4803999999999,942.4731999999999,940.8238,938.3412,935.1392,929.8953999999999,924.5225999999999,919.5701999999999,914.84,909.6802,904.6438,900.0374,895.8682000000001,892.062,889.049,886.1519999999999,883.176,880.1972000000001,877.2080000000001,874.4616000000001,871.7818000000001,868.8389999999999,865.7686,862.8916,860.1264,857.0588,854.0383999999999,850.5958,848.6057999999998,846.8774000000001,845.3422,843.6684000000001,842.4636,841.9354,838.5668,835.1308,831.9392,828.7991999999999,825.5748,820.1912,811.329,804.5526000000001,798.1582000000001,792.2926,787.346,782.4318000000001,777.4272,772.1058,767.5044,763.5826,759.7274000000001,755.8158,751.1501999999999,748.676,746.5862,744.5880000000001,742.7710000000001,741.25,739.2264,737.2943999999999,735.2986,732.8207999999998,730.2847999999999,727.8244,725.5756,722.7392,719.9005999999999,717.0948,714.4914,711.9908,709.6493999999999,706.945,704.3296,701.5065999999999,699.095,697.0025999999999,694.6704,692.2891999999999,690.0308,687.6655999999999,685.0929999999998,682.5373999999999,679.8496,677.0652,674.498,672.1570000000002,669.3194,666.4014,663.6764,660.9158,658.8442,656.7603999999999,654.7724000000001,652.7282,650.326,647.9584,645.6591999999999,643.6468,641.7815999999999,639.6708,637.7418,635.82,634.2596,631.6278,629.1968,627.3118,625.7448,623.9123999999999,622.6458,621.1704,619.8132,618.7932,617.8906000000001,616.7134000000001,615.0784,613.8678,612.76,611.6996,610.4226,609.1170000000001,607.6834,606.5034,605.251,604.1188,603.0632,601.9768,601.2232,600.5222,599.6525999999999,598.7966,598.0006,597.2992,596.44,595.6068,595.1008,594.5724,594.16,593.8882,593.5495999999999,593.2472,592.9402,592.6792,592.1274,591.6364,591.0376,590.044,590.0032,590.3122,591.2158000000001,592.236,593.1972000000001,594.1411999999999,594.9632,595.8604,596.9212,597.8979999999999,598.4402,599.2832,600.0704000000001,601.2368,602.4902,603.9476,604.9904,606.2912,607.942,609.5854,611.367,612.7701999999999,614.2752,615.8162,617.7476,618.9658000000001,620.9572000000001,622.7662,624.7712,626.2094000000001,628.6572,630.5491999999999,632.5034,633.8148,635.2904,636.847,638.0896,639.9825999999999,641.5768,642.3052,642.4452,643.9362,646.9248,650.3793999999999,653.6501999999999,656.8728,660.6981999999999,663.0218,665.4058,668.544,669.8742,669.5151999999999,667.9636,666.3164,664.8486,663.2936,661.9688000000001,660.3864,658.6153999999999,656.888,654.635,652.0732,649.3874,646.6074,643.6698,640.6813999999999,636.9352,632.7378,628.5682,624.3983999999999,619.9904,615.8236,611.7002,607.5346,602.9784,599.2596,594.7886,590.4592,585.9374,581.8776,576.9169999999999,572.4864,568.0742,564.2941999999999,560.5638,556.6294,553.2128,549.1024,544.756,541.2108000000001,538.2944,533.8548,528.1478,521.8386,515.816,509.81800000000004,503.38559999999995,498.818,494.3354,489.41900000000004,484.969,481.74920000000003,479.18840000000006,476.5236,473.601,470.6408,467.478,464.5898,461.7294,458.83119999999997,456.5464,454.3118,452.1336,449.8876,447.75120000000004,445.5574,444.5432,443.94379999999995,443.4324,442.94160000000005,442.47659999999996,442.10760000000005,441.603,441.084,440.6062,439.8442,439.2532,438.70520000000005,437.9126,437.14279999999997,436.35720000000003,435.62260000000003,434.92980000000006,434.1782,433.2436,432.2814,431.3016,430.522,429.9026,429.30479999999994,428.6276,428.0154,427.2102,426.67760000000004,425.9182,425.23519999999996,424.62080000000003,423.5854,422.51099999999997,421.35119999999995,420.56440000000003,420.08259999999996,419.57379999999995,419.4484,419.4922,419.5904,419.6928,419.72439999999995,419.621,419.6344,419.5746000000001,419.8258,420.1522,420.4642,420.4918,420.5322,420.4036,420.08520000000004,419.6084,419.32419999999996,418.74340000000007,418.0112,417.245,416.54339999999996,415.7676,414.9062,413.954,412.94919999999996,412.3214,411.76959999999997,410.8408,409.96899999999994,409.06839999999994,408.17760000000004,407.4676,406.8482,406.263,405.75,405.2528,404.7508,404.48140000000006,403.95,403.36740000000003,403.13879999999995,403.2008,402.50660000000005,401.9706,401.33020000000005,400.9268,400.20200000000006,400.58939999999996,400.8038,401.0378,401.30400000000003,401.50980000000004,401.792,402.2062,402.72420000000005,402.8156000000001,402.9558,403.20279999999997,403.04799999999994,402.9408,402.88419999999996,403.0798,403.16479999999996,403.49800000000005,403.7938,404.2464,404.4472,405.72299999999996,407.1376,408.3926,409.49100000000004,410.7432,412.12799999999993,413.842,415.584,416.9746,418.2814,420.18879999999996,421.58340000000004,422.79720000000003,424.1218,425.5956,426.31579999999997,427.06120000000004,427.473,427.5408,427.4818,427.2014,426.71520000000004,426.2864,425.265,424.1102,424.0536,423.73600000000005,423.23759999999993,422.6476,422.4146,420.37260000000003,418.1261999999999,415.87340000000006,413.3956,410.97439999999995,408.4626,405.921,403.4518,401.5714,399.54720000000003,397.2888,395.34680000000003,393.41299999999995,391.48940000000005,389.0996,387.3036,386.2492,385.27099999999996,384.5442,383.6882,382.3022,381.4336,380.65399999999994,379.14639999999997,376.8822,374.3118,371.6256000000001,368.63039999999995,365.6012,362.37839999999994,358.778,355.56800000000004,352.526,349.356,345.79760000000005,342.81340000000006,339.8514,336.809,334.1310000000001,331.7682,329.24660000000006,327.0694,324.88820000000004,322.6946,320.351,317.7456,315.2186,312.94960000000003,310.6348,308.44059999999996,306.79760000000005,305.20419999999996,303.5084,301.7922,299.99940000000004,298.31,296.5082,294.5502,292.63120000000004,290.6714,288.9548,286.99940000000004,284.955,282.79760000000005,281.18839999999994,278.99379999999996,276.01279999999997,273.1752,270.105,267.2118,264.0666,260.4414,256.9858,254.37219999999996,252.5682,251.08700000000002,249.2964,247.78259999999997,246.56240000000003,245.4836,244.57440000000003,243.60119999999998,242.57420000000002,241.58780000000002,240.69299999999998,239.93,239.142,238.4484,237.8112,237.0264,236.26440000000002,235.69460000000004,235.08699999999996,234.3068,233.96399999999997,233.63080000000002,233.3834,233.2118,232.89939999999999,232.26160000000004,232.5,232.86260000000001,233.3284,233.8674,234.4032,234.97979999999998,235.66640000000004,236.222,236.74079999999998,237.30560000000003,238.21040000000002,239.0792,240.02620000000002,241.125,242.1372,243.24760000000003,244.2554,245.3186,246.4136,247.6092,248.916,250.18240000000003,251.42340000000002,252.58720000000002,253.6482,254.36700000000002,255.1418,255.895,256.6024,257.2776,257.9788,258.86780000000005,259.8236,260.9966,262.16020000000003,263.4388,265.055,266.3422,267.4444,268.20099999999996,269.1214,269.929,270.8774,272.10560000000004,272.76,273.279,273.7358,274.2012,274.92900000000003,275.8486,275.6692,275.5188,275.1596,274.702,274.23060000000004,273.789,273.32099999999997,272.9104,272.513,272.1852,271.5738,270.9878,270.3682,269.4002,268.4464,267.4422,266.4098,265.311,264.1326,262.9218,261.603,260.1882,258.84680000000003,257.5718,256.2926,255.28900000000002,254.2606,253.20260000000002,252.22679999999997,251.4214,250.6654,249.8242,249.00799999999998,248.03379999999999,247.0268,246.0048,244.5648,243.5094,242.5184,241.81420000000003,241.0374,240.37580000000003,239.7312,239.016,238.55020000000002,238.162,237.78140000000002,237.4312,237.013,236.67780000000002,236.53420000000003,236.3916,236.2664,236.00599999999997,235.91819999999998,235.81259999999997,235.68,235.4998,235.2372,235.06799999999998,234.604,234.1354,233.7032,233.3554,233.2124,233.1898,233.31939999999997,233.4088,233.5382,233.44979999999998,233.332,233.3416,233.2868,233.3592,233.34939999999997,233.21519999999998,233.19099999999997,233.4554,233.5826,233.6372,233.7688,233.92100000000002,234.239,234.60640000000004,235.07620000000003,235.3312,235.6402,235.8932,236.1318,236.33579999999998,236.6474,236.83900000000003,237.15900000000002,237.37660000000002,237.5952,237.78060000000002,237.9648,238.47740000000002,238.9934,239.3878,239.78619999999998,240.12760000000003,240.507,241.6214,242.71079999999998,243.65820000000002,244.48860000000002,245.4968,246.74220000000003,247.9468,249.26579999999998,250.54100000000003,251.4422,252.57879999999997,253.5054,254.4036,255.13620000000003,256.0866,256.89459999999997,257.606,258.23920000000004,258.84860000000003,259.1196,259.29760000000005,259.5958,259.9904,260.2182,260.38579999999996,260.5304,260.6146,260.4676,260.4394,260.0526,259.63919999999996,259.57359999999994,259.2082,258.557,257.8808,257.3322,256.85,256.36760000000004,256.06839999999994,255.4578,254.8594,254.4258,254.0472,253.9,253.1046,252.0946,251.4228,250.858,250.31759999999997,250.46120000000002,250.22060000000002,249.4832,248.71239999999997,247.7324,246.6938,245.3448,243.6434,242.1054,240.52,239.0182,237.655,236.39739999999998,234.43579999999997,233.4912,233.2132,233.013,233.305,234.028,234.6184,235.77660000000003,236.75099999999998,237.46560000000002,237.9716,238.8736,240.2836,241.69299999999998,243.29120000000003,244.7794,246.16060000000002,247.8286,249.44940000000003,250.86140000000003,252.53300000000002,254.54840000000002,256.856,259.097,261.1116,263.24260000000004,265.0444,266.827,268.8804,270.8846,273.2462,275.51419999999996,277.92240000000004,280.62399999999997,283.10560000000004,285.36280000000005,287.72900000000004,289.69759999999997,291.7302,294.1516,296.7316,299.466,302.298,305.3862,308.745,312.0088,315.3118,318.8556,322.087,325.2576,329.2026,332.22339999999997,334.21880000000004,335.964,337.485,338.8336,340.7778,342.395,344.4194,346.68760000000003,348.9264,351.2612,353.3754,355.56160000000006,356.51160000000004,357.63519999999994,358.64700000000005,359.212,359.7432,360.17060000000004,360.5802,360.73940000000005,360.599,360.47900000000004,360.5772,360.74440000000004,361.29380000000003,361.7776,362.5344,363.05300000000005,363.24,363.1528,363.3722,363.48979999999995,364.14279999999997,364.945,365.55760000000004,366.1104,366.4372,366.61660000000006,366.73079999999993,367.2342,367.75140000000005,367.93340000000006,367.9194,367.6044,367.3258,367.0974,366.76279999999997,366.11920000000003,365.2138,364.08600000000007,363.31199999999995,363.44379999999995,363.9282,364.44380000000007,364.5714,364.5768,364.3722,364.605,365.17100000000005,365.4460000000001,365.49519999999995,365.73979999999995,366.42900000000003,367.06700000000006,367.97979999999995,368.96600000000007,370.6064,372.7672,375.2986,378.1962,381.20300000000003,384.26520000000005,387.3052,390.13380000000006,392.81479999999993,395.6082,397.9478,400.5336,403.13620000000003,405.85760000000005,408.4838,410.8672,412.75260000000003,414.52060000000006,416.4188,418.7128,421.05440000000004,423.5354,426.10720000000003,428.4432,430.47579999999994,432.8334,435.2238,438.2586,441.37219999999996,444.31120000000004,446.95740000000006,449.4628,452.6972,456.68119999999993,460.04400000000004,462.9732,466.405,470.1254,473.914,478.2258,482.4696,486.33079999999995,490.01959999999997,493.48119999999994,496.72600000000006,499.7858,503.47619999999995,507.2864,511.0068,514.8356,517.6926,520.2406000000001,522.6332,525.0028000000001,527.3611999999999,529.803,532.2826,535.0758,537.9196000000001,540.8586,543.8446,546.7692,549.6482,552.4432,554.986,557.866,560.7038,563.7361999999999,566.8552000000001,569.4102,571.575,573.909,576.1824,578.4328,581.099,583.5624,586.2148000000001,588.8372,591.51,594.0866,597.1776,600.0028,602.0978,603.6488,605.3314,606.5388,607.2528000000001,607.7396,608.2576,608.3362,608.4318,608.5416,608.9234,609.4476,609.5826,609.6658,609.4796000000001,609.6962,609.5368,610.4724,612.1896,613.4782,614.8872,616.1096,617.2674000000001,618.4308,619.2284000000001,620.1924,620.9738,621.1342,621.1298,620.8661999999999,619.6542,618.7336,617.8224,617.059,616.1044,614.0772000000001,611.8074,609.659,607.1591999999999,604.3834,600.8106,597.254,593.5158,589.8478,586.179,582.1551999999999,577.951,573.964,569.9458,566.98,564.0382,560.8964,558.05,555.3024,552.3248,549.1732,545.8829999999999,542.9708,540.2429999999999,537.2344,534.0194,530.6080000000001,527.4920000000001,524.8052,522.487,520.4929999999999,518.58,515.678,512.5304,509.51059999999995,506.41900000000004,502.9124,499.75759999999997,497.12019999999995,494.59979999999996,490.42339999999996,485.4922,481.31,477.2554,472.2524000000001,469.74340000000007,467.264,464.82759999999996,462.3692,460.1756,458.62340000000006,457.11339999999996,455.36460000000005,455.09680000000003,454.5224,454.8042,455.70240000000007,456.63779999999997,457.1014,459.77299999999997,462.57200000000006,465.4268,467.82300000000004,470.346,472.6872,475.4734,478.8678,482.388,486.25620000000004,490.20880000000005,494.2032,498.024,501.7992,505.28600000000006,509.01539999999994,512.627,516.5604,520.1816,523.5926000000001,527.6408,530.9418000000001,534.4514,538.0482,539.3286,540.6774,541.6314,543.614,545.3486,545.575,546.1896,549.1302000000001,552.9574,556.0182,558.722,563.879,567.5563999999999,571.02,574.3642000000001,578.1726,582.1742,585.3284,589.4684000000001,594.169,598.2220000000001,602.74,607.013,611.4376,617.1551999999999,623.9686,628.9112,633.7094,638.5486,643.9748,649.2724000000001,654.2232,658.9678,663.0202,666.1514,671.4096,675.8595999999999,679.0786,682.9434,687.0924,691.7286,696.4504000000001,701.3138,705.3746000000001,709.3184,713.448,717.3888000000001,720.7439999999999,724.2324000000001,728.1416,735.2248,741.2822,747.2342000000001,752.5131999999999,756.8993999999999,765.1909999999999,772.9351999999999,778.0089999999999,782.275,786.8395999999999,791.1447999999999,793.7644,796.355,798.7306000000001,800.9545999999999,802.6375999999999,804.6374000000001,806.1768,806.4540000000001,806.4787999999999,805.2017999999999,803.6569999999999,802.685,802.2761999999999,797.0992,794.5033999999999,792.0636,793.1094,794.0540000000001,795.2539999999999,796.1208,797.3098000000001,800.56,802.1736,802.6632000000001,798.9222,798.4390000000001,803.3998000000001,809.9824000000001,814.6361999999999,818.2246,819.9376,825.107,830.9464,835.2926,838.6192,839.9632,839.28,837.941,836.633,833.7828,830.8617999999999,825.7411999999999,820.5790000000001,818.6102000000001,809.3866,799.5204000000001,790.6892,782.7188000000001,774.8184,766.597,758.3656,749.7754,741.6565999999999,733.8622,725.089,715.0994000000001,706.36,697.6303999999999,688.4632,680.2440000000001,672.2544,663.828,653.9882,647.622,637.9506,627.76,613.784,600.0658,586.1788,572.9860000000001,559.2916,543.1655999999999,528.794,516.325,505.4796,491.81559999999996,473.7644,453.6458,434.89060000000006,416.78659999999996,400.37340000000006,380.4028,360.37519999999995,342.35,324.83079999999995,308.80760000000004,295.4054,282.4914,269.1152,256.159,243.993,234.82,225.78779999999998,214.4634,207.3168,201.188,195.3966,189.55700000000002,183.9546,179.26699999999997,175.00060000000002,171.0168,166.77539999999996,162.6062,159.3074,156.6906,154.4202,152.44559999999998,150.729,149.3042,147.8432,146.4682,144.987,143.4414,141.9036,140.45780000000002,139.2944,138.0892,136.65939999999998,135.1224,133.9642,133.0868,132.3016,131.523,130.8516,130.379,130.05800000000002,129.5544,129.1862,128.8246,128.4908,128.29579999999999,128.15,127.9602,127.8202,127.5514,127.2414,126.8502,126.46979999999999,126.2484,126.1458,125.635,125.075,124.3882,123.74859999999998,123.133,122.70039999999999,122.27099999999999,121.8504,121.4342,120.93180000000001,120.47319999999999,120.0124,119.5412,119.0716,118.4624,117.8232,117.09819999999999,116.4342,115.6726,114.9002,114.1064,113.42040000000001,112.6934,112.04799999999999,111.4084,110.837,110.2784,109.6926,108.9252,108.102,107.29780000000001,106.46260000000001,105.5724,104.85979999999999,103.9412,102.9416,102.03160000000001,100.995,99.96260000000001,99.2032,98.3308,97.6674,97.0044,96.5566,96.18639999999999,95.80940000000001,95.6584,95.5386,95.3664,95.2412,95.26039999999999,95.32639999999999,95.45639999999999,95.60340000000001,95.7084,95.72140000000002,95.6204,95.48620000000001,95.3832,95.3028,95.2928,95.3758,95.43199999999999,95.39920000000001,95.3752,95.546,95.8936,96.33319999999999,96.8282,97.3664,97.8996,98.5132,99.28400000000002,100.07620000000001,100.80879999999999,101.6432,102.25319999999999,102.89920000000001,103.60079999999999,104.3466,105.04799999999999,105.7102,106.4084,107.1308,108.037,108.9464,109.92519999999999,110.98,111.9866,112.6604,113.3398,113.8968,114.4358,114.8084,115.2526,115.613,115.8556,116.0056,116.1726,116.43599999999998,116.53399999999999,116.323,116.23719999999999,116.37400000000001,116.98900000000002,117.7318,118.382],\"type\":\"scatter\"}],                        {\"title\":{\"text\":\"Bitcoin Historical Price\"},\"xaxis\":{\"title\":{\"text\":\"Date\"},\"rangeslider\":{\"visible\":false},\"type\":\"category\"},\"template\":{\"data\":{\"histogram2dcontour\":[{\"type\":\"histogram2dcontour\",\"colorbar\":{\"outlinewidth\":0,\"ticks\":\"\"},\"colorscale\":[[0.0,\"#0d0887\"],[0.1111111111111111,\"#46039f\"],[0.2222222222222222,\"#7201a8\"],[0.3333333333333333,\"#9c179e\"],[0.4444444444444444,\"#bd3786\"],[0.5555555555555556,\"#d8576b\"],[0.6666666666666666,\"#ed7953\"],[0.7777777777777778,\"#fb9f3a\"],[0.8888888888888888,\"#fdca26\"],[1.0,\"#f0f921\"]]}],\"choropleth\":[{\"type\":\"choropleth\",\"colorbar\":{\"outlinewidth\":0,\"ticks\":\"\"}}],\"histogram2d\":[{\"type\":\"histogram2d\",\"colorbar\":{\"outlinewidth\":0,\"ticks\":\"\"},\"colorscale\":[[0.0,\"#0d0887\"],[0.1111111111111111,\"#46039f\"],[0.2222222222222222,\"#7201a8\"],[0.3333333333333333,\"#9c179e\"],[0.4444444444444444,\"#bd3786\"],[0.5555555555555556,\"#d8576b\"],[0.6666666666666666,\"#ed7953\"],[0.7777777777777778,\"#fb9f3a\"],[0.8888888888888888,\"#fdca26\"],[1.0,\"#f0f921\"]]}],\"heatmap\":[{\"type\":\"heatmap\",\"colorbar\":{\"outlinewidth\":0,\"ticks\":\"\"},\"colorscale\":[[0.0,\"#0d0887\"],[0.1111111111111111,\"#46039f\"],[0.2222222222222222,\"#7201a8\"],[0.3333333333333333,\"#9c179e\"],[0.4444444444444444,\"#bd3786\"],[0.5555555555555556,\"#d8576b\"],[0.6666666666666666,\"#ed7953\"],[0.7777777777777778,\"#fb9f3a\"],[0.8888888888888888,\"#fdca26\"],[1.0,\"#f0f921\"]]}],\"heatmapgl\":[{\"type\":\"heatmapgl\",\"colorbar\":{\"outlinewidth\":0,\"ticks\":\"\"},\"colorscale\":[[0.0,\"#0d0887\"],[0.1111111111111111,\"#46039f\"],[0.2222222222222222,\"#7201a8\"],[0.3333333333333333,\"#9c179e\"],[0.4444444444444444,\"#bd3786\"],[0.5555555555555556,\"#d8576b\"],[0.6666666666666666,\"#ed7953\"],[0.7777777777777778,\"#fb9f3a\"],[0.8888888888888888,\"#fdca26\"],[1.0,\"#f0f921\"]]}],\"contourcarpet\":[{\"type\":\"contourcarpet\",\"colorbar\":{\"outlinewidth\":0,\"ticks\":\"\"}}],\"contour\":[{\"type\":\"contour\",\"colorbar\":{\"outlinewidth\":0,\"ticks\":\"\"},\"colorscale\":[[0.0,\"#0d0887\"],[0.1111111111111111,\"#46039f\"],[0.2222222222222222,\"#7201a8\"],[0.3333333333333333,\"#9c179e\"],[0.4444444444444444,\"#bd3786\"],[0.5555555555555556,\"#d8576b\"],[0.6666666666666666,\"#ed7953\"],[0.7777777777777778,\"#fb9f3a\"],[0.8888888888888888,\"#fdca26\"],[1.0,\"#f0f921\"]]}],\"surface\":[{\"type\":\"surface\",\"colorbar\":{\"outlinewidth\":0,\"ticks\":\"\"},\"colorscale\":[[0.0,\"#0d0887\"],[0.1111111111111111,\"#46039f\"],[0.2222222222222222,\"#7201a8\"],[0.3333333333333333,\"#9c179e\"],[0.4444444444444444,\"#bd3786\"],[0.5555555555555556,\"#d8576b\"],[0.6666666666666666,\"#ed7953\"],[0.7777777777777778,\"#fb9f3a\"],[0.8888888888888888,\"#fdca26\"],[1.0,\"#f0f921\"]]}],\"mesh3d\":[{\"type\":\"mesh3d\",\"colorbar\":{\"outlinewidth\":0,\"ticks\":\"\"}}],\"scatter\":[{\"fillpattern\":{\"fillmode\":\"overlay\",\"size\":10,\"solidity\":0.2},\"type\":\"scatter\"}],\"parcoords\":[{\"type\":\"parcoords\",\"line\":{\"colorbar\":{\"outlinewidth\":0,\"ticks\":\"\"}}}],\"scatterpolargl\":[{\"type\":\"scatterpolargl\",\"marker\":{\"colorbar\":{\"outlinewidth\":0,\"ticks\":\"\"}}}],\"bar\":[{\"error_x\":{\"color\":\"#2a3f5f\"},\"error_y\":{\"color\":\"#2a3f5f\"},\"marker\":{\"line\":{\"color\":\"#E5ECF6\",\"width\":0.5},\"pattern\":{\"fillmode\":\"overlay\",\"size\":10,\"solidity\":0.2}},\"type\":\"bar\"}],\"scattergeo\":[{\"type\":\"scattergeo\",\"marker\":{\"colorbar\":{\"outlinewidth\":0,\"ticks\":\"\"}}}],\"scatterpolar\":[{\"type\":\"scatterpolar\",\"marker\":{\"colorbar\":{\"outlinewidth\":0,\"ticks\":\"\"}}}],\"histogram\":[{\"marker\":{\"pattern\":{\"fillmode\":\"overlay\",\"size\":10,\"solidity\":0.2}},\"type\":\"histogram\"}],\"scattergl\":[{\"type\":\"scattergl\",\"marker\":{\"colorbar\":{\"outlinewidth\":0,\"ticks\":\"\"}}}],\"scatter3d\":[{\"type\":\"scatter3d\",\"line\":{\"colorbar\":{\"outlinewidth\":0,\"ticks\":\"\"}},\"marker\":{\"colorbar\":{\"outlinewidth\":0,\"ticks\":\"\"}}}],\"scattermapbox\":[{\"type\":\"scattermapbox\",\"marker\":{\"colorbar\":{\"outlinewidth\":0,\"ticks\":\"\"}}}],\"scatterternary\":[{\"type\":\"scatterternary\",\"marker\":{\"colorbar\":{\"outlinewidth\":0,\"ticks\":\"\"}}}],\"scattercarpet\":[{\"type\":\"scattercarpet\",\"marker\":{\"colorbar\":{\"outlinewidth\":0,\"ticks\":\"\"}}}],\"carpet\":[{\"aaxis\":{\"endlinecolor\":\"#2a3f5f\",\"gridcolor\":\"white\",\"linecolor\":\"white\",\"minorgridcolor\":\"white\",\"startlinecolor\":\"#2a3f5f\"},\"baxis\":{\"endlinecolor\":\"#2a3f5f\",\"gridcolor\":\"white\",\"linecolor\":\"white\",\"minorgridcolor\":\"white\",\"startlinecolor\":\"#2a3f5f\"},\"type\":\"carpet\"}],\"table\":[{\"cells\":{\"fill\":{\"color\":\"#EBF0F8\"},\"line\":{\"color\":\"white\"}},\"header\":{\"fill\":{\"color\":\"#C8D4E3\"},\"line\":{\"color\":\"white\"}},\"type\":\"table\"}],\"barpolar\":[{\"marker\":{\"line\":{\"color\":\"#E5ECF6\",\"width\":0.5},\"pattern\":{\"fillmode\":\"overlay\",\"size\":10,\"solidity\":0.2}},\"type\":\"barpolar\"}],\"pie\":[{\"automargin\":true,\"type\":\"pie\"}]},\"layout\":{\"autotypenumbers\":\"strict\",\"colorway\":[\"#636efa\",\"#EF553B\",\"#00cc96\",\"#ab63fa\",\"#FFA15A\",\"#19d3f3\",\"#FF6692\",\"#B6E880\",\"#FF97FF\",\"#FECB52\"],\"font\":{\"color\":\"#2a3f5f\"},\"hovermode\":\"closest\",\"hoverlabel\":{\"align\":\"left\"},\"paper_bgcolor\":\"white\",\"plot_bgcolor\":\"#E5ECF6\",\"polar\":{\"bgcolor\":\"#E5ECF6\",\"angularaxis\":{\"gridcolor\":\"white\",\"linecolor\":\"white\",\"ticks\":\"\"},\"radialaxis\":{\"gridcolor\":\"white\",\"linecolor\":\"white\",\"ticks\":\"\"}},\"ternary\":{\"bgcolor\":\"#E5ECF6\",\"aaxis\":{\"gridcolor\":\"white\",\"linecolor\":\"white\",\"ticks\":\"\"},\"baxis\":{\"gridcolor\":\"white\",\"linecolor\":\"white\",\"ticks\":\"\"},\"caxis\":{\"gridcolor\":\"white\",\"linecolor\":\"white\",\"ticks\":\"\"}},\"coloraxis\":{\"colorbar\":{\"outlinewidth\":0,\"ticks\":\"\"}},\"colorscale\":{\"sequential\":[[0.0,\"#0d0887\"],[0.1111111111111111,\"#46039f\"],[0.2222222222222222,\"#7201a8\"],[0.3333333333333333,\"#9c179e\"],[0.4444444444444444,\"#bd3786\"],[0.5555555555555556,\"#d8576b\"],[0.6666666666666666,\"#ed7953\"],[0.7777777777777778,\"#fb9f3a\"],[0.8888888888888888,\"#fdca26\"],[1.0,\"#f0f921\"]],\"sequentialminus\":[[0.0,\"#0d0887\"],[0.1111111111111111,\"#46039f\"],[0.2222222222222222,\"#7201a8\"],[0.3333333333333333,\"#9c179e\"],[0.4444444444444444,\"#bd3786\"],[0.5555555555555556,\"#d8576b\"],[0.6666666666666666,\"#ed7953\"],[0.7777777777777778,\"#fb9f3a\"],[0.8888888888888888,\"#fdca26\"],[1.0,\"#f0f921\"]],\"diverging\":[[0,\"#8e0152\"],[0.1,\"#c51b7d\"],[0.2,\"#de77ae\"],[0.3,\"#f1b6da\"],[0.4,\"#fde0ef\"],[0.5,\"#f7f7f7\"],[0.6,\"#e6f5d0\"],[0.7,\"#b8e186\"],[0.8,\"#7fbc41\"],[0.9,\"#4d9221\"],[1,\"#276419\"]]},\"xaxis\":{\"gridcolor\":\"white\",\"linecolor\":\"white\",\"ticks\":\"\",\"title\":{\"standoff\":15},\"zerolinecolor\":\"white\",\"automargin\":true,\"zerolinewidth\":2},\"yaxis\":{\"gridcolor\":\"white\",\"linecolor\":\"white\",\"ticks\":\"\",\"title\":{\"standoff\":15},\"zerolinecolor\":\"white\",\"automargin\":true,\"zerolinewidth\":2},\"scene\":{\"xaxis\":{\"backgroundcolor\":\"#E5ECF6\",\"gridcolor\":\"white\",\"linecolor\":\"white\",\"showbackground\":true,\"ticks\":\"\",\"zerolinecolor\":\"white\",\"gridwidth\":2},\"yaxis\":{\"backgroundcolor\":\"#E5ECF6\",\"gridcolor\":\"white\",\"linecolor\":\"white\",\"showbackground\":true,\"ticks\":\"\",\"zerolinecolor\":\"white\",\"gridwidth\":2},\"zaxis\":{\"backgroundcolor\":\"#E5ECF6\",\"gridcolor\":\"white\",\"linecolor\":\"white\",\"showbackground\":true,\"ticks\":\"\",\"zerolinecolor\":\"white\",\"gridwidth\":2}},\"shapedefaults\":{\"line\":{\"color\":\"#2a3f5f\"}},\"annotationdefaults\":{\"arrowcolor\":\"#2a3f5f\",\"arrowhead\":0,\"arrowwidth\":1},\"geo\":{\"bgcolor\":\"white\",\"landcolor\":\"#E5ECF6\",\"subunitcolor\":\"white\",\"showland\":true,\"showlakes\":true,\"lakecolor\":\"white\"},\"title\":{\"x\":0.05},\"mapbox\":{\"style\":\"light\"}}},\"annotations\":[{\"arrowhead\":2,\"ax\":0,\"ay\":-40,\"showarrow\":true,\"text\":\"Interesting Event\",\"x\":\"2017-04-22T00:00:00\",\"xref\":\"x\",\"y\":1235.56,\"yref\":\"y\"}],\"yaxis\":{\"title\":{\"text\":\"Price\"}},\"hovermode\":\"x\"},                        {\"responsive\": true}                    ).then(function(){\n",
       "                            \n",
       "var gd = document.getElementById('f67ddf35-ea8e-4b91-bd5b-b3565809a4db');\n",
       "var x = new MutationObserver(function (mutations, observer) {{\n",
       "        var display = window.getComputedStyle(gd).display;\n",
       "        if (!display || display === 'none') {{\n",
       "            console.log([gd, 'removed!']);\n",
       "            Plotly.purge(gd);\n",
       "            observer.disconnect();\n",
       "        }}\n",
       "}});\n",
       "\n",
       "// Listen for the removal of the full notebook cells\n",
       "var notebookContainer = gd.closest('#notebook-container');\n",
       "if (notebookContainer) {{\n",
       "    x.observe(notebookContainer, {childList: true});\n",
       "}}\n",
       "\n",
       "// Listen for the clearing of the current output cell\n",
       "var outputEl = gd.closest('.output');\n",
       "if (outputEl) {{\n",
       "    x.observe(outputEl, {childList: true});\n",
       "}}\n",
       "\n",
       "                        })                };                });            </script>        </div>"
      ]
     },
     "metadata": {},
     "output_type": "display_data"
    }
   ],
   "source": [
    "import plotly.graph_objects as go\n",
    "import pandas as pd\n",
    "\n",
    "# Assuming you have already defined 'candle_data' and 'layout' variables\n",
    "\n",
    "# Customizing colors for the candlestick trace\n",
    "candle_data[0]['increasing']['fillcolor'] = 'green'\n",
    "candle_data[0]['decreasing']['fillcolor'] = 'red'\n",
    "\n",
    "# Adding a 50-day simple moving average as a technical indicator\n",
    "df['SMA_50'] = df['Close'].rolling(window=50).mean()\n",
    "sma_trace = go.Scatter(x=df['Date'], y=df['SMA_50'], mode='lines', line=dict(color='orange'), name='SMA (50-day)')\n",
    "\n",
    "fig = go.Figure(data=[candle_data[0], sma_trace], layout=layout)\n",
    "\n",
    "# Adding annotations to highlight important events\n",
    "fig.add_annotation(\n",
    "    x=df['Date'].iloc[100],\n",
    "    y=df['High'].iloc[100],\n",
    "    xref='x', yref='y',\n",
    "    text='Interesting Event',\n",
    "    showarrow=True,\n",
    "    arrowhead=2,\n",
    "    ax=0,\n",
    "    ay=-40\n",
    ")\n",
    "\n",
    "# Enabling interactive features\n",
    "fig.update_layout(\n",
    "    xaxis_rangeslider_visible=False,\n",
    "    xaxis=dict(type='category'),\n",
    "    yaxis_title='Price',\n",
    "    xaxis_title='Date',\n",
    "    hovermode='x'\n",
    ")\n",
    "\n",
    "fig.show()\n"
   ]
  },
  {
   "cell_type": "markdown",
   "id": "fa8b8e8f",
   "metadata": {},
   "source": [
    "### The purpose of the chart is to visualize the price movements of the financial asset over time and provide insights into potential trends and events. The interactivity allows users to zoom in and out, hover over data points for details, and explore the chart in a dynamic manner."
   ]
  },
  {
   "cell_type": "code",
   "execution_count": 30,
   "id": "ebd3e53d",
   "metadata": {},
   "outputs": [
    {
     "data": {
      "application/vnd.plotly.v1+json": {
       "config": {
        "plotlyServerURL": "https://plot.ly"
       },
       "data": [
        {
         "close": [
          134.21,
          144.54,
          139,
          116.99,
          105.21,
          97.75,
          112.5,
          115.91,
          112.3,
          111.5,
          113.57,
          112.67,
          117.2,
          115.24,
          115,
          117.98,
          111.5,
          114.22,
          118.76,
          123.02,
          123.5,
          121.99,
          122,
          122.88,
          123.89,
          126.7,
          133.2,
          131.98,
          133.48,
          129.75,
          129,
          132.3,
          128.8,
          129,
          129.3,
          122.29,
          122.22,
          121.42,
          121.65,
          118,
          111.5,
          108.3,
          100,
          106.35,
          108.9,
          108.15,
          104,
          99.98,
          99.99,
          99.51
         ],
         "decreasing": {
          "fillcolor": "red"
         },
         "high": [
          135.98,
          147.49,
          146.93,
          139.89,
          125.6,
          108.13,
          115,
          118.8,
          124.66,
          113.44,
          115.78,
          113.46,
          122,
          118.68,
          117.45,
          118.7,
          119.8,
          115.81,
          118.76,
          125.3,
          125.25,
          124.5,
          123.62,
          123,
          124,
          126.93,
          133.85,
          133.22,
          136,
          135.47,
          130.58,
          132.59,
          132.25,
          129.9,
          129.78,
          129.4,
          122.5,
          123.84,
          123.47,
          123.1,
          119,
          111.42,
          108.99,
          110.1,
          109.6,
          111.79,
          110.3,
          104.7,
          103.7,
          101.6
         ],
         "increasing": {
          "fillcolor": "green"
         },
         "low": [
          132.1,
          134,
          134.05,
          107.72,
          92.28,
          79.1,
          92.5,
          107.14,
          106.64,
          97.7,
          109.6,
          109.26,
          111.55,
          113.01,
          113.44,
          114.5,
          110.25,
          103.5,
          112.2,
          116.57,
          122.3,
          119.57,
          120.12,
          121.21,
          122,
          123.1,
          125.72,
          128.9,
          130.62,
          124.7,
          125.6,
          127.66,
          127,
          126.4,
          127.2,
          115.05,
          116,
          119.1,
          119.9,
          117.25,
          106.42,
          107.3,
          88.5,
          95,
          104,
          106.73,
          100.53,
          98,
          98,
          98.95
         ],
         "open": [
          135.3,
          134.44,
          144,
          139,
          116.38,
          106.25,
          98.1,
          112.9,
          115.98,
          112.25,
          109.6,
          113.2,
          112.8,
          117.7,
          115.64,
          114.82,
          117.98,
          111.4,
          114.22,
          118.21,
          123.5,
          123.21,
          122.5,
          122.02,
          122.89,
          123.8,
          126.3,
          133.1,
          131.99,
          133.5,
          129.77,
          129,
          132.25,
          128.8,
          128.81,
          129.3,
          122.5,
          120.74,
          121.4,
          121.9,
          118.97,
          111,
          107.89,
          100.44,
          106.35,
          109,
          108.78,
          103.95,
          100,
          99.8
         ],
         "type": "candlestick",
         "x": [
          "2013-04-28T00:00:00",
          "2013-04-29T00:00:00",
          "2013-04-30T00:00:00",
          "2013-05-01T00:00:00",
          "2013-05-02T00:00:00",
          "2013-05-03T00:00:00",
          "2013-05-04T00:00:00",
          "2013-05-05T00:00:00",
          "2013-05-06T00:00:00",
          "2013-05-07T00:00:00",
          "2013-05-08T00:00:00",
          "2013-05-09T00:00:00",
          "2013-05-10T00:00:00",
          "2013-05-11T00:00:00",
          "2013-05-12T00:00:00",
          "2013-05-13T00:00:00",
          "2013-05-14T00:00:00",
          "2013-05-15T00:00:00",
          "2013-05-16T00:00:00",
          "2013-05-17T00:00:00",
          "2013-05-18T00:00:00",
          "2013-05-19T00:00:00",
          "2013-05-20T00:00:00",
          "2013-05-21T00:00:00",
          "2013-05-22T00:00:00",
          "2013-05-23T00:00:00",
          "2013-05-24T00:00:00",
          "2013-05-25T00:00:00",
          "2013-05-26T00:00:00",
          "2013-05-27T00:00:00",
          "2013-05-28T00:00:00",
          "2013-05-29T00:00:00",
          "2013-05-30T00:00:00",
          "2013-05-31T00:00:00",
          "2013-06-01T00:00:00",
          "2013-06-02T00:00:00",
          "2013-06-03T00:00:00",
          "2013-06-04T00:00:00",
          "2013-06-05T00:00:00",
          "2013-06-06T00:00:00",
          "2013-06-07T00:00:00",
          "2013-06-08T00:00:00",
          "2013-06-09T00:00:00",
          "2013-06-10T00:00:00",
          "2013-06-11T00:00:00",
          "2013-06-12T00:00:00",
          "2013-06-13T00:00:00",
          "2013-06-14T00:00:00",
          "2013-06-15T00:00:00",
          "2013-06-16T00:00:00"
         ]
        }
       ],
       "layout": {
        "template": {
         "data": {
          "bar": [
           {
            "error_x": {
             "color": "#2a3f5f"
            },
            "error_y": {
             "color": "#2a3f5f"
            },
            "marker": {
             "line": {
              "color": "#E5ECF6",
              "width": 0.5
             },
             "pattern": {
              "fillmode": "overlay",
              "size": 10,
              "solidity": 0.2
             }
            },
            "type": "bar"
           }
          ],
          "barpolar": [
           {
            "marker": {
             "line": {
              "color": "#E5ECF6",
              "width": 0.5
             },
             "pattern": {
              "fillmode": "overlay",
              "size": 10,
              "solidity": 0.2
             }
            },
            "type": "barpolar"
           }
          ],
          "carpet": [
           {
            "aaxis": {
             "endlinecolor": "#2a3f5f",
             "gridcolor": "white",
             "linecolor": "white",
             "minorgridcolor": "white",
             "startlinecolor": "#2a3f5f"
            },
            "baxis": {
             "endlinecolor": "#2a3f5f",
             "gridcolor": "white",
             "linecolor": "white",
             "minorgridcolor": "white",
             "startlinecolor": "#2a3f5f"
            },
            "type": "carpet"
           }
          ],
          "choropleth": [
           {
            "colorbar": {
             "outlinewidth": 0,
             "ticks": ""
            },
            "type": "choropleth"
           }
          ],
          "contour": [
           {
            "colorbar": {
             "outlinewidth": 0,
             "ticks": ""
            },
            "colorscale": [
             [
              0,
              "#0d0887"
             ],
             [
              0.1111111111111111,
              "#46039f"
             ],
             [
              0.2222222222222222,
              "#7201a8"
             ],
             [
              0.3333333333333333,
              "#9c179e"
             ],
             [
              0.4444444444444444,
              "#bd3786"
             ],
             [
              0.5555555555555556,
              "#d8576b"
             ],
             [
              0.6666666666666666,
              "#ed7953"
             ],
             [
              0.7777777777777778,
              "#fb9f3a"
             ],
             [
              0.8888888888888888,
              "#fdca26"
             ],
             [
              1,
              "#f0f921"
             ]
            ],
            "type": "contour"
           }
          ],
          "contourcarpet": [
           {
            "colorbar": {
             "outlinewidth": 0,
             "ticks": ""
            },
            "type": "contourcarpet"
           }
          ],
          "heatmap": [
           {
            "colorbar": {
             "outlinewidth": 0,
             "ticks": ""
            },
            "colorscale": [
             [
              0,
              "#0d0887"
             ],
             [
              0.1111111111111111,
              "#46039f"
             ],
             [
              0.2222222222222222,
              "#7201a8"
             ],
             [
              0.3333333333333333,
              "#9c179e"
             ],
             [
              0.4444444444444444,
              "#bd3786"
             ],
             [
              0.5555555555555556,
              "#d8576b"
             ],
             [
              0.6666666666666666,
              "#ed7953"
             ],
             [
              0.7777777777777778,
              "#fb9f3a"
             ],
             [
              0.8888888888888888,
              "#fdca26"
             ],
             [
              1,
              "#f0f921"
             ]
            ],
            "type": "heatmap"
           }
          ],
          "heatmapgl": [
           {
            "colorbar": {
             "outlinewidth": 0,
             "ticks": ""
            },
            "colorscale": [
             [
              0,
              "#0d0887"
             ],
             [
              0.1111111111111111,
              "#46039f"
             ],
             [
              0.2222222222222222,
              "#7201a8"
             ],
             [
              0.3333333333333333,
              "#9c179e"
             ],
             [
              0.4444444444444444,
              "#bd3786"
             ],
             [
              0.5555555555555556,
              "#d8576b"
             ],
             [
              0.6666666666666666,
              "#ed7953"
             ],
             [
              0.7777777777777778,
              "#fb9f3a"
             ],
             [
              0.8888888888888888,
              "#fdca26"
             ],
             [
              1,
              "#f0f921"
             ]
            ],
            "type": "heatmapgl"
           }
          ],
          "histogram": [
           {
            "marker": {
             "pattern": {
              "fillmode": "overlay",
              "size": 10,
              "solidity": 0.2
             }
            },
            "type": "histogram"
           }
          ],
          "histogram2d": [
           {
            "colorbar": {
             "outlinewidth": 0,
             "ticks": ""
            },
            "colorscale": [
             [
              0,
              "#0d0887"
             ],
             [
              0.1111111111111111,
              "#46039f"
             ],
             [
              0.2222222222222222,
              "#7201a8"
             ],
             [
              0.3333333333333333,
              "#9c179e"
             ],
             [
              0.4444444444444444,
              "#bd3786"
             ],
             [
              0.5555555555555556,
              "#d8576b"
             ],
             [
              0.6666666666666666,
              "#ed7953"
             ],
             [
              0.7777777777777778,
              "#fb9f3a"
             ],
             [
              0.8888888888888888,
              "#fdca26"
             ],
             [
              1,
              "#f0f921"
             ]
            ],
            "type": "histogram2d"
           }
          ],
          "histogram2dcontour": [
           {
            "colorbar": {
             "outlinewidth": 0,
             "ticks": ""
            },
            "colorscale": [
             [
              0,
              "#0d0887"
             ],
             [
              0.1111111111111111,
              "#46039f"
             ],
             [
              0.2222222222222222,
              "#7201a8"
             ],
             [
              0.3333333333333333,
              "#9c179e"
             ],
             [
              0.4444444444444444,
              "#bd3786"
             ],
             [
              0.5555555555555556,
              "#d8576b"
             ],
             [
              0.6666666666666666,
              "#ed7953"
             ],
             [
              0.7777777777777778,
              "#fb9f3a"
             ],
             [
              0.8888888888888888,
              "#fdca26"
             ],
             [
              1,
              "#f0f921"
             ]
            ],
            "type": "histogram2dcontour"
           }
          ],
          "mesh3d": [
           {
            "colorbar": {
             "outlinewidth": 0,
             "ticks": ""
            },
            "type": "mesh3d"
           }
          ],
          "parcoords": [
           {
            "line": {
             "colorbar": {
              "outlinewidth": 0,
              "ticks": ""
             }
            },
            "type": "parcoords"
           }
          ],
          "pie": [
           {
            "automargin": true,
            "type": "pie"
           }
          ],
          "scatter": [
           {
            "fillpattern": {
             "fillmode": "overlay",
             "size": 10,
             "solidity": 0.2
            },
            "type": "scatter"
           }
          ],
          "scatter3d": [
           {
            "line": {
             "colorbar": {
              "outlinewidth": 0,
              "ticks": ""
             }
            },
            "marker": {
             "colorbar": {
              "outlinewidth": 0,
              "ticks": ""
             }
            },
            "type": "scatter3d"
           }
          ],
          "scattercarpet": [
           {
            "marker": {
             "colorbar": {
              "outlinewidth": 0,
              "ticks": ""
             }
            },
            "type": "scattercarpet"
           }
          ],
          "scattergeo": [
           {
            "marker": {
             "colorbar": {
              "outlinewidth": 0,
              "ticks": ""
             }
            },
            "type": "scattergeo"
           }
          ],
          "scattergl": [
           {
            "marker": {
             "colorbar": {
              "outlinewidth": 0,
              "ticks": ""
             }
            },
            "type": "scattergl"
           }
          ],
          "scattermapbox": [
           {
            "marker": {
             "colorbar": {
              "outlinewidth": 0,
              "ticks": ""
             }
            },
            "type": "scattermapbox"
           }
          ],
          "scatterpolar": [
           {
            "marker": {
             "colorbar": {
              "outlinewidth": 0,
              "ticks": ""
             }
            },
            "type": "scatterpolar"
           }
          ],
          "scatterpolargl": [
           {
            "marker": {
             "colorbar": {
              "outlinewidth": 0,
              "ticks": ""
             }
            },
            "type": "scatterpolargl"
           }
          ],
          "scatterternary": [
           {
            "marker": {
             "colorbar": {
              "outlinewidth": 0,
              "ticks": ""
             }
            },
            "type": "scatterternary"
           }
          ],
          "surface": [
           {
            "colorbar": {
             "outlinewidth": 0,
             "ticks": ""
            },
            "colorscale": [
             [
              0,
              "#0d0887"
             ],
             [
              0.1111111111111111,
              "#46039f"
             ],
             [
              0.2222222222222222,
              "#7201a8"
             ],
             [
              0.3333333333333333,
              "#9c179e"
             ],
             [
              0.4444444444444444,
              "#bd3786"
             ],
             [
              0.5555555555555556,
              "#d8576b"
             ],
             [
              0.6666666666666666,
              "#ed7953"
             ],
             [
              0.7777777777777778,
              "#fb9f3a"
             ],
             [
              0.8888888888888888,
              "#fdca26"
             ],
             [
              1,
              "#f0f921"
             ]
            ],
            "type": "surface"
           }
          ],
          "table": [
           {
            "cells": {
             "fill": {
              "color": "#EBF0F8"
             },
             "line": {
              "color": "white"
             }
            },
            "header": {
             "fill": {
              "color": "#C8D4E3"
             },
             "line": {
              "color": "white"
             }
            },
            "type": "table"
           }
          ]
         },
         "layout": {
          "annotationdefaults": {
           "arrowcolor": "#2a3f5f",
           "arrowhead": 0,
           "arrowwidth": 1
          },
          "autotypenumbers": "strict",
          "coloraxis": {
           "colorbar": {
            "outlinewidth": 0,
            "ticks": ""
           }
          },
          "colorscale": {
           "diverging": [
            [
             0,
             "#8e0152"
            ],
            [
             0.1,
             "#c51b7d"
            ],
            [
             0.2,
             "#de77ae"
            ],
            [
             0.3,
             "#f1b6da"
            ],
            [
             0.4,
             "#fde0ef"
            ],
            [
             0.5,
             "#f7f7f7"
            ],
            [
             0.6,
             "#e6f5d0"
            ],
            [
             0.7,
             "#b8e186"
            ],
            [
             0.8,
             "#7fbc41"
            ],
            [
             0.9,
             "#4d9221"
            ],
            [
             1,
             "#276419"
            ]
           ],
           "sequential": [
            [
             0,
             "#0d0887"
            ],
            [
             0.1111111111111111,
             "#46039f"
            ],
            [
             0.2222222222222222,
             "#7201a8"
            ],
            [
             0.3333333333333333,
             "#9c179e"
            ],
            [
             0.4444444444444444,
             "#bd3786"
            ],
            [
             0.5555555555555556,
             "#d8576b"
            ],
            [
             0.6666666666666666,
             "#ed7953"
            ],
            [
             0.7777777777777778,
             "#fb9f3a"
            ],
            [
             0.8888888888888888,
             "#fdca26"
            ],
            [
             1,
             "#f0f921"
            ]
           ],
           "sequentialminus": [
            [
             0,
             "#0d0887"
            ],
            [
             0.1111111111111111,
             "#46039f"
            ],
            [
             0.2222222222222222,
             "#7201a8"
            ],
            [
             0.3333333333333333,
             "#9c179e"
            ],
            [
             0.4444444444444444,
             "#bd3786"
            ],
            [
             0.5555555555555556,
             "#d8576b"
            ],
            [
             0.6666666666666666,
             "#ed7953"
            ],
            [
             0.7777777777777778,
             "#fb9f3a"
            ],
            [
             0.8888888888888888,
             "#fdca26"
            ],
            [
             1,
             "#f0f921"
            ]
           ]
          },
          "colorway": [
           "#636efa",
           "#EF553B",
           "#00cc96",
           "#ab63fa",
           "#FFA15A",
           "#19d3f3",
           "#FF6692",
           "#B6E880",
           "#FF97FF",
           "#FECB52"
          ],
          "font": {
           "color": "#2a3f5f"
          },
          "geo": {
           "bgcolor": "white",
           "lakecolor": "white",
           "landcolor": "#E5ECF6",
           "showlakes": true,
           "showland": true,
           "subunitcolor": "white"
          },
          "hoverlabel": {
           "align": "left"
          },
          "hovermode": "closest",
          "mapbox": {
           "style": "light"
          },
          "paper_bgcolor": "white",
          "plot_bgcolor": "#E5ECF6",
          "polar": {
           "angularaxis": {
            "gridcolor": "white",
            "linecolor": "white",
            "ticks": ""
           },
           "bgcolor": "#E5ECF6",
           "radialaxis": {
            "gridcolor": "white",
            "linecolor": "white",
            "ticks": ""
           }
          },
          "scene": {
           "xaxis": {
            "backgroundcolor": "#E5ECF6",
            "gridcolor": "white",
            "gridwidth": 2,
            "linecolor": "white",
            "showbackground": true,
            "ticks": "",
            "zerolinecolor": "white"
           },
           "yaxis": {
            "backgroundcolor": "#E5ECF6",
            "gridcolor": "white",
            "gridwidth": 2,
            "linecolor": "white",
            "showbackground": true,
            "ticks": "",
            "zerolinecolor": "white"
           },
           "zaxis": {
            "backgroundcolor": "#E5ECF6",
            "gridcolor": "white",
            "gridwidth": 2,
            "linecolor": "white",
            "showbackground": true,
            "ticks": "",
            "zerolinecolor": "white"
           }
          },
          "shapedefaults": {
           "line": {
            "color": "#2a3f5f"
           }
          },
          "ternary": {
           "aaxis": {
            "gridcolor": "white",
            "linecolor": "white",
            "ticks": ""
           },
           "baxis": {
            "gridcolor": "white",
            "linecolor": "white",
            "ticks": ""
           },
           "bgcolor": "#E5ECF6",
           "caxis": {
            "gridcolor": "white",
            "linecolor": "white",
            "ticks": ""
           }
          },
          "title": {
           "x": 0.05
          },
          "xaxis": {
           "automargin": true,
           "gridcolor": "white",
           "linecolor": "white",
           "ticks": "",
           "title": {
            "standoff": 15
           },
           "zerolinecolor": "white",
           "zerolinewidth": 2
          },
          "yaxis": {
           "automargin": true,
           "gridcolor": "white",
           "linecolor": "white",
           "ticks": "",
           "title": {
            "standoff": 15
           },
           "zerolinecolor": "white",
           "zerolinewidth": 2
          }
         }
        },
        "title": {
         "text": "Bitcoin Historical Price"
        },
        "xaxis": {
         "rangeslider": {
          "visible": false
         },
         "title": {
          "text": "Date"
         }
        }
       }
      },
      "text/html": [
       "<div>                            <div id=\"5543b7a8-0dba-4fe5-88e5-a53daa79003b\" class=\"plotly-graph-div\" style=\"height:525px; width:100%;\"></div>            <script type=\"text/javascript\">                require([\"plotly\"], function(Plotly) {                    window.PLOTLYENV=window.PLOTLYENV || {};                                    if (document.getElementById(\"5543b7a8-0dba-4fe5-88e5-a53daa79003b\")) {                    Plotly.newPlot(                        \"5543b7a8-0dba-4fe5-88e5-a53daa79003b\",                        [{\"close\":[134.21,144.54,139.0,116.99,105.21,97.75,112.5,115.91,112.3,111.5,113.57,112.67,117.2,115.24,115.0,117.98,111.5,114.22,118.76,123.02,123.5,121.99,122.0,122.88,123.89,126.7,133.2,131.98,133.48,129.75,129.0,132.3,128.8,129.0,129.3,122.29,122.22,121.42,121.65,118.0,111.5,108.3,100.0,106.35,108.9,108.15,104.0,99.98,99.99,99.51],\"decreasing\":{\"fillcolor\":\"red\"},\"high\":[135.98,147.49,146.93,139.89,125.6,108.13,115.0,118.8,124.66,113.44,115.78,113.46,122.0,118.68,117.45,118.7,119.8,115.81,118.76,125.3,125.25,124.5,123.62,123.0,124.0,126.93,133.85,133.22,136.0,135.47,130.58,132.59,132.25,129.9,129.78,129.4,122.5,123.84,123.47,123.1,119.0,111.42,108.99,110.1,109.6,111.79,110.3,104.7,103.7,101.6],\"increasing\":{\"fillcolor\":\"green\"},\"low\":[132.1,134.0,134.05,107.72,92.28,79.1,92.5,107.14,106.64,97.7,109.6,109.26,111.55,113.01,113.44,114.5,110.25,103.5,112.2,116.57,122.3,119.57,120.12,121.21,122.0,123.1,125.72,128.9,130.62,124.7,125.6,127.66,127.0,126.4,127.2,115.05,116.0,119.1,119.9,117.25,106.42,107.3,88.5,95.0,104.0,106.73,100.53,98.0,98.0,98.95],\"open\":[135.3,134.44,144.0,139.0,116.38,106.25,98.1,112.9,115.98,112.25,109.6,113.2,112.8,117.7,115.64,114.82,117.98,111.4,114.22,118.21,123.5,123.21,122.5,122.02,122.89,123.8,126.3,133.1,131.99,133.5,129.77,129.0,132.25,128.8,128.81,129.3,122.5,120.74,121.4,121.9,118.97,111.0,107.89,100.44,106.35,109.0,108.78,103.95,100.0,99.8],\"x\":[\"2013-04-28T00:00:00\",\"2013-04-29T00:00:00\",\"2013-04-30T00:00:00\",\"2013-05-01T00:00:00\",\"2013-05-02T00:00:00\",\"2013-05-03T00:00:00\",\"2013-05-04T00:00:00\",\"2013-05-05T00:00:00\",\"2013-05-06T00:00:00\",\"2013-05-07T00:00:00\",\"2013-05-08T00:00:00\",\"2013-05-09T00:00:00\",\"2013-05-10T00:00:00\",\"2013-05-11T00:00:00\",\"2013-05-12T00:00:00\",\"2013-05-13T00:00:00\",\"2013-05-14T00:00:00\",\"2013-05-15T00:00:00\",\"2013-05-16T00:00:00\",\"2013-05-17T00:00:00\",\"2013-05-18T00:00:00\",\"2013-05-19T00:00:00\",\"2013-05-20T00:00:00\",\"2013-05-21T00:00:00\",\"2013-05-22T00:00:00\",\"2013-05-23T00:00:00\",\"2013-05-24T00:00:00\",\"2013-05-25T00:00:00\",\"2013-05-26T00:00:00\",\"2013-05-27T00:00:00\",\"2013-05-28T00:00:00\",\"2013-05-29T00:00:00\",\"2013-05-30T00:00:00\",\"2013-05-31T00:00:00\",\"2013-06-01T00:00:00\",\"2013-06-02T00:00:00\",\"2013-06-03T00:00:00\",\"2013-06-04T00:00:00\",\"2013-06-05T00:00:00\",\"2013-06-06T00:00:00\",\"2013-06-07T00:00:00\",\"2013-06-08T00:00:00\",\"2013-06-09T00:00:00\",\"2013-06-10T00:00:00\",\"2013-06-11T00:00:00\",\"2013-06-12T00:00:00\",\"2013-06-13T00:00:00\",\"2013-06-14T00:00:00\",\"2013-06-15T00:00:00\",\"2013-06-16T00:00:00\"],\"type\":\"candlestick\"}],                        {\"title\":{\"text\":\"Bitcoin Historical Price\"},\"xaxis\":{\"title\":{\"text\":\"Date\"},\"rangeslider\":{\"visible\":false}},\"template\":{\"data\":{\"histogram2dcontour\":[{\"type\":\"histogram2dcontour\",\"colorbar\":{\"outlinewidth\":0,\"ticks\":\"\"},\"colorscale\":[[0.0,\"#0d0887\"],[0.1111111111111111,\"#46039f\"],[0.2222222222222222,\"#7201a8\"],[0.3333333333333333,\"#9c179e\"],[0.4444444444444444,\"#bd3786\"],[0.5555555555555556,\"#d8576b\"],[0.6666666666666666,\"#ed7953\"],[0.7777777777777778,\"#fb9f3a\"],[0.8888888888888888,\"#fdca26\"],[1.0,\"#f0f921\"]]}],\"choropleth\":[{\"type\":\"choropleth\",\"colorbar\":{\"outlinewidth\":0,\"ticks\":\"\"}}],\"histogram2d\":[{\"type\":\"histogram2d\",\"colorbar\":{\"outlinewidth\":0,\"ticks\":\"\"},\"colorscale\":[[0.0,\"#0d0887\"],[0.1111111111111111,\"#46039f\"],[0.2222222222222222,\"#7201a8\"],[0.3333333333333333,\"#9c179e\"],[0.4444444444444444,\"#bd3786\"],[0.5555555555555556,\"#d8576b\"],[0.6666666666666666,\"#ed7953\"],[0.7777777777777778,\"#fb9f3a\"],[0.8888888888888888,\"#fdca26\"],[1.0,\"#f0f921\"]]}],\"heatmap\":[{\"type\":\"heatmap\",\"colorbar\":{\"outlinewidth\":0,\"ticks\":\"\"},\"colorscale\":[[0.0,\"#0d0887\"],[0.1111111111111111,\"#46039f\"],[0.2222222222222222,\"#7201a8\"],[0.3333333333333333,\"#9c179e\"],[0.4444444444444444,\"#bd3786\"],[0.5555555555555556,\"#d8576b\"],[0.6666666666666666,\"#ed7953\"],[0.7777777777777778,\"#fb9f3a\"],[0.8888888888888888,\"#fdca26\"],[1.0,\"#f0f921\"]]}],\"heatmapgl\":[{\"type\":\"heatmapgl\",\"colorbar\":{\"outlinewidth\":0,\"ticks\":\"\"},\"colorscale\":[[0.0,\"#0d0887\"],[0.1111111111111111,\"#46039f\"],[0.2222222222222222,\"#7201a8\"],[0.3333333333333333,\"#9c179e\"],[0.4444444444444444,\"#bd3786\"],[0.5555555555555556,\"#d8576b\"],[0.6666666666666666,\"#ed7953\"],[0.7777777777777778,\"#fb9f3a\"],[0.8888888888888888,\"#fdca26\"],[1.0,\"#f0f921\"]]}],\"contourcarpet\":[{\"type\":\"contourcarpet\",\"colorbar\":{\"outlinewidth\":0,\"ticks\":\"\"}}],\"contour\":[{\"type\":\"contour\",\"colorbar\":{\"outlinewidth\":0,\"ticks\":\"\"},\"colorscale\":[[0.0,\"#0d0887\"],[0.1111111111111111,\"#46039f\"],[0.2222222222222222,\"#7201a8\"],[0.3333333333333333,\"#9c179e\"],[0.4444444444444444,\"#bd3786\"],[0.5555555555555556,\"#d8576b\"],[0.6666666666666666,\"#ed7953\"],[0.7777777777777778,\"#fb9f3a\"],[0.8888888888888888,\"#fdca26\"],[1.0,\"#f0f921\"]]}],\"surface\":[{\"type\":\"surface\",\"colorbar\":{\"outlinewidth\":0,\"ticks\":\"\"},\"colorscale\":[[0.0,\"#0d0887\"],[0.1111111111111111,\"#46039f\"],[0.2222222222222222,\"#7201a8\"],[0.3333333333333333,\"#9c179e\"],[0.4444444444444444,\"#bd3786\"],[0.5555555555555556,\"#d8576b\"],[0.6666666666666666,\"#ed7953\"],[0.7777777777777778,\"#fb9f3a\"],[0.8888888888888888,\"#fdca26\"],[1.0,\"#f0f921\"]]}],\"mesh3d\":[{\"type\":\"mesh3d\",\"colorbar\":{\"outlinewidth\":0,\"ticks\":\"\"}}],\"scatter\":[{\"fillpattern\":{\"fillmode\":\"overlay\",\"size\":10,\"solidity\":0.2},\"type\":\"scatter\"}],\"parcoords\":[{\"type\":\"parcoords\",\"line\":{\"colorbar\":{\"outlinewidth\":0,\"ticks\":\"\"}}}],\"scatterpolargl\":[{\"type\":\"scatterpolargl\",\"marker\":{\"colorbar\":{\"outlinewidth\":0,\"ticks\":\"\"}}}],\"bar\":[{\"error_x\":{\"color\":\"#2a3f5f\"},\"error_y\":{\"color\":\"#2a3f5f\"},\"marker\":{\"line\":{\"color\":\"#E5ECF6\",\"width\":0.5},\"pattern\":{\"fillmode\":\"overlay\",\"size\":10,\"solidity\":0.2}},\"type\":\"bar\"}],\"scattergeo\":[{\"type\":\"scattergeo\",\"marker\":{\"colorbar\":{\"outlinewidth\":0,\"ticks\":\"\"}}}],\"scatterpolar\":[{\"type\":\"scatterpolar\",\"marker\":{\"colorbar\":{\"outlinewidth\":0,\"ticks\":\"\"}}}],\"histogram\":[{\"marker\":{\"pattern\":{\"fillmode\":\"overlay\",\"size\":10,\"solidity\":0.2}},\"type\":\"histogram\"}],\"scattergl\":[{\"type\":\"scattergl\",\"marker\":{\"colorbar\":{\"outlinewidth\":0,\"ticks\":\"\"}}}],\"scatter3d\":[{\"type\":\"scatter3d\",\"line\":{\"colorbar\":{\"outlinewidth\":0,\"ticks\":\"\"}},\"marker\":{\"colorbar\":{\"outlinewidth\":0,\"ticks\":\"\"}}}],\"scattermapbox\":[{\"type\":\"scattermapbox\",\"marker\":{\"colorbar\":{\"outlinewidth\":0,\"ticks\":\"\"}}}],\"scatterternary\":[{\"type\":\"scatterternary\",\"marker\":{\"colorbar\":{\"outlinewidth\":0,\"ticks\":\"\"}}}],\"scattercarpet\":[{\"type\":\"scattercarpet\",\"marker\":{\"colorbar\":{\"outlinewidth\":0,\"ticks\":\"\"}}}],\"carpet\":[{\"aaxis\":{\"endlinecolor\":\"#2a3f5f\",\"gridcolor\":\"white\",\"linecolor\":\"white\",\"minorgridcolor\":\"white\",\"startlinecolor\":\"#2a3f5f\"},\"baxis\":{\"endlinecolor\":\"#2a3f5f\",\"gridcolor\":\"white\",\"linecolor\":\"white\",\"minorgridcolor\":\"white\",\"startlinecolor\":\"#2a3f5f\"},\"type\":\"carpet\"}],\"table\":[{\"cells\":{\"fill\":{\"color\":\"#EBF0F8\"},\"line\":{\"color\":\"white\"}},\"header\":{\"fill\":{\"color\":\"#C8D4E3\"},\"line\":{\"color\":\"white\"}},\"type\":\"table\"}],\"barpolar\":[{\"marker\":{\"line\":{\"color\":\"#E5ECF6\",\"width\":0.5},\"pattern\":{\"fillmode\":\"overlay\",\"size\":10,\"solidity\":0.2}},\"type\":\"barpolar\"}],\"pie\":[{\"automargin\":true,\"type\":\"pie\"}]},\"layout\":{\"autotypenumbers\":\"strict\",\"colorway\":[\"#636efa\",\"#EF553B\",\"#00cc96\",\"#ab63fa\",\"#FFA15A\",\"#19d3f3\",\"#FF6692\",\"#B6E880\",\"#FF97FF\",\"#FECB52\"],\"font\":{\"color\":\"#2a3f5f\"},\"hovermode\":\"closest\",\"hoverlabel\":{\"align\":\"left\"},\"paper_bgcolor\":\"white\",\"plot_bgcolor\":\"#E5ECF6\",\"polar\":{\"bgcolor\":\"#E5ECF6\",\"angularaxis\":{\"gridcolor\":\"white\",\"linecolor\":\"white\",\"ticks\":\"\"},\"radialaxis\":{\"gridcolor\":\"white\",\"linecolor\":\"white\",\"ticks\":\"\"}},\"ternary\":{\"bgcolor\":\"#E5ECF6\",\"aaxis\":{\"gridcolor\":\"white\",\"linecolor\":\"white\",\"ticks\":\"\"},\"baxis\":{\"gridcolor\":\"white\",\"linecolor\":\"white\",\"ticks\":\"\"},\"caxis\":{\"gridcolor\":\"white\",\"linecolor\":\"white\",\"ticks\":\"\"}},\"coloraxis\":{\"colorbar\":{\"outlinewidth\":0,\"ticks\":\"\"}},\"colorscale\":{\"sequential\":[[0.0,\"#0d0887\"],[0.1111111111111111,\"#46039f\"],[0.2222222222222222,\"#7201a8\"],[0.3333333333333333,\"#9c179e\"],[0.4444444444444444,\"#bd3786\"],[0.5555555555555556,\"#d8576b\"],[0.6666666666666666,\"#ed7953\"],[0.7777777777777778,\"#fb9f3a\"],[0.8888888888888888,\"#fdca26\"],[1.0,\"#f0f921\"]],\"sequentialminus\":[[0.0,\"#0d0887\"],[0.1111111111111111,\"#46039f\"],[0.2222222222222222,\"#7201a8\"],[0.3333333333333333,\"#9c179e\"],[0.4444444444444444,\"#bd3786\"],[0.5555555555555556,\"#d8576b\"],[0.6666666666666666,\"#ed7953\"],[0.7777777777777778,\"#fb9f3a\"],[0.8888888888888888,\"#fdca26\"],[1.0,\"#f0f921\"]],\"diverging\":[[0,\"#8e0152\"],[0.1,\"#c51b7d\"],[0.2,\"#de77ae\"],[0.3,\"#f1b6da\"],[0.4,\"#fde0ef\"],[0.5,\"#f7f7f7\"],[0.6,\"#e6f5d0\"],[0.7,\"#b8e186\"],[0.8,\"#7fbc41\"],[0.9,\"#4d9221\"],[1,\"#276419\"]]},\"xaxis\":{\"gridcolor\":\"white\",\"linecolor\":\"white\",\"ticks\":\"\",\"title\":{\"standoff\":15},\"zerolinecolor\":\"white\",\"automargin\":true,\"zerolinewidth\":2},\"yaxis\":{\"gridcolor\":\"white\",\"linecolor\":\"white\",\"ticks\":\"\",\"title\":{\"standoff\":15},\"zerolinecolor\":\"white\",\"automargin\":true,\"zerolinewidth\":2},\"scene\":{\"xaxis\":{\"backgroundcolor\":\"#E5ECF6\",\"gridcolor\":\"white\",\"linecolor\":\"white\",\"showbackground\":true,\"ticks\":\"\",\"zerolinecolor\":\"white\",\"gridwidth\":2},\"yaxis\":{\"backgroundcolor\":\"#E5ECF6\",\"gridcolor\":\"white\",\"linecolor\":\"white\",\"showbackground\":true,\"ticks\":\"\",\"zerolinecolor\":\"white\",\"gridwidth\":2},\"zaxis\":{\"backgroundcolor\":\"#E5ECF6\",\"gridcolor\":\"white\",\"linecolor\":\"white\",\"showbackground\":true,\"ticks\":\"\",\"zerolinecolor\":\"white\",\"gridwidth\":2}},\"shapedefaults\":{\"line\":{\"color\":\"#2a3f5f\"}},\"annotationdefaults\":{\"arrowcolor\":\"#2a3f5f\",\"arrowhead\":0,\"arrowwidth\":1},\"geo\":{\"bgcolor\":\"white\",\"landcolor\":\"#E5ECF6\",\"subunitcolor\":\"white\",\"showland\":true,\"showlakes\":true,\"lakecolor\":\"white\"},\"title\":{\"x\":0.05},\"mapbox\":{\"style\":\"light\"}}}},                        {\"responsive\": true}                    ).then(function(){\n",
       "                            \n",
       "var gd = document.getElementById('5543b7a8-0dba-4fe5-88e5-a53daa79003b');\n",
       "var x = new MutationObserver(function (mutations, observer) {{\n",
       "        var display = window.getComputedStyle(gd).display;\n",
       "        if (!display || display === 'none') {{\n",
       "            console.log([gd, 'removed!']);\n",
       "            Plotly.purge(gd);\n",
       "            observer.disconnect();\n",
       "        }}\n",
       "}});\n",
       "\n",
       "// Listen for the removal of the full notebook cells\n",
       "var notebookContainer = gd.closest('#notebook-container');\n",
       "if (notebookContainer) {{\n",
       "    x.observe(notebookContainer, {childList: true});\n",
       "}}\n",
       "\n",
       "// Listen for the clearing of the current output cell\n",
       "var outputEl = gd.closest('.output');\n",
       "if (outputEl) {{\n",
       "    x.observe(outputEl, {childList: true});\n",
       "}}\n",
       "\n",
       "                        })                };                });            </script>        </div>"
      ]
     },
     "metadata": {},
     "output_type": "display_data"
    }
   ],
   "source": [
    "fig = go.Figure(data = candle_data , layout=layout)\n",
    "\n",
    "fig.update_layout(xaxis_rangeslider_visible = False)\n",
    "fig.show()"
   ]
  },
  {
   "cell_type": "code",
   "execution_count": null,
   "id": "938a453e",
   "metadata": {},
   "outputs": [],
   "source": []
  },
  {
   "cell_type": "markdown",
   "id": "a8f54ccf",
   "metadata": {},
   "source": [
    " Analysing closing price (on normal scale & log-scale)"
   ]
  },
  {
   "cell_type": "code",
   "execution_count": 31,
   "id": "a6a89da1",
   "metadata": {},
   "outputs": [
    {
     "data": {
      "text/plain": [
       "0        134.21\n",
       "1        144.54\n",
       "2        139.00\n",
       "3        116.99\n",
       "4        105.21\n",
       "         ...   \n",
       "1551    2671.78\n",
       "1552    2809.01\n",
       "1553    2726.45\n",
       "1554    2757.18\n",
       "1555    2875.34\n",
       "Name: Close, Length: 1556, dtype: float64"
      ]
     },
     "execution_count": 31,
     "metadata": {},
     "output_type": "execute_result"
    }
   ],
   "source": [
    "data['Close']"
   ]
  },
  {
   "cell_type": "code",
   "execution_count": 60,
   "id": "a811bc62",
   "metadata": {},
   "outputs": [
    {
     "data": {
      "image/png": "[encoded data removed]",
      "text/plain": [
       "<Figure size 864x432 with 1 Axes>"
      ]
     },
     "metadata": {},
     "output_type": "display_data"
    }
   ],
   "source": [
    "import pandas as pd\n",
    "import matplotlib.pyplot as plt\n",
    "\n",
    "\n",
    "\n",
    "plt.figure(figsize=(12, 6))\n",
    "plt.plot(data.index, data['Close'], color='blue', linestyle='-', linewidth=2)\n",
    "\n",
    "plt.grid(True, which='both', linestyle='--', alpha=0.5)\n",
    "\n",
    "plt.xlabel('Date')\n",
    "plt.ylabel('Closing Price')\n",
    "plt.title('Stock Closing Price', fontsize=16, fontweight='bold')\n",
    "\n",
    "plt.xticks(rotation=45, ha='right')\n",
    "\n",
    "plt.tight_layout()\n",
    "plt.show()\n"
   ]
  },
  {
   "cell_type": "markdown",
   "id": "8b0f6920",
   "metadata": {},
   "source": [
    "### The above plot provides a graphical representation of the asset's price fluctuations and helps identify trends or patterns in the closing price"
   ]
  },
  {
   "cell_type": "code",
   "execution_count": null,
   "id": "5d191052",
   "metadata": {},
   "outputs": [],
   "source": []
  },
  {
   "cell_type": "code",
   "execution_count": null,
   "id": "4dfcf007",
   "metadata": {},
   "outputs": [],
   "source": [
    "data.set_index('Date' , inplace=True)"
   ]
  },
  {
   "cell_type": "code",
   "execution_count": null,
   "id": "53ca7784",
   "metadata": {},
   "outputs": [],
   "source": [
    "data"
   ]
  },
  {
   "cell_type": "code",
   "execution_count": null,
   "id": "50ffa309",
   "metadata": {},
   "outputs": [],
   "source": [
    "data['Close'].plot()"
   ]
  },
  {
   "cell_type": "code",
   "execution_count": null,
   "id": "f926f3b9",
   "metadata": {},
   "outputs": [],
   "source": []
  },
  {
   "cell_type": "code",
   "execution_count": 64,
   "id": "f2a1a2f7",
   "metadata": {},
   "outputs": [
    {
     "data": {
      "image/png": "[encoded data removed]",
      "text/plain": [
       "<Figure size 864x432 with 1 Axes>"
      ]
     },
     "metadata": {},
     "output_type": "display_data"
    }
   ],
   "source": [
    "import pandas as pd\n",
    "import numpy as np\n",
    "import matplotlib.pyplot as plt\n",
    "import seaborn as sns\n",
    "\n",
    "\n",
    "sns.set_style(\"whitegrid\")\n",
    "\n",
    "plt.figure(figsize=(12, 6))\n",
    "\n",
    "log_transformed_close = np.log1p(data['Close'])\n",
    "\n",
    "sns.lineplot(data=log_transformed_close, color='green')\n",
    "\n",
    "plt.grid(True, which='both', linestyle='--', alpha=0.5)\n",
    "\n",
    "plt.xlabel('Date')\n",
    "plt.ylabel('Logarithmic Closing Price')\n",
    "plt.title('Logarithmic Transformation of Stock Closing Price', fontsize=16, fontweight='bold')\n",
    "\n",
    "plt.xticks(rotation=45, ha='right')\n",
    "\n",
    "plt.tight_layout()\n",
    "plt.show()\n"
   ]
  },
  {
   "cell_type": "code",
   "execution_count": null,
   "id": "3bfbeae4",
   "metadata": {},
   "outputs": [],
   "source": []
  },
  {
   "cell_type": "code",
   "execution_count": 59,
   "id": "1f8488ad",
   "metadata": {},
   "outputs": [
    {
     "data": {
      "image/png": "[encoded data removed]",
      "text/plain": [
       "<Figure size 1440x432 with 2 Axes>"
      ]
     },
     "metadata": {},
     "output_type": "display_data"
    }
   ],
   "source": [
    "import pandas as pd\n",
    "import numpy as np\n",
    "import matplotlib.pyplot as plt\n",
    "import seaborn as sns\n",
    "\n",
    "\n",
    "\n",
    "sns.set_style(\"whitegrid\")\n",
    "\n",
    "plt.figure(figsize=(20, 6))\n",
    "\n",
    "plt.subplot(1, 2, 1)\n",
    "sns.lineplot(data=data['Close'], color='blue')\n",
    "plt.title('No Scaling', fontsize=16)\n",
    "\n",
    "plt.subplot(1, 2, 2)\n",
    "sns.lineplot(data=np.log1p(data['Close']), color='orange')\n",
    "plt.title('Log Scaling', fontsize=16)\n",
    "plt.yscale('log')\n",
    "\n",
    "plt.tight_layout()\n",
    "plt.show()\n"
   ]
  },
  {
   "cell_type": "code",
   "execution_count": null,
   "id": "2c7d56ef",
   "metadata": {},
   "outputs": [],
   "source": []
  },
  {
   "cell_type": "markdown",
   "id": "fc9c15e8",
   "metadata": {},
   "source": [
    " Analyse closing Price on Yearly , Quarterly , monthly basis !"
   ]
  },
  {
   "cell_type": "code",
   "execution_count": 36,
   "id": "ba741d13",
   "metadata": {},
   "outputs": [
    {
     "data": {
      "text/html": [
       "<div>\n",
       "<style scoped>\n",
       "    .dataframe tbody tr th:only-of-type {\n",
       "        vertical-align: middle;\n",
       "    }\n",
       "\n",
       "    .dataframe tbody tr th {\n",
       "        vertical-align: top;\n",
       "    }\n",
       "\n",
       "    .dataframe thead th {\n",
       "        text-align: right;\n",
       "    }\n",
       "</style>\n",
       "<table border=\"1\" class=\"dataframe\">\n",
       "  <thead>\n",
       "    <tr style=\"text-align: right;\">\n",
       "      <th></th>\n",
       "      <th>Date</th>\n",
       "      <th>Open</th>\n",
       "      <th>High</th>\n",
       "      <th>Low</th>\n",
       "      <th>Close</th>\n",
       "      <th>Volume</th>\n",
       "      <th>Market Cap</th>\n",
       "    </tr>\n",
       "  </thead>\n",
       "  <tbody>\n",
       "    <tr>\n",
       "      <th>0</th>\n",
       "      <td>2013-04-28</td>\n",
       "      <td>135.30</td>\n",
       "      <td>135.98</td>\n",
       "      <td>132.10</td>\n",
       "      <td>134.21</td>\n",
       "      <td>-</td>\n",
       "      <td>1,500,520,000</td>\n",
       "    </tr>\n",
       "    <tr>\n",
       "      <th>1</th>\n",
       "      <td>2013-04-29</td>\n",
       "      <td>134.44</td>\n",
       "      <td>147.49</td>\n",
       "      <td>134.00</td>\n",
       "      <td>144.54</td>\n",
       "      <td>-</td>\n",
       "      <td>1,491,160,000</td>\n",
       "    </tr>\n",
       "    <tr>\n",
       "      <th>2</th>\n",
       "      <td>2013-04-30</td>\n",
       "      <td>144.00</td>\n",
       "      <td>146.93</td>\n",
       "      <td>134.05</td>\n",
       "      <td>139.00</td>\n",
       "      <td>-</td>\n",
       "      <td>1,597,780,000</td>\n",
       "    </tr>\n",
       "    <tr>\n",
       "      <th>3</th>\n",
       "      <td>2013-05-01</td>\n",
       "      <td>139.00</td>\n",
       "      <td>139.89</td>\n",
       "      <td>107.72</td>\n",
       "      <td>116.99</td>\n",
       "      <td>-</td>\n",
       "      <td>1,542,820,000</td>\n",
       "    </tr>\n",
       "  </tbody>\n",
       "</table>\n",
       "</div>"
      ],
      "text/plain": [
       "        Date    Open    High     Low   Close Volume     Market Cap\n",
       "0 2013-04-28  135.30  135.98  132.10  134.21      -  1,500,520,000\n",
       "1 2013-04-29  134.44  147.49  134.00  144.54      -  1,491,160,000\n",
       "2 2013-04-30  144.00  146.93  134.05  139.00      -  1,597,780,000\n",
       "3 2013-05-01  139.00  139.89  107.72  116.99      -  1,542,820,000"
      ]
     },
     "execution_count": 36,
     "metadata": {},
     "output_type": "execute_result"
    }
   ],
   "source": [
    "data.head(4)"
   ]
  },
  {
   "cell_type": "code",
   "execution_count": 39,
   "id": "7796b194",
   "metadata": {},
   "outputs": [
    {
     "name": "stdout",
     "output_type": "stream",
     "text": [
      "Date\n",
      "2013-12-31     257.474476\n",
      "2014-12-31     527.236658\n",
      "2015-12-31     272.453260\n",
      "2016-12-31     568.492131\n",
      "2017-12-31    1628.622123\n",
      "Freq: A-DEC, Name: Close, dtype: float64\n"
     ]
    }
   ],
   "source": [
    "import pandas as pd\n",
    "\n",
    "\n",
    "\n",
    "data['Date'] = pd.to_datetime(data['Date'])\n",
    "\n",
    "data.set_index('Date', inplace=True)\n",
    "\n",
    "avg_price_yearly = data['Close'].resample('Y').mean()\n",
    "\n",
    "print(avg_price_yearly)"
   ]
  },
  {
   "cell_type": "code",
   "execution_count": 65,
   "id": "de79598a",
   "metadata": {},
   "outputs": [
    {
     "data": {
      "image/png": "[encoded data removed]",
      "text/plain": [
       "<Figure size 720x432 with 1 Axes>"
      ]
     },
     "metadata": {},
     "output_type": "display_data"
    }
   ],
   "source": [
    "import matplotlib.pyplot as plt\n",
    "\n",
    "\n",
    "resampled_data = data['Close'].resample('Y').mean()\n",
    "\n",
    "fig, ax = plt.subplots(figsize=(10, 6))\n",
    "\n",
    "ax.plot(resampled_data.index, resampled_data, color='blue', marker='o', linestyle='-', linewidth=2, label='Yearly Average Close')\n",
    "\n",
    "ax.set_title('Yearly Average Closing Price', fontsize=16)\n",
    "ax.set_xlabel('Year', fontsize=14)\n",
    "ax.set_ylabel('Average Close Price', fontsize=14)\n",
    "\n",
    "ax.grid(True)\n",
    "\n",
    "ax.legend(loc='upper left', fontsize=12)\n",
    "\n",
    "fig.autofmt_xdate()\n",
    "\n",
    "plt.tight_layout()\n",
    "plt.show()\n"
   ]
  },
  {
   "cell_type": "code",
   "execution_count": null,
   "id": "a86ae727",
   "metadata": {},
   "outputs": [],
   "source": []
  },
  {
   "cell_type": "code",
   "execution_count": 41,
   "id": "cfebbd60",
   "metadata": {},
   "outputs": [
    {
     "data": {
      "text/plain": [
       "Date\n",
       "2013-06-30     115.162187\n",
       "2013-09-30     111.291196\n",
       "2013-12-31     502.657609\n",
       "2014-03-31     700.586000\n",
       "2014-06-30     520.929341\n",
       "2014-09-30     534.055435\n",
       "2014-12-31     357.075761\n",
       "2015-03-31     251.209333\n",
       "2015-06-30     236.858022\n",
       "2015-09-30     254.859891\n",
       "2015-12-31     346.037065\n",
       "2016-03-31     410.728571\n",
       "2016-06-30     512.492747\n",
       "2016-09-30     615.702283\n",
       "2016-12-31     732.721413\n",
       "2017-03-31    1034.707444\n",
       "2017-06-30    1912.552198\n",
       "2017-09-30    2519.418387\n",
       "Freq: Q-DEC, Name: Close, dtype: float64"
      ]
     },
     "execution_count": 41,
     "metadata": {},
     "output_type": "execute_result"
    }
   ],
   "source": [
    "\n",
    "data['Close'].resample('Q').mean()"
   ]
  },
  {
   "cell_type": "code",
   "execution_count": 45,
   "id": "3e52332f",
   "metadata": {},
   "outputs": [
    {
     "data": {
      "image/png": "[encoded data removed]",
      "text/plain": [
       "<Figure size 864x432 with 1 Axes>"
      ]
     },
     "metadata": {
      "needs_background": "light"
     },
     "output_type": "display_data"
    }
   ],
   "source": [
    "import pandas as pd\n",
    "import matplotlib.pyplot as plt\n",
    "\n",
    "\n",
    "avg_price_quarterly = data['Close'].resample('Q').mean()\n",
    "\n",
    "plt.figure(figsize=(12, 6))\n",
    "plt.plot(avg_price_quarterly.index, avg_price_quarterly.values, color='orange', marker='o', linestyle='-', linewidth=2)\n",
    "\n",
    "plt.gca().set_facecolor('#f7f7f7')\n",
    "\n",
    "plt.grid(True, which='both', linestyle='--', alpha=0.5)\n",
    "\n",
    "# Adding labels and title\n",
    "plt.xlabel('Date')\n",
    "plt.ylabel('Average Closing Price')\n",
    "plt.title('Quarterly Average Closing Price of Bitcoin', fontsize=16, fontweight='bold')\n",
    "\n",
    "# Rotating x-axis labels for better readability\n",
    "plt.xticks(rotation=45, ha='right')\n",
    "\n",
    "# Changing the color of the marker edge and face\n",
    "plt.gca().get_lines()[0].set_markerfacecolor('blue')\n",
    "plt.gca().get_lines()[0].set_markeredgecolor('blue')\n",
    "\n",
    "# Show the plot\n",
    "plt.tight_layout()\n",
    "plt.show()\n"
   ]
  },
  {
   "cell_type": "code",
   "execution_count": 43,
   "id": "d90d2dc6",
   "metadata": {},
   "outputs": [
    {
     "data": {
      "text/plain": [
       "Date\n",
       "2013-04-30     139.250000\n",
       "2013-05-31     119.993226\n",
       "2013-06-30     107.761333\n",
       "2013-07-31      90.512258\n",
       "2013-08-31     113.905161\n",
       "2013-09-30     130.061667\n",
       "2013-10-31     158.311935\n",
       "2013-11-30     550.420667\n",
       "2013-12-31     800.780968\n",
       "2014-01-31     844.168387\n",
       "2014-02-28     661.618214\n",
       "2014-03-31     592.200323\n",
       "2014-04-30     461.362000\n",
       "2014-05-31     486.651290\n",
       "2014-06-30     615.917333\n",
       "2014-07-31     618.025484\n",
       "2014-08-31     536.087742\n",
       "2014-09-30     445.186333\n",
       "2014-10-31     364.150000\n",
       "2014-11-30     366.100000\n",
       "2014-12-31     341.268387\n",
       "2015-01-31     248.782581\n",
       "2015-02-28     234.153571\n",
       "2015-03-31     269.041290\n",
       "2015-04-30     235.491667\n",
       "2015-05-31     236.996774\n",
       "2015-06-30     238.081000\n",
       "2015-07-31     279.563871\n",
       "2015-08-31     250.734516\n",
       "2015-09-30     233.595333\n",
       "2015-10-31     264.855161\n",
       "2015-11-30     348.883333\n",
       "2015-12-31     424.464516\n",
       "2016-01-31     410.844516\n",
       "2016-02-29     404.408276\n",
       "2016-03-31     416.525161\n",
       "2016-04-30     434.339333\n",
       "2016-05-31     461.953871\n",
       "2016-06-30     642.869667\n",
       "2016-07-31     661.355484\n",
       "2016-08-31     579.585161\n",
       "2016-09-30     605.848333\n",
       "2016-10-31     643.550000\n",
       "2016-11-30     726.349000\n",
       "2016-12-31     828.059677\n",
       "2017-01-31     914.916452\n",
       "2017-02-28    1062.533214\n",
       "2017-03-31    1129.365484\n",
       "2017-04-30    1206.641000\n",
       "2017-05-31    1895.383548\n",
       "2017-06-30    2636.204333\n",
       "2017-07-31    2519.418387\n",
       "Freq: M, Name: Close, dtype: float64"
      ]
     },
     "execution_count": 43,
     "metadata": {},
     "output_type": "execute_result"
    }
   ],
   "source": [
    "## finding avg price of bitcoin on monthly basis ..\n",
    "\n",
    "data['Close'].resample('M').mean()"
   ]
  },
  {
   "cell_type": "code",
   "execution_count": 44,
   "id": "554514a3",
   "metadata": {},
   "outputs": [
    {
     "data": {
      "image/png": "[encoded data removed]",
      "text/plain": [
       "<Figure size 864x432 with 1 Axes>"
      ]
     },
     "metadata": {
      "needs_background": "light"
     },
     "output_type": "display_data"
    }
   ],
   "source": [
    "import pandas as pd\n",
    "import matplotlib.pyplot as plt\n",
    "\n",
    "# Assuming you have already loaded the DataFrame 'data' with Bitcoin price data\n",
    "# and the 'Date' column is in a datetime format\n",
    "\n",
    "# Resample the 'Close' column on a monthly basis and calculate the mean\n",
    "avg_price_monthly = data['Close'].resample('M').mean()\n",
    "\n",
    "# Create a more presentable plot\n",
    "plt.figure(figsize=(12, 6))\n",
    "plt.plot(avg_price_monthly.index, avg_price_monthly.values, color='b', marker='o', linestyle='-', linewidth=2)\n",
    "\n",
    "# Add grid lines\n",
    "plt.grid(True, which='both', linestyle='--', alpha=0.5)\n",
    "\n",
    "# Add labels and title\n",
    "plt.xlabel('Date')\n",
    "plt.ylabel('Average Closing Price')\n",
    "plt.title('Monthly Average Closing Price of Bitcoin')\n",
    "\n",
    "# Rotate x-axis labels for better readability\n",
    "plt.xticks(rotation=45, ha='right')\n",
    "\n",
    "# Show the plot\n",
    "plt.tight_layout()\n",
    "plt.show()\n"
   ]
  },
  {
   "cell_type": "code",
   "execution_count": null,
   "id": "1d0aa2e0",
   "metadata": {},
   "outputs": [],
   "source": []
  },
  {
   "cell_type": "markdown",
   "id": "73301bbc",
   "metadata": {},
   "source": [
    "Analysing Daily change in Closing price of stocks"
   ]
  },
  {
   "cell_type": "markdown",
   "id": "b1cf1c85",
   "metadata": {},
   "source": [
    "To calculate the daily stock return, i have found the difference between the closing price and the opening price of the stock. Next, multiply this difference by the number of shares you own in the company"
   ]
  },
  {
   "cell_type": "code",
   "execution_count": 48,
   "id": "c8b5bfec",
   "metadata": {},
   "outputs": [
    {
     "data": {
      "text/plain": [
       "Date\n",
       "2013-04-28     134.21\n",
       "2013-04-29     144.54\n",
       "2013-04-30     139.00\n",
       "2013-05-01     116.99\n",
       "2013-05-02     105.21\n",
       "               ...   \n",
       "2017-07-27    2671.78\n",
       "2017-07-28    2809.01\n",
       "2017-07-29    2726.45\n",
       "2017-07-30    2757.18\n",
       "2017-07-31    2875.34\n",
       "Name: Close, Length: 1556, dtype: float64"
      ]
     },
     "execution_count": 48,
     "metadata": {},
     "output_type": "execute_result"
    }
   ],
   "source": [
    "data['Close']"
   ]
  },
  {
   "cell_type": "code",
   "execution_count": null,
   "id": "1cc07614",
   "metadata": {},
   "outputs": [],
   "source": []
  },
  {
   "cell_type": "code",
   "execution_count": 49,
   "id": "55df48a4",
   "metadata": {},
   "outputs": [],
   "source": [
    "data['Close_price_pct_change'] = data['Close'].pct_change()*100"
   ]
  },
  {
   "cell_type": "code",
   "execution_count": 50,
   "id": "c2350dc5",
   "metadata": {},
   "outputs": [
    {
     "data": {
      "text/plain": [
       "Date\n",
       "2013-04-28          NaN\n",
       "2013-04-29     7.696893\n",
       "2013-04-30    -3.832849\n",
       "2013-05-01   -15.834532\n",
       "2013-05-02   -10.069237\n",
       "                ...    \n",
       "2017-07-27     5.626915\n",
       "2017-07-28     5.136276\n",
       "2017-07-29    -2.939114\n",
       "2017-07-30     1.127107\n",
       "2017-07-31     4.285538\n",
       "Name: Close_price_pct_change, Length: 1556, dtype: float64"
      ]
     },
     "execution_count": 50,
     "metadata": {},
     "output_type": "execute_result"
    }
   ],
   "source": [
    "data['Close_price_pct_change']"
   ]
  },
  {
   "cell_type": "code",
   "execution_count": 52,
   "id": "5fdb6a32",
   "metadata": {},
   "outputs": [
    {
     "data": {
      "image/png": "[encoded data removed]",
      "text/plain": [
       "<Figure size 864x432 with 1 Axes>"
      ]
     },
     "metadata": {
      "needs_background": "light"
     },
     "output_type": "display_data"
    }
   ],
   "source": [
    "import pandas as pd\n",
    "import matplotlib.pyplot as plt\n",
    "\n",
    "# Assuming you have already loaded the DataFrame 'data' with the percentage change in the closing price\n",
    "\n",
    "# Create a more attractive plot\n",
    "plt.figure(figsize=(12, 6))\n",
    "plt.plot(data.index, data['Close_price_pct_change'], color='green', marker='o', linestyle='-', linewidth=2)\n",
    "\n",
    "# Adding a horizontal line at y=0 for reference (indicating no change)\n",
    "plt.axhline(y=0, color='grey', linestyle='--')\n",
    "\n",
    "# Adding grid lines with a dashed style and reduced opacity\n",
    "plt.grid(True, which='both', linestyle='--', alpha=0.5)\n",
    "\n",
    "# Adding labels and title\n",
    "plt.xlabel('Date')\n",
    "plt.ylabel('Percentage Change in Closing Price')\n",
    "plt.title('Daily Percentage Change in Closing Price of Stock', fontsize=16, fontweight='bold')\n",
    "\n",
    "# Rotating x-axis labels for better readability\n",
    "plt.xticks(rotation=45, ha='right')\n",
    "\n",
    "# Changing the color of the marker edge and face\n",
    "plt.gca().get_lines()[0].set_markerfacecolor('blue')\n",
    "plt.gca().get_lines()[0].set_markeredgecolor('blue')\n",
    "\n",
    "# Show the plot\n",
    "plt.tight_layout()\n",
    "plt.show()\n"
   ]
  },
  {
   "cell_type": "code",
   "execution_count": null,
   "id": "8604eeba",
   "metadata": {},
   "outputs": [],
   "source": []
  }
 ],
 "metadata": {
  "kernelspec": {
   "display_name": "Python 3",
   "language": "python",
   "name": "python3"
  },
  "language_info": {
   "codemirror_mode": {
    "name": "ipython",
    "version": 3
   },
   "file_extension": ".py",
   "mimetype": "text/x-python",
   "name": "python",
   "nbconvert_exporter": "python",
   "pygments_lexer": "ipython3",
   "version": "3.8.8"
  }
 },
 "nbformat": 4,
 "nbformat_minor": 5
}
